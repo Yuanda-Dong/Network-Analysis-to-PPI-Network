{
 "cells": [
  {
   "cell_type": "code",
   "execution_count": 1,
   "metadata": {},
   "outputs": [
    {
     "ename": "ModuleNotFoundError",
     "evalue": "No module named 'community'",
     "output_type": "error",
     "traceback": [
      "\u001b[0;31m---------------------------------------------------------------------------\u001b[0m",
      "\u001b[0;31mModuleNotFoundError\u001b[0m                       Traceback (most recent call last)",
      "\u001b[0;32m<ipython-input-1-401d31d0c793>\u001b[0m in \u001b[0;36m<module>\u001b[0;34m\u001b[0m\n\u001b[1;32m     22\u001b[0m \u001b[0;32mfrom\u001b[0m \u001b[0mnetworkx\u001b[0m\u001b[0;34m.\u001b[0m\u001b[0malgorithms\u001b[0m\u001b[0;34m.\u001b[0m\u001b[0mcommunity\u001b[0m \u001b[0;32mimport\u001b[0m \u001b[0mk_clique_communities\u001b[0m\u001b[0;34m\u001b[0m\u001b[0;34m\u001b[0m\u001b[0m\n\u001b[1;32m     23\u001b[0m \u001b[0;34m\u001b[0m\u001b[0m\n\u001b[0;32m---> 24\u001b[0;31m \u001b[0;32mfrom\u001b[0m \u001b[0mcommunity\u001b[0m \u001b[0;32mimport\u001b[0m \u001b[0mcommunity_louvain\u001b[0m\u001b[0;34m\u001b[0m\u001b[0;34m\u001b[0m\u001b[0m\n\u001b[0m\u001b[1;32m     25\u001b[0m \u001b[0;34m\u001b[0m\u001b[0m\n\u001b[1;32m     26\u001b[0m \u001b[0;32mimport\u001b[0m \u001b[0mscipy\u001b[0m\u001b[0;34m.\u001b[0m\u001b[0msparse\u001b[0m\u001b[0;34m.\u001b[0m\u001b[0mlinalg\u001b[0m\u001b[0;34m\u001b[0m\u001b[0;34m\u001b[0m\u001b[0m\n",
      "\u001b[0;31mModuleNotFoundError\u001b[0m: No module named 'community'"
     ]
    }
   ],
   "source": [
    "%matplotlib inline\n",
    "import sys\n",
    "import matplotlib.pyplot as plt\n",
    "import matplotlib.cm as cm\n",
    "import numpy as np\n",
    "import scipy as sp\n",
    "\n",
    "# Data reading\n",
    "import pandas as pd\n",
    "import csv\n",
    "import pickle\n",
    "\n",
    "# Ignore warnings\n",
    "import warnings\n",
    "warnings.filterwarnings('ignore')\n",
    "\n",
    "# networkx\n",
    "\n",
    "import networkx as nx\n",
    "from networkx.algorithms import community\n",
    "from networkx.algorithms.community import greedy_modularity_communities\n",
    "from networkx.algorithms.community import k_clique_communities\n",
    "\n",
    "from community import community_louvain\n",
    "\n",
    "import scipy.sparse.linalg"
   ]
  },
  {
   "cell_type": "code",
   "execution_count": 6,
   "metadata": {
    "tags": []
   },
   "outputs": [
    {
     "name": "stdout",
     "output_type": "stream",
     "text": [
      "number of nodes of G: 6574\n",
      "number of edges of G: 922983\n"
     ]
    }
   ],
   "source": [
    "# Read networks from file\n",
    "#G_CDC28=nx.read_weighted_edgelist(\"./../Data/4932_protein_links_v11_0.txt\",comments=\"#\",nodetype=str)\n",
    "G_CLB1=nx.read_weighted_edgelist(\"4932.protein.links.v11.0.txt\",comments=\"#\",nodetype=str)\n",
    "\n",
    "print('number of nodes of G:',nx.number_of_nodes(G_CLB1))\n",
    "print('number of edges of G:',nx.number_of_edges(G_CLB1))"
   ]
  },
  {
   "cell_type": "code",
   "execution_count": 7,
   "metadata": {
    "tags": []
   },
   "outputs": [
    {
     "name": "stdout",
     "output_type": "stream",
     "text": [
      "number of nodes of the full G: 6574\n",
      "number of edges of the full G: 922983\n",
      "Is the full G connected? False\n",
      "How many connected subgraphs are there? 4\n",
      "number of nodes of restricted G: 6099\n",
      "number of edges of restricted G: 118661\n"
     ]
    }
   ],
   "source": [
    "# Choose the network to be analyzed below\n",
    "G0=G_CLB1\n",
    "\n",
    "print('number of nodes of the full G:',len(G0.nodes))\n",
    "print('number of edges of the full G:',nx.number_of_edges(G0))\n",
    "print('Is the full G connected?',nx.connected.is_connected(G0))\n",
    "print('How many connected subgraphs are there?',nx.connected.number_connected_components(G0))\n",
    "\n",
    "# delete those edges with a combined score of <= thershold_score (small confidence)\n",
    "threshold_score = 700\n",
    "#threshold_score = 0\n",
    "\n",
    "for edge in G0.edges: \n",
    "    G0.get_edge_data(edge[0],edge[1])\n",
    "    weight = list(G0.get_edge_data(edge[0],edge[1]).values())\n",
    "    #print('qwe',weight[0])\n",
    "    if(weight[0] <= threshold_score):\n",
    "        G0.remove_edge(edge[0],edge[1])\n",
    "\n",
    "# restrict to largest connected component\n",
    "largest_cc = max(nx.connected_components(G0),key=len)\n",
    "G0=G0.subgraph(largest_cc)\n",
    "print('number of nodes of restricted G:',len(G0.nodes))\n",
    "print('number of edges of restricted G:',nx.number_of_edges(G0))\n",
    "\n",
    "# randomize according to degree-preserving Maslov-Sneppen algorithm\n",
    "# G0_randomized = nx.random_reference(G0,connectivity=True) \n"
   ]
  },
  {
   "cell_type": "code",
   "execution_count": 8,
   "metadata": {
    "tags": []
   },
   "outputs": [],
   "source": [
    "node_target = '4932.YGR108W' # CyclinD Homolog: CLB1"
   ]
  },
  {
   "cell_type": "code",
   "execution_count": 10,
   "metadata": {
    "tags": []
   },
   "outputs": [
    {
     "name": "stdout",
     "output_type": "stream",
     "text": [
      "139\n",
      "48\n",
      "['4932.YGR108W', '4932.YBR160W', '4932.YPR119W', '4932.YPR120C', '4932.YPL209C', '4932.YLR210W', '4932.YDL155W', '4932.YJL194W', '4932.YGL003C', '4932.YLL039C', '4932.YKR094C', '4932.YLR167W', '4932.YBR135W', '4932.YGL048C', '4932.YGR135W', '4932.YHR027C', '4932.YKL145W', '4932.YER021W', '4932.YIL075C', '4932.YGL011C', '4932.YML092C', '4932.YDL007W', '4932.YDR427W', '4932.YDL097C', '4932.YDR328C', '4932.YIL007C', '4932.YOL038W', '4932.YGR253C', '4932.YHR200W', '4932.YOR157C', '4932.YPR103W', '4932.YDL132W', '4932.YDR394W', '4932.YMR314W', '4932.YOR362C', '4932.YBL041W', '4932.YGR232W', '4932.YFR052W', '4932.YOR117W', '4932.YFR050C', '4932.YOR261C', '4932.YPR108W', '4932.YFR004W', '4932.YOR259C', '4932.YER094C', '4932.YJL001W', '4932.YER012W', '4932.YDL147W']\n"
     ]
    }
   ],
   "source": [
    "nodes = ['4932.YGR108W']\n",
    "for edge in G0.edges:\n",
    "    if(edge[0] == node_target):\n",
    "        nodes.append(edge[1])\n",
    "    if(edge[1] == node_target):\n",
    "        nodes.append(edge[0])\n",
    "sub = G0.subgraph(nodes)\n",
    "print(nx.number_of_nodes(sub)) #Returns the number of nodes in this subgraph.\n",
    "l = nx.algorithms.clique.cliques_containing_node(sub,'4932.YGR108W')\n",
    "l = max(l,key=len)\n",
    "print(len(l)) \n",
    "print(l)\n",
    "#Cliques_containing_node: Returns a list of cliques containing the given node.\n",
    "#Returns a single list or list of lists depending on input nodes. Optional list of cliques can be input if already computed."
   ]
  },
  {
   "cell_type": "code",
   "execution_count": 10,
   "metadata": {
    "tags": []
   },
   "outputs": [
    {
     "name": "stdout",
     "output_type": "stream",
     "text": [
      "number of nodes of G: 6574\n",
      "number of edges of G: 922983\n"
     ]
    }
   ],
   "source": [
    "# Read networks from file\n",
    "#G_CDC28=nx.read_weighted_edgelist(\"./../Data/4932_protein_links_v11_0.txt\",comments=\"#\",nodetype=str)\n",
    "G_CDC28=nx.read_weighted_edgelist(\"4932.protein.links.v11.0.txt\",comments=\"#\",nodetype=str)\n",
    "\n",
    "print('number of nodes of G:',nx.number_of_nodes(G_CDC28))\n",
    "print('number of edges of G:',nx.number_of_edges(G_CDC28))"
   ]
  },
  {
   "cell_type": "code",
   "execution_count": 7,
   "metadata": {
    "tags": []
   },
   "outputs": [
    {
     "name": "stdout",
     "output_type": "stream",
     "text": [
      "48\n",
      "['4932.YJL194W', '4932.YBR160W', '4932.YPR119W', '4932.YGR108W', '4932.YDL155W', '4932.YLR210W', '4932.YPR120C', '4932.YPL209C', '4932.YGL003C', '4932.YBR135W', '4932.YLL039C', '4932.YLR167W', '4932.YKR094C', '4932.YDL097C', '4932.YFR004W', '4932.YDR427W', '4932.YJL001W', '4932.YOR261C', '4932.YGL011C', '4932.YDL147W', '4932.YIL075C', '4932.YGL048C', '4932.YER094C', '4932.YDR328C', '4932.YHR200W', '4932.YER012W', '4932.YFR050C', '4932.YOR362C', '4932.YOR157C', '4932.YGR253C', '4932.YPR108W', '4932.YPR103W', '4932.YDR394W', '4932.YER021W', '4932.YOR117W', '4932.YKL145W', '4932.YMR314W', '4932.YBL041W', '4932.YOR259C', '4932.YHR027C', '4932.YFR052W', '4932.YGR135W', '4932.YOL038W', '4932.YIL007C', '4932.YDL132W', '4932.YML092C', '4932.YGR232W', '4932.YDL007W']\n"
     ]
    }
   ],
   "source": [
    "G0 = G_CDC6\n",
    "nodes = l[:]\n",
    "for node in G0.nodes:\n",
    "    flag = True  \n",
    "    for n in nodes:\n",
    "        if not G0.has_edge(node, n):\n",
    "            flag = False \n",
    "    if flag == True:\n",
    "        nodes.append(node)\n",
    "print(len(nodes))\n",
    "print(nodes)\n",
    "        "
   ]
  },
  {
   "cell_type": "code",
   "execution_count": 19,
   "metadata": {
    "tags": []
   },
   "outputs": [
    {
     "name": "stdout",
     "output_type": "stream",
     "text": [
      "51\n",
      "51\n",
      "['4932.YPR119W', '4932.YDR328C', '4932.YIL046W', '4932.YDL147W', '4932.YOL038W', '4932.YDL097C', '4932.YFR050C', '4932.YLR167W', '4932.YER094C', '4932.YLR210W', '4932.YIL007C', '4932.YOR362C', '4932.YML092C', '4932.YBR135W', '4932.YOR117W', '4932.YGR135W', '4932.YLL039C', '4932.YPR108W', '4932.YDR394W', '4932.YER021W', '4932.YKR094C', '4932.YPR120C', '4932.YMR314W', '4932.YGR109C', '4932.YGR232W', '4932.YFR052W', '4932.YOR259C', '4932.YIL075C', '4932.YGL048C', '4932.YDL155W', '4932.YOR157C', '4932.YGR253C', '4932.YFR004W', '4932.YBR160W', '4932.YGL003C', '4932.YDL007W', '4932.YDL132W', '4932.YOR261C', '4932.YJL194W', '4932.YGR108W', '4932.YER012W', '4932.YGL011C', '4932.YPL209C', '4932.YHR027C', '4932.YJL001W', '4932.YHR200W', '4932.YPR103W', '4932.YMR036C', '4932.YBL041W', '4932.YKL145W', '4932.YDR427W']\n"
     ]
    }
   ],
   "source": [
    "sub = G0.subgraph(nodes)\n",
    "print(nx.number_of_nodes(sub))\n",
    "l1 = nx.algorithms.clique.cliques_containing_node(sub,'4932.YBR160W')\n",
    "l1 = max(l1,key=len)\n",
    "print(len(l1))\n",
    "print(l1)"
   ]
  },
  {
   "cell_type": "code",
   "execution_count": null,
   "metadata": {},
   "outputs": [],
   "source": []
  }
 ],
 "metadata": {
  "kernelspec": {
   "display_name": "Python 3",
   "language": "python",
   "name": "python3"
  },
  "language_info": {
   "codemirror_mode": {
    "name": "ipython",
    "version": 3
   },
   "file_extension": ".py",
   "mimetype": "text/x-python",
   "name": "python",
   "nbconvert_exporter": "python",
   "pygments_lexer": "ipython3",
   "version": "3.7.6"
  }
 },
 "nbformat": 4,
 "nbformat_minor": 4
}
