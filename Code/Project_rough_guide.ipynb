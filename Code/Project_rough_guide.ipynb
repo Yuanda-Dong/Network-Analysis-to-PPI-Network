{
 "cells": [
  {
   "cell_type": "code",
   "execution_count": 1,
   "metadata": {},
   "outputs": [],
   "source": [
    "%matplotlib inline\n",
    "import sys\n",
    "import matplotlib.pyplot as plt\n",
    "import matplotlib.cm as cm\n",
    "import numpy as np\n",
    "import scipy as sp\n",
    "\n",
    "# Data reading\n",
    "import pandas as pd\n",
    "import csv\n",
    "import pickle\n",
    "\n",
    "# Ignore warnings\n",
    "import warnings\n",
    "warnings.filterwarnings('ignore')\n",
    "\n",
    "# networkx\n",
    "\n",
    "import networkx as nx\n",
    "from networkx.algorithms import community\n",
    "from networkx.algorithms.community import greedy_modularity_communities\n",
    "from networkx.algorithms.community import k_clique_communities\n",
    "\n",
    "from community import community_louvain\n",
    "\n",
    "import scipy.sparse.linalg"
   ]
  },
  {
   "cell_type": "markdown",
   "metadata": {},
   "source": [
    "### Protein-protein interaction networks\n",
    "\n",
    "The protein-protein interaction network of Yeast *saccharomyces cerevisiae* has more than $6,000$ proteins. Proteins form physical complexes of $5$-$50$ proteins and there are roughly $100$-$200$ functional communities. \n",
    "\n",
    "The gene CDC28 (*standard name*) is also called YOL068C (*systematic name*)\n",
    "\n",
    "See https://www.yeastgenome.org for details; the data can be dowloaded from https://string-db.org/cgi/network.pl?taskId=nhiAd00Ggrzi\n",
    "\n",
    "Thanks to Eduardo Altmann for sharing his Jupyter notebooks from which we have shamelessly copied"
   ]
  },
  {
   "cell_type": "markdown",
   "metadata": {},
   "source": [
    "# I. Read in networks "
   ]
  },
  {
   "cell_type": "code",
   "execution_count": 2,
   "metadata": {
    "tags": []
   },
   "outputs": [
    {
     "output_type": "stream",
     "name": "stdout",
     "text": [
      "number of nodes of G: 6574\nnumber of edges of G: 922983\n"
     ]
    }
   ],
   "source": [
    "# Read networks from file\n",
    "#G_CDC28=nx.read_weighted_edgelist(\"./../Data/4932_protein_links_v11_0.txt\",comments=\"#\",nodetype=str)\n",
    "G_CDC28=nx.read_weighted_edgelist(\"4932.protein.links.v11.0.txt\",comments=\"#\",nodetype=str)\n",
    "\n",
    "print('number of nodes of G:',nx.number_of_nodes(G_CDC28))\n",
    "print('number of edges of G:',nx.number_of_edges(G_CDC28))"
   ]
  },
  {
   "cell_type": "code",
   "execution_count": 8,
   "metadata": {
    "tags": []
   },
   "outputs": [
    {
     "output_type": "stream",
     "name": "stdout",
     "text": [
      "The target node has 1401 links\n"
     ]
    }
   ],
   "source": [
    "node_target = '4932.YBR160W' #CDC28\n",
    "print('The target node has %i links'%G_CDC28.degree(node_target))"
   ]
  },
  {
   "cell_type": "code",
   "execution_count": 3,
   "metadata": {
    "tags": []
   },
   "outputs": [
    {
     "output_type": "stream",
     "name": "stdout",
     "text": [
      "number of nodes of the full G: 6574\n",
      "number of edges of the full G: 922983\n",
      "Is the full G connected? False\n",
      "How many connected subgraphs are there? 4\n",
      "number of nodes of restricted G: 6099\n",
      "number of edges of restricted G: 118661\n"
     ]
    }
   ],
   "source": [
    "# Choose the network to be analyzed below\n",
    "G0=G_CDC28\n",
    "\n",
    "print('number of nodes of the full G:',len(G0.nodes))\n",
    "print('number of edges of the full G:',nx.number_of_edges(G0))\n",
    "print('Is the full G connected?',nx.connected.is_connected(G0))\n",
    "print('How many connected subgraphs are there?',nx.connected.number_connected_components(G0))\n",
    "\n",
    "# delete those edges with a combined score of <= thershold_score (small confidence)\n",
    "threshold_score = 700\n",
    "#threshold_score = 0\n",
    "\n",
    "for edge in G0.edges: \n",
    "    G0.get_edge_data(edge[0],edge[1])\n",
    "    weight = list(G0.get_edge_data(edge[0],edge[1]).values())\n",
    "    #print('qwe',weight[0])\n",
    "    if(weight[0] <= threshold_score):\n",
    "        G0.remove_edge(edge[0],edge[1])\n",
    "\n",
    "# restrict to largest connected component\n",
    "largest_cc = max(nx.connected_components(G0),key=len)\n",
    "G0=G0.subgraph(largest_cc)\n",
    "print('number of nodes of restricted G:',len(G0.nodes))\n",
    "print('number of edges of restricted G:',nx.number_of_edges(G0))\n",
    "\n",
    "# randomize according to degree-preserving Maslov-Sneppen algorithm\n",
    "# G0_randomized = nx.random_reference(G0,connectivity=True) \n"
   ]
  },
  {
   "cell_type": "markdown",
   "metadata": {},
   "source": [
    "# II.  Community detection"
   ]
  },
  {
   "cell_type": "code",
   "execution_count": 10,
   "metadata": {},
   "outputs": [],
   "source": [
    "def partToList(part):\n",
    "    '''Print partition as a list'''\n",
    "    N=0\n",
    "    for b in range(len(part)):\n",
    "        N=N+len(part[b])\n",
    "    listP=np.zeros(N)\n",
    "    for b in range(len(part)):\n",
    "        for n in part[b]:\n",
    "            listP[n]=b\n",
    "    return(listP)\n",
    "\n",
    "def partToList_for_strings(part,G):\n",
    "    '''Print partition as a list'''\n",
    "    N=0\n",
    "    for b in range(len(part)):\n",
    "        N=N+len(part[b])\n",
    "    listP=np.zeros(N)\n",
    "    for b in range(len(part)):\n",
    "        for n in part[b]:\n",
    "            ind_n = list(G.nodes).index(n)\n",
    "            listP[ind_n]=b\n",
    "    return(listP)"
   ]
  },
  {
   "cell_type": "markdown",
   "metadata": {},
   "source": [
    "## II a. Spectral methods"
   ]
  },
  {
   "cell_type": "markdown",
   "metadata": {},
   "source": [
    "## Modularity"
   ]
  },
  {
   "cell_type": "code",
   "execution_count": 11,
   "metadata": {
    "tags": []
   },
   "outputs": [
    {
     "output_type": "stream",
     "name": "stdout",
     "text": [
      "lambda_mod= [132.75162033  73.08658256  68.96310303  65.40152253  59.47147851]\n"
     ]
    }
   ],
   "source": [
    "G0_mod = nx.modularity_matrix(G0, nodelist=None, weight=None)\n",
    "\n",
    "# modularity (is numpy.matrix)\n",
    "EVal, EVec = np.linalg.eig(G0_mod)\n",
    "idx = np.argsort(EVal)\n",
    "idx = idx[::-1]\n",
    "EVal_mod = EVal.real[idx]\n",
    "EVec_mod = EVec[:,idx]\n",
    "print('lambda_mod=',EVal_mod[1:6])"
   ]
  },
  {
   "cell_type": "code",
   "execution_count": 12,
   "metadata": {},
   "outputs": [],
   "source": [
    "partClub = np.sign(EVec_mod.real[:,0])\n",
    "ind_neg = [i for i in range(len(partClub)) if partClub[i]<0] \n",
    "ind_pos = [i for i in range(len(partClub)) if partClub[i]>0] \n",
    "partClub = (ind_neg,ind_pos)"
   ]
  },
  {
   "cell_type": "markdown",
   "metadata": {},
   "source": [
    "## Random walk (almost invariant sets)"
   ]
  },
  {
   "cell_type": "code",
   "execution_count": 13,
   "metadata": {
    "tags": []
   },
   "outputs": [
    {
     "output_type": "stream",
     "name": "stdout",
     "text": [
      "lambda_Markov= [1.         0.97497165 0.96275612 0.96114214 0.94335489 0.9417598 ]\n"
     ]
    }
   ],
   "source": [
    "G0_Ad = nx.adjacency_matrix(G0, nodelist=None, weight=None)\n",
    "# adjacency matrix (is scipy.sparse.csr.csr_matrix)\n",
    "\n",
    "G0_D = G0_Ad.sum(axis=1)\n",
    "G0_D = sp.sparse.spdiags(G0_D.flatten(), [0], len(G0.nodes), len(G0.nodes), format='csr')\n",
    "G0_Markov = sp.sparse.linalg.inv(G0_D).dot(G0_Ad) # right eigenvector (expectation values)\n",
    "G0_Markov = G0_Ad.dot(sp.sparse.linalg.inv(G0_D)) # left eigenvector (density)\n",
    "\n",
    "# Markov matrix (is scipy.sparse.csr.csr_matrix)\n",
    "G0_Markov = G0_Markov.astype(float);\n",
    "EVal, EVec = sp.sparse.linalg.eigs(G0_Markov,k=6)\n",
    "idx = np.argsort(EVal)\n",
    "idx = idx[::-1]\n",
    "EVal_Markov = EVal.real[idx]\n",
    "EVec_Markov = EVec[:,idx]\n",
    "print('lambda_Markov=',EVal_Markov.real)"
   ]
  },
  {
   "cell_type": "code",
   "execution_count": 14,
   "metadata": {},
   "outputs": [],
   "source": [
    "partClub = np.sign(EVec_Markov.real[:,1])\n",
    "ind_neg = [i for i in range(len(partClub)) if partClub[i]<0] \n",
    "ind_pos = [i for i in range(len(partClub)) if partClub[i]>0] \n",
    "partClub = (ind_neg,ind_pos)"
   ]
  },
  {
   "cell_type": "markdown",
   "metadata": {},
   "source": [
    "## Graph Laplacian"
   ]
  },
  {
   "cell_type": "code",
   "execution_count": 4,
   "metadata": {
    "tags": []
   },
   "outputs": [
    {
     "output_type": "stream",
     "name": "stdout",
     "text": [
      "lambda_Lap= [-2.13355289e-14  1.53467561e-01  1.55249731e-01  1.72741735e-01\n  1.74432318e-01  1.95654714e-01  2.04886022e-01  2.51977519e-01\n  2.58276731e-01  2.68142580e-01  2.83601083e-01  2.90202059e-01\n  3.03660289e-01  3.10116967e-01  3.12830719e-01]\n"
     ]
    },
    {
     "output_type": "display_data",
     "data": {
      "text/plain": "<Figure size 432x288 with 1 Axes>",
      "image/svg+xml": "<?xml version=\"1.0\" encoding=\"utf-8\" standalone=\"no\"?>\n<!DOCTYPE svg PUBLIC \"-//W3C//DTD SVG 1.1//EN\"\n  \"http://www.w3.org/Graphics/SVG/1.1/DTD/svg11.dtd\">\n<!-- Created with matplotlib (https://matplotlib.org/) -->\n<svg height=\"262.19625pt\" version=\"1.1\" viewBox=\"0 0 392.14375 262.19625\" width=\"392.14375pt\" xmlns=\"http://www.w3.org/2000/svg\" xmlns:xlink=\"http://www.w3.org/1999/xlink\">\n <defs>\n  <style type=\"text/css\">\n*{stroke-linecap:butt;stroke-linejoin:round;}\n  </style>\n </defs>\n <g id=\"figure_1\">\n  <g id=\"patch_1\">\n   <path d=\"M 0 262.19625 \nL 392.14375 262.19625 \nL 392.14375 0 \nL 0 0 \nz\n\" style=\"fill:none;\"/>\n  </g>\n  <g id=\"axes_1\">\n   <g id=\"patch_2\">\n    <path d=\"M 50.14375 224.64 \nL 384.94375 224.64 \nL 384.94375 7.2 \nL 50.14375 7.2 \nz\n\" style=\"fill:#ffffff;\"/>\n   </g>\n   <g id=\"matplotlib.axis_1\">\n    <g id=\"xtick_1\">\n     <g id=\"line2d_1\">\n      <defs>\n       <path d=\"M 0 0 \nL 0 3.5 \n\" id=\"mf7630db5d1\" style=\"stroke:#000000;stroke-width:0.8;\"/>\n      </defs>\n      <g>\n       <use style=\"stroke:#000000;stroke-width:0.8;\" x=\"65.361932\" xlink:href=\"#mf7630db5d1\" y=\"224.64\"/>\n      </g>\n     </g>\n     <g id=\"text_1\">\n      <!-- 0 -->\n      <defs>\n       <path d=\"M 31.78125 66.40625 \nQ 24.171875 66.40625 20.328125 58.90625 \nQ 16.5 51.421875 16.5 36.375 \nQ 16.5 21.390625 20.328125 13.890625 \nQ 24.171875 6.390625 31.78125 6.390625 \nQ 39.453125 6.390625 43.28125 13.890625 \nQ 47.125 21.390625 47.125 36.375 \nQ 47.125 51.421875 43.28125 58.90625 \nQ 39.453125 66.40625 31.78125 66.40625 \nz\nM 31.78125 74.21875 \nQ 44.046875 74.21875 50.515625 64.515625 \nQ 56.984375 54.828125 56.984375 36.375 \nQ 56.984375 17.96875 50.515625 8.265625 \nQ 44.046875 -1.421875 31.78125 -1.421875 \nQ 19.53125 -1.421875 13.0625 8.265625 \nQ 6.59375 17.96875 6.59375 36.375 \nQ 6.59375 54.828125 13.0625 64.515625 \nQ 19.53125 74.21875 31.78125 74.21875 \nz\n\" id=\"DejaVuSans-48\"/>\n      </defs>\n      <g transform=\"translate(62.180682 239.238437)scale(0.1 -0.1)\">\n       <use xlink:href=\"#DejaVuSans-48\"/>\n      </g>\n     </g>\n    </g>\n    <g id=\"xtick_2\">\n     <g id=\"line2d_2\">\n      <g>\n       <use style=\"stroke:#000000;stroke-width:0.8;\" x=\"108.842451\" xlink:href=\"#mf7630db5d1\" y=\"224.64\"/>\n      </g>\n     </g>\n     <g id=\"text_2\">\n      <!-- 2 -->\n      <defs>\n       <path d=\"M 19.1875 8.296875 \nL 53.609375 8.296875 \nL 53.609375 0 \nL 7.328125 0 \nL 7.328125 8.296875 \nQ 12.9375 14.109375 22.625 23.890625 \nQ 32.328125 33.6875 34.8125 36.53125 \nQ 39.546875 41.84375 41.421875 45.53125 \nQ 43.3125 49.21875 43.3125 52.78125 \nQ 43.3125 58.59375 39.234375 62.25 \nQ 35.15625 65.921875 28.609375 65.921875 \nQ 23.96875 65.921875 18.8125 64.3125 \nQ 13.671875 62.703125 7.8125 59.421875 \nL 7.8125 69.390625 \nQ 13.765625 71.78125 18.9375 73 \nQ 24.125 74.21875 28.421875 74.21875 \nQ 39.75 74.21875 46.484375 68.546875 \nQ 53.21875 62.890625 53.21875 53.421875 \nQ 53.21875 48.921875 51.53125 44.890625 \nQ 49.859375 40.875 45.40625 35.40625 \nQ 44.1875 33.984375 37.640625 27.21875 \nQ 31.109375 20.453125 19.1875 8.296875 \nz\n\" id=\"DejaVuSans-50\"/>\n      </defs>\n      <g transform=\"translate(105.661201 239.238437)scale(0.1 -0.1)\">\n       <use xlink:href=\"#DejaVuSans-50\"/>\n      </g>\n     </g>\n    </g>\n    <g id=\"xtick_3\">\n     <g id=\"line2d_3\">\n      <g>\n       <use style=\"stroke:#000000;stroke-width:0.8;\" x=\"152.322971\" xlink:href=\"#mf7630db5d1\" y=\"224.64\"/>\n      </g>\n     </g>\n     <g id=\"text_3\">\n      <!-- 4 -->\n      <defs>\n       <path d=\"M 37.796875 64.3125 \nL 12.890625 25.390625 \nL 37.796875 25.390625 \nz\nM 35.203125 72.90625 \nL 47.609375 72.90625 \nL 47.609375 25.390625 \nL 58.015625 25.390625 \nL 58.015625 17.1875 \nL 47.609375 17.1875 \nL 47.609375 0 \nL 37.796875 0 \nL 37.796875 17.1875 \nL 4.890625 17.1875 \nL 4.890625 26.703125 \nz\n\" id=\"DejaVuSans-52\"/>\n      </defs>\n      <g transform=\"translate(149.141721 239.238437)scale(0.1 -0.1)\">\n       <use xlink:href=\"#DejaVuSans-52\"/>\n      </g>\n     </g>\n    </g>\n    <g id=\"xtick_4\">\n     <g id=\"line2d_4\">\n      <g>\n       <use style=\"stroke:#000000;stroke-width:0.8;\" x=\"195.80349\" xlink:href=\"#mf7630db5d1\" y=\"224.64\"/>\n      </g>\n     </g>\n     <g id=\"text_4\">\n      <!-- 6 -->\n      <defs>\n       <path d=\"M 33.015625 40.375 \nQ 26.375 40.375 22.484375 35.828125 \nQ 18.609375 31.296875 18.609375 23.390625 \nQ 18.609375 15.53125 22.484375 10.953125 \nQ 26.375 6.390625 33.015625 6.390625 \nQ 39.65625 6.390625 43.53125 10.953125 \nQ 47.40625 15.53125 47.40625 23.390625 \nQ 47.40625 31.296875 43.53125 35.828125 \nQ 39.65625 40.375 33.015625 40.375 \nz\nM 52.59375 71.296875 \nL 52.59375 62.3125 \nQ 48.875 64.0625 45.09375 64.984375 \nQ 41.3125 65.921875 37.59375 65.921875 \nQ 27.828125 65.921875 22.671875 59.328125 \nQ 17.53125 52.734375 16.796875 39.40625 \nQ 19.671875 43.65625 24.015625 45.921875 \nQ 28.375 48.1875 33.59375 48.1875 \nQ 44.578125 48.1875 50.953125 41.515625 \nQ 57.328125 34.859375 57.328125 23.390625 \nQ 57.328125 12.15625 50.6875 5.359375 \nQ 44.046875 -1.421875 33.015625 -1.421875 \nQ 20.359375 -1.421875 13.671875 8.265625 \nQ 6.984375 17.96875 6.984375 36.375 \nQ 6.984375 53.65625 15.1875 63.9375 \nQ 23.390625 74.21875 37.203125 74.21875 \nQ 40.921875 74.21875 44.703125 73.484375 \nQ 48.484375 72.75 52.59375 71.296875 \nz\n\" id=\"DejaVuSans-54\"/>\n      </defs>\n      <g transform=\"translate(192.62224 239.238437)scale(0.1 -0.1)\">\n       <use xlink:href=\"#DejaVuSans-54\"/>\n      </g>\n     </g>\n    </g>\n    <g id=\"xtick_5\">\n     <g id=\"line2d_5\">\n      <g>\n       <use style=\"stroke:#000000;stroke-width:0.8;\" x=\"239.28401\" xlink:href=\"#mf7630db5d1\" y=\"224.64\"/>\n      </g>\n     </g>\n     <g id=\"text_5\">\n      <!-- 8 -->\n      <defs>\n       <path d=\"M 31.78125 34.625 \nQ 24.75 34.625 20.71875 30.859375 \nQ 16.703125 27.09375 16.703125 20.515625 \nQ 16.703125 13.921875 20.71875 10.15625 \nQ 24.75 6.390625 31.78125 6.390625 \nQ 38.8125 6.390625 42.859375 10.171875 \nQ 46.921875 13.96875 46.921875 20.515625 \nQ 46.921875 27.09375 42.890625 30.859375 \nQ 38.875 34.625 31.78125 34.625 \nz\nM 21.921875 38.8125 \nQ 15.578125 40.375 12.03125 44.71875 \nQ 8.5 49.078125 8.5 55.328125 \nQ 8.5 64.0625 14.71875 69.140625 \nQ 20.953125 74.21875 31.78125 74.21875 \nQ 42.671875 74.21875 48.875 69.140625 \nQ 55.078125 64.0625 55.078125 55.328125 \nQ 55.078125 49.078125 51.53125 44.71875 \nQ 48 40.375 41.703125 38.8125 \nQ 48.828125 37.15625 52.796875 32.3125 \nQ 56.78125 27.484375 56.78125 20.515625 \nQ 56.78125 9.90625 50.3125 4.234375 \nQ 43.84375 -1.421875 31.78125 -1.421875 \nQ 19.734375 -1.421875 13.25 4.234375 \nQ 6.78125 9.90625 6.78125 20.515625 \nQ 6.78125 27.484375 10.78125 32.3125 \nQ 14.796875 37.15625 21.921875 38.8125 \nz\nM 18.3125 54.390625 \nQ 18.3125 48.734375 21.84375 45.5625 \nQ 25.390625 42.390625 31.78125 42.390625 \nQ 38.140625 42.390625 41.71875 45.5625 \nQ 45.3125 48.734375 45.3125 54.390625 \nQ 45.3125 60.0625 41.71875 63.234375 \nQ 38.140625 66.40625 31.78125 66.40625 \nQ 25.390625 66.40625 21.84375 63.234375 \nQ 18.3125 60.0625 18.3125 54.390625 \nz\n\" id=\"DejaVuSans-56\"/>\n      </defs>\n      <g transform=\"translate(236.10276 239.238437)scale(0.1 -0.1)\">\n       <use xlink:href=\"#DejaVuSans-56\"/>\n      </g>\n     </g>\n    </g>\n    <g id=\"xtick_6\">\n     <g id=\"line2d_6\">\n      <g>\n       <use style=\"stroke:#000000;stroke-width:0.8;\" x=\"282.764529\" xlink:href=\"#mf7630db5d1\" y=\"224.64\"/>\n      </g>\n     </g>\n     <g id=\"text_6\">\n      <!-- 10 -->\n      <defs>\n       <path d=\"M 12.40625 8.296875 \nL 28.515625 8.296875 \nL 28.515625 63.921875 \nL 10.984375 60.40625 \nL 10.984375 69.390625 \nL 28.421875 72.90625 \nL 38.28125 72.90625 \nL 38.28125 8.296875 \nL 54.390625 8.296875 \nL 54.390625 0 \nL 12.40625 0 \nz\n\" id=\"DejaVuSans-49\"/>\n      </defs>\n      <g transform=\"translate(276.402029 239.238437)scale(0.1 -0.1)\">\n       <use xlink:href=\"#DejaVuSans-49\"/>\n       <use x=\"63.623047\" xlink:href=\"#DejaVuSans-48\"/>\n      </g>\n     </g>\n    </g>\n    <g id=\"xtick_7\">\n     <g id=\"line2d_7\">\n      <g>\n       <use style=\"stroke:#000000;stroke-width:0.8;\" x=\"326.245049\" xlink:href=\"#mf7630db5d1\" y=\"224.64\"/>\n      </g>\n     </g>\n     <g id=\"text_7\">\n      <!-- 12 -->\n      <g transform=\"translate(319.882549 239.238437)scale(0.1 -0.1)\">\n       <use xlink:href=\"#DejaVuSans-49\"/>\n       <use x=\"63.623047\" xlink:href=\"#DejaVuSans-50\"/>\n      </g>\n     </g>\n    </g>\n    <g id=\"xtick_8\">\n     <g id=\"line2d_8\">\n      <g>\n       <use style=\"stroke:#000000;stroke-width:0.8;\" x=\"369.725568\" xlink:href=\"#mf7630db5d1\" y=\"224.64\"/>\n      </g>\n     </g>\n     <g id=\"text_8\">\n      <!-- 14 -->\n      <g transform=\"translate(363.363068 239.238437)scale(0.1 -0.1)\">\n       <use xlink:href=\"#DejaVuSans-49\"/>\n       <use x=\"63.623047\" xlink:href=\"#DejaVuSans-52\"/>\n      </g>\n     </g>\n    </g>\n    <g id=\"text_9\">\n     <!-- $B$ -->\n     <defs>\n      <path d=\"M 16.890625 72.90625 \nL 42.09375 72.90625 \nQ 52.34375 72.90625 57.421875 69.09375 \nQ 62.5 65.28125 62.5 57.625 \nQ 62.5 50.59375 58.125 45.484375 \nQ 53.765625 40.375 46.6875 39.3125 \nQ 52.734375 37.9375 55.765625 34.078125 \nQ 58.796875 30.21875 58.796875 23.78125 \nQ 58.796875 12.796875 50.65625 6.390625 \nQ 42.53125 0 28.421875 0 \nL 2.6875 0 \nz\nM 19.28125 34.8125 \nL 14.109375 8.109375 \nL 29.984375 8.109375 \nQ 38.921875 8.109375 43.75 12.203125 \nQ 48.578125 16.3125 48.578125 23.78125 \nQ 48.578125 29.546875 45.375 32.171875 \nQ 42.1875 34.8125 35.109375 34.8125 \nz\nM 25.09375 64.796875 \nL 20.796875 42.828125 \nL 35.5 42.828125 \nQ 43.359375 42.828125 47.78125 46.234375 \nQ 52.203125 49.65625 52.203125 55.71875 \nQ 52.203125 60.453125 49.21875 62.625 \nQ 46.234375 64.796875 39.703125 64.796875 \nz\n\" id=\"DejaVuSans-Oblique-66\"/>\n     </defs>\n     <g transform=\"translate(214.09375 252.916562)scale(0.1 -0.1)\">\n      <use transform=\"translate(0 0.09375)\" xlink:href=\"#DejaVuSans-Oblique-66\"/>\n     </g>\n    </g>\n   </g>\n   <g id=\"matplotlib.axis_2\">\n    <g id=\"ytick_1\">\n     <g id=\"line2d_9\">\n      <defs>\n       <path d=\"M 0 0 \nL -3.5 0 \n\" id=\"m258bb1e608\" style=\"stroke:#000000;stroke-width:0.8;\"/>\n      </defs>\n      <g>\n       <use style=\"stroke:#000000;stroke-width:0.8;\" x=\"50.14375\" xlink:href=\"#m258bb1e608\" y=\"214.756364\"/>\n      </g>\n     </g>\n     <g id=\"text_10\">\n      <!-- 0.00 -->\n      <defs>\n       <path d=\"M 10.6875 12.40625 \nL 21 12.40625 \nL 21 0 \nL 10.6875 0 \nz\n\" id=\"DejaVuSans-46\"/>\n      </defs>\n      <g transform=\"translate(20.878125 218.555582)scale(0.1 -0.1)\">\n       <use xlink:href=\"#DejaVuSans-48\"/>\n       <use x=\"63.623047\" xlink:href=\"#DejaVuSans-46\"/>\n       <use x=\"95.410156\" xlink:href=\"#DejaVuSans-48\"/>\n       <use x=\"159.033203\" xlink:href=\"#DejaVuSans-48\"/>\n      </g>\n     </g>\n    </g>\n    <g id=\"ytick_2\">\n     <g id=\"line2d_10\">\n      <g>\n       <use style=\"stroke:#000000;stroke-width:0.8;\" x=\"50.14375\" xlink:href=\"#m258bb1e608\" y=\"183.162163\"/>\n      </g>\n     </g>\n     <g id=\"text_11\">\n      <!-- 0.05 -->\n      <defs>\n       <path d=\"M 10.796875 72.90625 \nL 49.515625 72.90625 \nL 49.515625 64.59375 \nL 19.828125 64.59375 \nL 19.828125 46.734375 \nQ 21.96875 47.46875 24.109375 47.828125 \nQ 26.265625 48.1875 28.421875 48.1875 \nQ 40.625 48.1875 47.75 41.5 \nQ 54.890625 34.8125 54.890625 23.390625 \nQ 54.890625 11.625 47.5625 5.09375 \nQ 40.234375 -1.421875 26.90625 -1.421875 \nQ 22.3125 -1.421875 17.546875 -0.640625 \nQ 12.796875 0.140625 7.71875 1.703125 \nL 7.71875 11.625 \nQ 12.109375 9.234375 16.796875 8.0625 \nQ 21.484375 6.890625 26.703125 6.890625 \nQ 35.15625 6.890625 40.078125 11.328125 \nQ 45.015625 15.765625 45.015625 23.390625 \nQ 45.015625 31 40.078125 35.4375 \nQ 35.15625 39.890625 26.703125 39.890625 \nQ 22.75 39.890625 18.8125 39.015625 \nQ 14.890625 38.140625 10.796875 36.28125 \nz\n\" id=\"DejaVuSans-53\"/>\n      </defs>\n      <g transform=\"translate(20.878125 186.961382)scale(0.1 -0.1)\">\n       <use xlink:href=\"#DejaVuSans-48\"/>\n       <use x=\"63.623047\" xlink:href=\"#DejaVuSans-46\"/>\n       <use x=\"95.410156\" xlink:href=\"#DejaVuSans-48\"/>\n       <use x=\"159.033203\" xlink:href=\"#DejaVuSans-53\"/>\n      </g>\n     </g>\n    </g>\n    <g id=\"ytick_3\">\n     <g id=\"line2d_11\">\n      <g>\n       <use style=\"stroke:#000000;stroke-width:0.8;\" x=\"50.14375\" xlink:href=\"#m258bb1e608\" y=\"151.567963\"/>\n      </g>\n     </g>\n     <g id=\"text_12\">\n      <!-- 0.10 -->\n      <g transform=\"translate(20.878125 155.367182)scale(0.1 -0.1)\">\n       <use xlink:href=\"#DejaVuSans-48\"/>\n       <use x=\"63.623047\" xlink:href=\"#DejaVuSans-46\"/>\n       <use x=\"95.410156\" xlink:href=\"#DejaVuSans-49\"/>\n       <use x=\"159.033203\" xlink:href=\"#DejaVuSans-48\"/>\n      </g>\n     </g>\n    </g>\n    <g id=\"ytick_4\">\n     <g id=\"line2d_12\">\n      <g>\n       <use style=\"stroke:#000000;stroke-width:0.8;\" x=\"50.14375\" xlink:href=\"#m258bb1e608\" y=\"119.973763\"/>\n      </g>\n     </g>\n     <g id=\"text_13\">\n      <!-- 0.15 -->\n      <g transform=\"translate(20.878125 123.772982)scale(0.1 -0.1)\">\n       <use xlink:href=\"#DejaVuSans-48\"/>\n       <use x=\"63.623047\" xlink:href=\"#DejaVuSans-46\"/>\n       <use x=\"95.410156\" xlink:href=\"#DejaVuSans-49\"/>\n       <use x=\"159.033203\" xlink:href=\"#DejaVuSans-53\"/>\n      </g>\n     </g>\n    </g>\n    <g id=\"ytick_5\">\n     <g id=\"line2d_13\">\n      <g>\n       <use style=\"stroke:#000000;stroke-width:0.8;\" x=\"50.14375\" xlink:href=\"#m258bb1e608\" y=\"88.379563\"/>\n      </g>\n     </g>\n     <g id=\"text_14\">\n      <!-- 0.20 -->\n      <g transform=\"translate(20.878125 92.178782)scale(0.1 -0.1)\">\n       <use xlink:href=\"#DejaVuSans-48\"/>\n       <use x=\"63.623047\" xlink:href=\"#DejaVuSans-46\"/>\n       <use x=\"95.410156\" xlink:href=\"#DejaVuSans-50\"/>\n       <use x=\"159.033203\" xlink:href=\"#DejaVuSans-48\"/>\n      </g>\n     </g>\n    </g>\n    <g id=\"ytick_6\">\n     <g id=\"line2d_14\">\n      <g>\n       <use style=\"stroke:#000000;stroke-width:0.8;\" x=\"50.14375\" xlink:href=\"#m258bb1e608\" y=\"56.785363\"/>\n      </g>\n     </g>\n     <g id=\"text_15\">\n      <!-- 0.25 -->\n      <g transform=\"translate(20.878125 60.584581)scale(0.1 -0.1)\">\n       <use xlink:href=\"#DejaVuSans-48\"/>\n       <use x=\"63.623047\" xlink:href=\"#DejaVuSans-46\"/>\n       <use x=\"95.410156\" xlink:href=\"#DejaVuSans-50\"/>\n       <use x=\"159.033203\" xlink:href=\"#DejaVuSans-53\"/>\n      </g>\n     </g>\n    </g>\n    <g id=\"ytick_7\">\n     <g id=\"line2d_15\">\n      <g>\n       <use style=\"stroke:#000000;stroke-width:0.8;\" x=\"50.14375\" xlink:href=\"#m258bb1e608\" y=\"25.191162\"/>\n      </g>\n     </g>\n     <g id=\"text_16\">\n      <!-- 0.30 -->\n      <defs>\n       <path d=\"M 40.578125 39.3125 \nQ 47.65625 37.796875 51.625 33 \nQ 55.609375 28.21875 55.609375 21.1875 \nQ 55.609375 10.40625 48.1875 4.484375 \nQ 40.765625 -1.421875 27.09375 -1.421875 \nQ 22.515625 -1.421875 17.65625 -0.515625 \nQ 12.796875 0.390625 7.625 2.203125 \nL 7.625 11.71875 \nQ 11.71875 9.328125 16.59375 8.109375 \nQ 21.484375 6.890625 26.8125 6.890625 \nQ 36.078125 6.890625 40.9375 10.546875 \nQ 45.796875 14.203125 45.796875 21.1875 \nQ 45.796875 27.640625 41.28125 31.265625 \nQ 36.765625 34.90625 28.71875 34.90625 \nL 20.21875 34.90625 \nL 20.21875 43.015625 \nL 29.109375 43.015625 \nQ 36.375 43.015625 40.234375 45.921875 \nQ 44.09375 48.828125 44.09375 54.296875 \nQ 44.09375 59.90625 40.109375 62.90625 \nQ 36.140625 65.921875 28.71875 65.921875 \nQ 24.65625 65.921875 20.015625 65.03125 \nQ 15.375 64.15625 9.8125 62.3125 \nL 9.8125 71.09375 \nQ 15.4375 72.65625 20.34375 73.4375 \nQ 25.25 74.21875 29.59375 74.21875 \nQ 40.828125 74.21875 47.359375 69.109375 \nQ 53.90625 64.015625 53.90625 55.328125 \nQ 53.90625 49.265625 50.4375 45.09375 \nQ 46.96875 40.921875 40.578125 39.3125 \nz\n\" id=\"DejaVuSans-51\"/>\n      </defs>\n      <g transform=\"translate(20.878125 28.990381)scale(0.1 -0.1)\">\n       <use xlink:href=\"#DejaVuSans-48\"/>\n       <use x=\"63.623047\" xlink:href=\"#DejaVuSans-46\"/>\n       <use x=\"95.410156\" xlink:href=\"#DejaVuSans-51\"/>\n       <use x=\"159.033203\" xlink:href=\"#DejaVuSans-48\"/>\n      </g>\n     </g>\n    </g>\n    <g id=\"text_17\">\n     <!-- $\\lambda$ -->\n     <defs>\n      <path d=\"M 36.71875 67.4375 \nL 48.828125 0 \nL 39.3125 0 \nL 31.84375 40.4375 \nL 5.125 0 \nL -4.390625 0 \nL 29.734375 52.4375 \nL 28.03125 62.109375 \nQ 26.953125 68.265625 21.734375 68.265625 \nL 17.046875 68.265625 \nL 18.5 75.984375 \nL 24.21875 75.875 \nQ 35.203125 75.734375 36.71875 67.4375 \nz\n\" id=\"DejaVuSans-Oblique-955\"/>\n     </defs>\n     <g transform=\"translate(14.798438 118.92)rotate(-90)scale(0.1 -0.1)\">\n      <use transform=\"translate(0 0.015625)\" xlink:href=\"#DejaVuSans-Oblique-955\"/>\n     </g>\n    </g>\n   </g>\n   <g id=\"line2d_16\">\n    <path clip-path=\"url(#p9c4255c684)\" d=\"M 65.361932 214.756364 \nL 87.102192 117.782667 \nL 108.842451 116.656542 \nL 130.582711 105.603625 \nL 152.322971 104.535372 \nL 174.063231 91.12528 \nL 195.80349 85.292164 \nL 217.54375 55.5358 \nL 239.28401 51.555428 \nL 261.024269 45.321357 \nL 282.764529 35.553375 \nL 304.504789 31.382325 \nL 326.245049 22.878284 \nL 347.985308 18.798413 \nL 369.725568 17.083636 \n\" style=\"fill:none;stroke:#1f77b4;stroke-linecap:square;stroke-width:1.5;\"/>\n    <defs>\n     <path d=\"M -0 4.242641 \nL 2.545584 0 \nL 0 -4.242641 \nL -2.545584 -0 \nz\n\" id=\"m9cc6b125a2\" style=\"stroke:#1f77b4;stroke-linejoin:miter;\"/>\n    </defs>\n    <g clip-path=\"url(#p9c4255c684)\">\n     <use style=\"fill:#1f77b4;stroke:#1f77b4;stroke-linejoin:miter;\" x=\"65.361932\" xlink:href=\"#m9cc6b125a2\" y=\"214.756364\"/>\n     <use style=\"fill:#1f77b4;stroke:#1f77b4;stroke-linejoin:miter;\" x=\"87.102192\" xlink:href=\"#m9cc6b125a2\" y=\"117.782667\"/>\n     <use style=\"fill:#1f77b4;stroke:#1f77b4;stroke-linejoin:miter;\" x=\"108.842451\" xlink:href=\"#m9cc6b125a2\" y=\"116.656542\"/>\n     <use style=\"fill:#1f77b4;stroke:#1f77b4;stroke-linejoin:miter;\" x=\"130.582711\" xlink:href=\"#m9cc6b125a2\" y=\"105.603625\"/>\n     <use style=\"fill:#1f77b4;stroke:#1f77b4;stroke-linejoin:miter;\" x=\"152.322971\" xlink:href=\"#m9cc6b125a2\" y=\"104.535372\"/>\n     <use style=\"fill:#1f77b4;stroke:#1f77b4;stroke-linejoin:miter;\" x=\"174.063231\" xlink:href=\"#m9cc6b125a2\" y=\"91.12528\"/>\n     <use style=\"fill:#1f77b4;stroke:#1f77b4;stroke-linejoin:miter;\" x=\"195.80349\" xlink:href=\"#m9cc6b125a2\" y=\"85.292164\"/>\n     <use style=\"fill:#1f77b4;stroke:#1f77b4;stroke-linejoin:miter;\" x=\"217.54375\" xlink:href=\"#m9cc6b125a2\" y=\"55.5358\"/>\n     <use style=\"fill:#1f77b4;stroke:#1f77b4;stroke-linejoin:miter;\" x=\"239.28401\" xlink:href=\"#m9cc6b125a2\" y=\"51.555428\"/>\n     <use style=\"fill:#1f77b4;stroke:#1f77b4;stroke-linejoin:miter;\" x=\"261.024269\" xlink:href=\"#m9cc6b125a2\" y=\"45.321357\"/>\n     <use style=\"fill:#1f77b4;stroke:#1f77b4;stroke-linejoin:miter;\" x=\"282.764529\" xlink:href=\"#m9cc6b125a2\" y=\"35.553375\"/>\n     <use style=\"fill:#1f77b4;stroke:#1f77b4;stroke-linejoin:miter;\" x=\"304.504789\" xlink:href=\"#m9cc6b125a2\" y=\"31.382325\"/>\n     <use style=\"fill:#1f77b4;stroke:#1f77b4;stroke-linejoin:miter;\" x=\"326.245049\" xlink:href=\"#m9cc6b125a2\" y=\"22.878284\"/>\n     <use style=\"fill:#1f77b4;stroke:#1f77b4;stroke-linejoin:miter;\" x=\"347.985308\" xlink:href=\"#m9cc6b125a2\" y=\"18.798413\"/>\n     <use style=\"fill:#1f77b4;stroke:#1f77b4;stroke-linejoin:miter;\" x=\"369.725568\" xlink:href=\"#m9cc6b125a2\" y=\"17.083636\"/>\n    </g>\n   </g>\n   <g id=\"patch_3\">\n    <path d=\"M 50.14375 224.64 \nL 50.14375 7.2 \n\" style=\"fill:none;stroke:#000000;stroke-linecap:square;stroke-linejoin:miter;stroke-width:0.8;\"/>\n   </g>\n   <g id=\"patch_4\">\n    <path d=\"M 384.94375 224.64 \nL 384.94375 7.2 \n\" style=\"fill:none;stroke:#000000;stroke-linecap:square;stroke-linejoin:miter;stroke-width:0.8;\"/>\n   </g>\n   <g id=\"patch_5\">\n    <path d=\"M 50.14375 224.64 \nL 384.94375 224.64 \n\" style=\"fill:none;stroke:#000000;stroke-linecap:square;stroke-linejoin:miter;stroke-width:0.8;\"/>\n   </g>\n   <g id=\"patch_6\">\n    <path d=\"M 50.14375 7.2 \nL 384.94375 7.2 \n\" style=\"fill:none;stroke:#000000;stroke-linecap:square;stroke-linejoin:miter;stroke-width:0.8;\"/>\n   </g>\n  </g>\n </g>\n <defs>\n  <clipPath id=\"p9c4255c684\">\n   <rect height=\"217.44\" width=\"334.8\" x=\"50.14375\" y=\"7.2\"/>\n  </clipPath>\n </defs>\n</svg>\n",
      "image/png": "[encoded data removed]"
     },
     "metadata": {
      "needs_background": "light"
     }
    }
   ],
   "source": [
    "G0_Lap = nx.laplacian_matrix(G0, nodelist=None, weight=None)\n",
    "\n",
    "# graph Laplacian matrix (is scipy.sparse.csr.csr_matrix)\n",
    "G0_Lap = G0_Lap.astype(float)\n",
    "\n",
    "EVal, EVec = sp.sparse.linalg.eigs(G0_Lap,k=15,which='SR')\n",
    "idx = np.argsort(EVal)\n",
    "#idx = idx[::-1]\n",
    "EVal_Lap = EVal.real[idx]\n",
    "EVec_Lap = EVec[:,idx]\n",
    "print('lambda_Lap=',EVal_Lap)\n",
    "\n",
    "#G0_lap_v2 = nx.fiedler_vector(G0, weight=None, normalized=False, tol=1e-08, seed=None)\n",
    "\n",
    "## compare different eigenvalue routines (don't trust the higher ones)\n",
    "# e = np.linalg.eigvals(G0_Lap.A)\n",
    "# L.A is shorthand for L.toarray()\n",
    "\n",
    "plt.plot(EVal_Lap,\"-d\")\n",
    "plt.xlabel(\"$B$\")\n",
    "plt.ylabel(\"$\\lambda$\")\n",
    "plt.show()"
   ]
  },
  {
   "cell_type": "code",
   "execution_count": 16,
   "metadata": {},
   "outputs": [],
   "source": [
    "partClub = np.sign(EVec_Lap.real[:,1])\n",
    "\n",
    "ind_neg = [i for i in range(len(partClub)) if partClub[i]<0] \n",
    "ind_pos = [i for i in range(len(partClub)) if partClub[i]>0] \n",
    "partClub = (ind_neg,ind_pos)"
   ]
  },
  {
   "cell_type": "markdown",
   "metadata": {},
   "source": [
    "## Normalized Graph Laplacian"
   ]
  },
  {
   "cell_type": "code",
   "execution_count": 17,
   "metadata": {
    "tags": []
   },
   "outputs": [
    {
     "output_type": "stream",
     "name": "stdout",
     "text": [
      "lambda_normLap= [-1.38777878e-17  2.50283518e-02  3.72438779e-02  3.88578578e-02\n  5.66451112e-02  5.82402037e-02]\n"
     ]
    }
   ],
   "source": [
    "G0_normLap = nx.normalized_laplacian_matrix(G0, nodelist=None, weight=None)\n",
    "\n",
    "# normalized graph Laplacian matrix (is scipy.sparse.csr.csr_matrix)\n",
    "G0_normLap = G0_normLap.astype(float)\n",
    "EVal, EVec = sp.sparse.linalg.eigs(G0_normLap,k=6,which='SR')\n",
    "idx = np.argsort(EVal)\n",
    "#idx = idx[::-1]\n",
    "EVal_normLap = EVal.real[idx]\n",
    "EVec_normLap = EVec[:,idx]\n",
    "print('lambda_normLap=',EVal_normLap)\n",
    "\n",
    "G0_normlap_v2 = nx.fiedler_vector(G0, weight=None, normalized=True, tol=1e-08, seed=None)\n"
   ]
  },
  {
   "cell_type": "code",
   "execution_count": 18,
   "metadata": {},
   "outputs": [],
   "source": [
    "partClub = np.sign(EVec_normLap.real[:,1])\n",
    "\n",
    "ind_neg = [i for i in range(len(partClub)) if partClub[i]<0] \n",
    "ind_pos = [i for i in range(len(partClub)) if partClub[i]>0] \n",
    "partClub = (ind_neg,ind_pos)"
   ]
  },
  {
   "cell_type": "markdown",
   "metadata": {},
   "source": [
    "## Adjacency matrix"
   ]
  },
  {
   "cell_type": "code",
   "execution_count": 19,
   "metadata": {
    "tags": []
   },
   "outputs": [
    {
     "output_type": "stream",
     "name": "stdout",
     "text": [
      "lambda_Ad= [211.61487807 136.01214958  85.86439381  71.13487642  68.02618983\n  59.63148295]\n"
     ]
    },
    {
     "output_type": "display_data",
     "data": {
      "text/plain": "<Figure size 432x288 with 1 Axes>",
      "image/svg+xml": "<?xml version=\"1.0\" encoding=\"utf-8\" standalone=\"no\"?>\n<!DOCTYPE svg PUBLIC \"-//W3C//DTD SVG 1.1//EN\"\n  \"http://www.w3.org/Graphics/SVG/1.1/DTD/svg11.dtd\">\n<!-- Created with matplotlib (https://matplotlib.org/) -->\n<svg height=\"262.19625pt\" version=\"1.1\" viewBox=\"0 0 388.965625 262.19625\" width=\"388.965625pt\" xmlns=\"http://www.w3.org/2000/svg\" xmlns:xlink=\"http://www.w3.org/1999/xlink\">\n <defs>\n  <style type=\"text/css\">\n*{stroke-linecap:butt;stroke-linejoin:round;}\n  </style>\n </defs>\n <g id=\"figure_1\">\n  <g id=\"patch_1\">\n   <path d=\"M -0 262.19625 \nL 388.965625 262.19625 \nL 388.965625 0 \nL -0 0 \nz\n\" style=\"fill:none;\"/>\n  </g>\n  <g id=\"axes_1\">\n   <g id=\"patch_2\">\n    <path d=\"M 46.965625 224.64 \nL 381.765625 224.64 \nL 381.765625 7.2 \nL 46.965625 7.2 \nz\n\" style=\"fill:#ffffff;\"/>\n   </g>\n   <g id=\"matplotlib.axis_1\">\n    <g id=\"xtick_1\">\n     <g id=\"line2d_1\">\n      <defs>\n       <path d=\"M 0 0 \nL 0 3.5 \n\" id=\"mc5e7949db5\" style=\"stroke:#000000;stroke-width:0.8;\"/>\n      </defs>\n      <g>\n       <use style=\"stroke:#000000;stroke-width:0.8;\" x=\"62.183807\" xlink:href=\"#mc5e7949db5\" y=\"224.64\"/>\n      </g>\n     </g>\n     <g id=\"text_1\">\n      <!-- 0 -->\n      <defs>\n       <path d=\"M 31.78125 66.40625 \nQ 24.171875 66.40625 20.328125 58.90625 \nQ 16.5 51.421875 16.5 36.375 \nQ 16.5 21.390625 20.328125 13.890625 \nQ 24.171875 6.390625 31.78125 6.390625 \nQ 39.453125 6.390625 43.28125 13.890625 \nQ 47.125 21.390625 47.125 36.375 \nQ 47.125 51.421875 43.28125 58.90625 \nQ 39.453125 66.40625 31.78125 66.40625 \nz\nM 31.78125 74.21875 \nQ 44.046875 74.21875 50.515625 64.515625 \nQ 56.984375 54.828125 56.984375 36.375 \nQ 56.984375 17.96875 50.515625 8.265625 \nQ 44.046875 -1.421875 31.78125 -1.421875 \nQ 19.53125 -1.421875 13.0625 8.265625 \nQ 6.59375 17.96875 6.59375 36.375 \nQ 6.59375 54.828125 13.0625 64.515625 \nQ 19.53125 74.21875 31.78125 74.21875 \nz\n\" id=\"DejaVuSans-48\"/>\n      </defs>\n      <g transform=\"translate(59.002557 239.238438)scale(0.1 -0.1)\">\n       <use xlink:href=\"#DejaVuSans-48\"/>\n      </g>\n     </g>\n    </g>\n    <g id=\"xtick_2\">\n     <g id=\"line2d_2\">\n      <g>\n       <use style=\"stroke:#000000;stroke-width:0.8;\" x=\"123.056534\" xlink:href=\"#mc5e7949db5\" y=\"224.64\"/>\n      </g>\n     </g>\n     <g id=\"text_2\">\n      <!-- 1 -->\n      <defs>\n       <path d=\"M 12.40625 8.296875 \nL 28.515625 8.296875 \nL 28.515625 63.921875 \nL 10.984375 60.40625 \nL 10.984375 69.390625 \nL 28.421875 72.90625 \nL 38.28125 72.90625 \nL 38.28125 8.296875 \nL 54.390625 8.296875 \nL 54.390625 0 \nL 12.40625 0 \nz\n\" id=\"DejaVuSans-49\"/>\n      </defs>\n      <g transform=\"translate(119.875284 239.238438)scale(0.1 -0.1)\">\n       <use xlink:href=\"#DejaVuSans-49\"/>\n      </g>\n     </g>\n    </g>\n    <g id=\"xtick_3\">\n     <g id=\"line2d_3\">\n      <g>\n       <use style=\"stroke:#000000;stroke-width:0.8;\" x=\"183.929261\" xlink:href=\"#mc5e7949db5\" y=\"224.64\"/>\n      </g>\n     </g>\n     <g id=\"text_3\">\n      <!-- 2 -->\n      <defs>\n       <path d=\"M 19.1875 8.296875 \nL 53.609375 8.296875 \nL 53.609375 0 \nL 7.328125 0 \nL 7.328125 8.296875 \nQ 12.9375 14.109375 22.625 23.890625 \nQ 32.328125 33.6875 34.8125 36.53125 \nQ 39.546875 41.84375 41.421875 45.53125 \nQ 43.3125 49.21875 43.3125 52.78125 \nQ 43.3125 58.59375 39.234375 62.25 \nQ 35.15625 65.921875 28.609375 65.921875 \nQ 23.96875 65.921875 18.8125 64.3125 \nQ 13.671875 62.703125 7.8125 59.421875 \nL 7.8125 69.390625 \nQ 13.765625 71.78125 18.9375 73 \nQ 24.125 74.21875 28.421875 74.21875 \nQ 39.75 74.21875 46.484375 68.546875 \nQ 53.21875 62.890625 53.21875 53.421875 \nQ 53.21875 48.921875 51.53125 44.890625 \nQ 49.859375 40.875 45.40625 35.40625 \nQ 44.1875 33.984375 37.640625 27.21875 \nQ 31.109375 20.453125 19.1875 8.296875 \nz\n\" id=\"DejaVuSans-50\"/>\n      </defs>\n      <g transform=\"translate(180.748011 239.238438)scale(0.1 -0.1)\">\n       <use xlink:href=\"#DejaVuSans-50\"/>\n      </g>\n     </g>\n    </g>\n    <g id=\"xtick_4\">\n     <g id=\"line2d_4\">\n      <g>\n       <use style=\"stroke:#000000;stroke-width:0.8;\" x=\"244.801989\" xlink:href=\"#mc5e7949db5\" y=\"224.64\"/>\n      </g>\n     </g>\n     <g id=\"text_4\">\n      <!-- 3 -->\n      <defs>\n       <path d=\"M 40.578125 39.3125 \nQ 47.65625 37.796875 51.625 33 \nQ 55.609375 28.21875 55.609375 21.1875 \nQ 55.609375 10.40625 48.1875 4.484375 \nQ 40.765625 -1.421875 27.09375 -1.421875 \nQ 22.515625 -1.421875 17.65625 -0.515625 \nQ 12.796875 0.390625 7.625 2.203125 \nL 7.625 11.71875 \nQ 11.71875 9.328125 16.59375 8.109375 \nQ 21.484375 6.890625 26.8125 6.890625 \nQ 36.078125 6.890625 40.9375 10.546875 \nQ 45.796875 14.203125 45.796875 21.1875 \nQ 45.796875 27.640625 41.28125 31.265625 \nQ 36.765625 34.90625 28.71875 34.90625 \nL 20.21875 34.90625 \nL 20.21875 43.015625 \nL 29.109375 43.015625 \nQ 36.375 43.015625 40.234375 45.921875 \nQ 44.09375 48.828125 44.09375 54.296875 \nQ 44.09375 59.90625 40.109375 62.90625 \nQ 36.140625 65.921875 28.71875 65.921875 \nQ 24.65625 65.921875 20.015625 65.03125 \nQ 15.375 64.15625 9.8125 62.3125 \nL 9.8125 71.09375 \nQ 15.4375 72.65625 20.34375 73.4375 \nQ 25.25 74.21875 29.59375 74.21875 \nQ 40.828125 74.21875 47.359375 69.109375 \nQ 53.90625 64.015625 53.90625 55.328125 \nQ 53.90625 49.265625 50.4375 45.09375 \nQ 46.96875 40.921875 40.578125 39.3125 \nz\n\" id=\"DejaVuSans-51\"/>\n      </defs>\n      <g transform=\"translate(241.620739 239.238438)scale(0.1 -0.1)\">\n       <use xlink:href=\"#DejaVuSans-51\"/>\n      </g>\n     </g>\n    </g>\n    <g id=\"xtick_5\">\n     <g id=\"line2d_5\">\n      <g>\n       <use style=\"stroke:#000000;stroke-width:0.8;\" x=\"305.674716\" xlink:href=\"#mc5e7949db5\" y=\"224.64\"/>\n      </g>\n     </g>\n     <g id=\"text_5\">\n      <!-- 4 -->\n      <defs>\n       <path d=\"M 37.796875 64.3125 \nL 12.890625 25.390625 \nL 37.796875 25.390625 \nz\nM 35.203125 72.90625 \nL 47.609375 72.90625 \nL 47.609375 25.390625 \nL 58.015625 25.390625 \nL 58.015625 17.1875 \nL 47.609375 17.1875 \nL 47.609375 0 \nL 37.796875 0 \nL 37.796875 17.1875 \nL 4.890625 17.1875 \nL 4.890625 26.703125 \nz\n\" id=\"DejaVuSans-52\"/>\n      </defs>\n      <g transform=\"translate(302.493466 239.238438)scale(0.1 -0.1)\">\n       <use xlink:href=\"#DejaVuSans-52\"/>\n      </g>\n     </g>\n    </g>\n    <g id=\"xtick_6\">\n     <g id=\"line2d_6\">\n      <g>\n       <use style=\"stroke:#000000;stroke-width:0.8;\" x=\"366.547443\" xlink:href=\"#mc5e7949db5\" y=\"224.64\"/>\n      </g>\n     </g>\n     <g id=\"text_6\">\n      <!-- 5 -->\n      <defs>\n       <path d=\"M 10.796875 72.90625 \nL 49.515625 72.90625 \nL 49.515625 64.59375 \nL 19.828125 64.59375 \nL 19.828125 46.734375 \nQ 21.96875 47.46875 24.109375 47.828125 \nQ 26.265625 48.1875 28.421875 48.1875 \nQ 40.625 48.1875 47.75 41.5 \nQ 54.890625 34.8125 54.890625 23.390625 \nQ 54.890625 11.625 47.5625 5.09375 \nQ 40.234375 -1.421875 26.90625 -1.421875 \nQ 22.3125 -1.421875 17.546875 -0.640625 \nQ 12.796875 0.140625 7.71875 1.703125 \nL 7.71875 11.625 \nQ 12.109375 9.234375 16.796875 8.0625 \nQ 21.484375 6.890625 26.703125 6.890625 \nQ 35.15625 6.890625 40.078125 11.328125 \nQ 45.015625 15.765625 45.015625 23.390625 \nQ 45.015625 31 40.078125 35.4375 \nQ 35.15625 39.890625 26.703125 39.890625 \nQ 22.75 39.890625 18.8125 39.015625 \nQ 14.890625 38.140625 10.796875 36.28125 \nz\n\" id=\"DejaVuSans-53\"/>\n      </defs>\n      <g transform=\"translate(363.366193 239.238438)scale(0.1 -0.1)\">\n       <use xlink:href=\"#DejaVuSans-53\"/>\n      </g>\n     </g>\n    </g>\n    <g id=\"text_7\">\n     <!-- $B$ -->\n     <defs>\n      <path d=\"M 16.890625 72.90625 \nL 42.09375 72.90625 \nQ 52.34375 72.90625 57.421875 69.09375 \nQ 62.5 65.28125 62.5 57.625 \nQ 62.5 50.59375 58.125 45.484375 \nQ 53.765625 40.375 46.6875 39.3125 \nQ 52.734375 37.9375 55.765625 34.078125 \nQ 58.796875 30.21875 58.796875 23.78125 \nQ 58.796875 12.796875 50.65625 6.390625 \nQ 42.53125 0 28.421875 0 \nL 2.6875 0 \nz\nM 19.28125 34.8125 \nL 14.109375 8.109375 \nL 29.984375 8.109375 \nQ 38.921875 8.109375 43.75 12.203125 \nQ 48.578125 16.3125 48.578125 23.78125 \nQ 48.578125 29.546875 45.375 32.171875 \nQ 42.1875 34.8125 35.109375 34.8125 \nz\nM 25.09375 64.796875 \nL 20.796875 42.828125 \nL 35.5 42.828125 \nQ 43.359375 42.828125 47.78125 46.234375 \nQ 52.203125 49.65625 52.203125 55.71875 \nQ 52.203125 60.453125 49.21875 62.625 \nQ 46.234375 64.796875 39.703125 64.796875 \nz\n\" id=\"DejaVuSans-Oblique-66\"/>\n     </defs>\n     <g transform=\"translate(210.915625 252.916563)scale(0.1 -0.1)\">\n      <use transform=\"translate(0 0.09375)\" xlink:href=\"#DejaVuSans-Oblique-66\"/>\n     </g>\n    </g>\n   </g>\n   <g id=\"matplotlib.axis_2\">\n    <g id=\"ytick_1\">\n     <g id=\"line2d_7\">\n      <defs>\n       <path d=\"M 0 0 \nL -3.5 0 \n\" id=\"m3f90f735a8\" style=\"stroke:#000000;stroke-width:0.8;\"/>\n      </defs>\n      <g>\n       <use style=\"stroke:#000000;stroke-width:0.8;\" x=\"46.965625\" xlink:href=\"#m3f90f735a8\" y=\"214.277063\"/>\n      </g>\n     </g>\n     <g id=\"text_8\">\n      <!-- 60 -->\n      <defs>\n       <path d=\"M 33.015625 40.375 \nQ 26.375 40.375 22.484375 35.828125 \nQ 18.609375 31.296875 18.609375 23.390625 \nQ 18.609375 15.53125 22.484375 10.953125 \nQ 26.375 6.390625 33.015625 6.390625 \nQ 39.65625 6.390625 43.53125 10.953125 \nQ 47.40625 15.53125 47.40625 23.390625 \nQ 47.40625 31.296875 43.53125 35.828125 \nQ 39.65625 40.375 33.015625 40.375 \nz\nM 52.59375 71.296875 \nL 52.59375 62.3125 \nQ 48.875 64.0625 45.09375 64.984375 \nQ 41.3125 65.921875 37.59375 65.921875 \nQ 27.828125 65.921875 22.671875 59.328125 \nQ 17.53125 52.734375 16.796875 39.40625 \nQ 19.671875 43.65625 24.015625 45.921875 \nQ 28.375 48.1875 33.59375 48.1875 \nQ 44.578125 48.1875 50.953125 41.515625 \nQ 57.328125 34.859375 57.328125 23.390625 \nQ 57.328125 12.15625 50.6875 5.359375 \nQ 44.046875 -1.421875 33.015625 -1.421875 \nQ 20.359375 -1.421875 13.671875 8.265625 \nQ 6.984375 17.96875 6.984375 36.375 \nQ 6.984375 53.65625 15.1875 63.9375 \nQ 23.390625 74.21875 37.203125 74.21875 \nQ 40.921875 74.21875 44.703125 73.484375 \nQ 48.484375 72.75 52.59375 71.296875 \nz\n\" id=\"DejaVuSans-54\"/>\n      </defs>\n      <g transform=\"translate(27.240625 218.076282)scale(0.1 -0.1)\">\n       <use xlink:href=\"#DejaVuSans-54\"/>\n       <use x=\"63.623047\" xlink:href=\"#DejaVuSans-48\"/>\n      </g>\n     </g>\n    </g>\n    <g id=\"ytick_2\">\n     <g id=\"line2d_8\">\n      <g>\n       <use style=\"stroke:#000000;stroke-width:0.8;\" x=\"46.965625\" xlink:href=\"#m3f90f735a8\" y=\"188.264652\"/>\n      </g>\n     </g>\n     <g id=\"text_9\">\n      <!-- 80 -->\n      <defs>\n       <path d=\"M 31.78125 34.625 \nQ 24.75 34.625 20.71875 30.859375 \nQ 16.703125 27.09375 16.703125 20.515625 \nQ 16.703125 13.921875 20.71875 10.15625 \nQ 24.75 6.390625 31.78125 6.390625 \nQ 38.8125 6.390625 42.859375 10.171875 \nQ 46.921875 13.96875 46.921875 20.515625 \nQ 46.921875 27.09375 42.890625 30.859375 \nQ 38.875 34.625 31.78125 34.625 \nz\nM 21.921875 38.8125 \nQ 15.578125 40.375 12.03125 44.71875 \nQ 8.5 49.078125 8.5 55.328125 \nQ 8.5 64.0625 14.71875 69.140625 \nQ 20.953125 74.21875 31.78125 74.21875 \nQ 42.671875 74.21875 48.875 69.140625 \nQ 55.078125 64.0625 55.078125 55.328125 \nQ 55.078125 49.078125 51.53125 44.71875 \nQ 48 40.375 41.703125 38.8125 \nQ 48.828125 37.15625 52.796875 32.3125 \nQ 56.78125 27.484375 56.78125 20.515625 \nQ 56.78125 9.90625 50.3125 4.234375 \nQ 43.84375 -1.421875 31.78125 -1.421875 \nQ 19.734375 -1.421875 13.25 4.234375 \nQ 6.78125 9.90625 6.78125 20.515625 \nQ 6.78125 27.484375 10.78125 32.3125 \nQ 14.796875 37.15625 21.921875 38.8125 \nz\nM 18.3125 54.390625 \nQ 18.3125 48.734375 21.84375 45.5625 \nQ 25.390625 42.390625 31.78125 42.390625 \nQ 38.140625 42.390625 41.71875 45.5625 \nQ 45.3125 48.734375 45.3125 54.390625 \nQ 45.3125 60.0625 41.71875 63.234375 \nQ 38.140625 66.40625 31.78125 66.40625 \nQ 25.390625 66.40625 21.84375 63.234375 \nQ 18.3125 60.0625 18.3125 54.390625 \nz\n\" id=\"DejaVuSans-56\"/>\n      </defs>\n      <g transform=\"translate(27.240625 192.06387)scale(0.1 -0.1)\">\n       <use xlink:href=\"#DejaVuSans-56\"/>\n       <use x=\"63.623047\" xlink:href=\"#DejaVuSans-48\"/>\n      </g>\n     </g>\n    </g>\n    <g id=\"ytick_3\">\n     <g id=\"line2d_9\">\n      <g>\n       <use style=\"stroke:#000000;stroke-width:0.8;\" x=\"46.965625\" xlink:href=\"#m3f90f735a8\" y=\"162.252241\"/>\n      </g>\n     </g>\n     <g id=\"text_10\">\n      <!-- 100 -->\n      <g transform=\"translate(20.878125 166.051459)scale(0.1 -0.1)\">\n       <use xlink:href=\"#DejaVuSans-49\"/>\n       <use x=\"63.623047\" xlink:href=\"#DejaVuSans-48\"/>\n       <use x=\"127.246094\" xlink:href=\"#DejaVuSans-48\"/>\n      </g>\n     </g>\n    </g>\n    <g id=\"ytick_4\">\n     <g id=\"line2d_10\">\n      <g>\n       <use style=\"stroke:#000000;stroke-width:0.8;\" x=\"46.965625\" xlink:href=\"#m3f90f735a8\" y=\"136.23983\"/>\n      </g>\n     </g>\n     <g id=\"text_11\">\n      <!-- 120 -->\n      <g transform=\"translate(20.878125 140.039048)scale(0.1 -0.1)\">\n       <use xlink:href=\"#DejaVuSans-49\"/>\n       <use x=\"63.623047\" xlink:href=\"#DejaVuSans-50\"/>\n       <use x=\"127.246094\" xlink:href=\"#DejaVuSans-48\"/>\n      </g>\n     </g>\n    </g>\n    <g id=\"ytick_5\">\n     <g id=\"line2d_11\">\n      <g>\n       <use style=\"stroke:#000000;stroke-width:0.8;\" x=\"46.965625\" xlink:href=\"#m3f90f735a8\" y=\"110.227419\"/>\n      </g>\n     </g>\n     <g id=\"text_12\">\n      <!-- 140 -->\n      <g transform=\"translate(20.878125 114.026637)scale(0.1 -0.1)\">\n       <use xlink:href=\"#DejaVuSans-49\"/>\n       <use x=\"63.623047\" xlink:href=\"#DejaVuSans-52\"/>\n       <use x=\"127.246094\" xlink:href=\"#DejaVuSans-48\"/>\n      </g>\n     </g>\n    </g>\n    <g id=\"ytick_6\">\n     <g id=\"line2d_12\">\n      <g>\n       <use style=\"stroke:#000000;stroke-width:0.8;\" x=\"46.965625\" xlink:href=\"#m3f90f735a8\" y=\"84.215008\"/>\n      </g>\n     </g>\n     <g id=\"text_13\">\n      <!-- 160 -->\n      <g transform=\"translate(20.878125 88.014226)scale(0.1 -0.1)\">\n       <use xlink:href=\"#DejaVuSans-49\"/>\n       <use x=\"63.623047\" xlink:href=\"#DejaVuSans-54\"/>\n       <use x=\"127.246094\" xlink:href=\"#DejaVuSans-48\"/>\n      </g>\n     </g>\n    </g>\n    <g id=\"ytick_7\">\n     <g id=\"line2d_13\">\n      <g>\n       <use style=\"stroke:#000000;stroke-width:0.8;\" x=\"46.965625\" xlink:href=\"#m3f90f735a8\" y=\"58.202597\"/>\n      </g>\n     </g>\n     <g id=\"text_14\">\n      <!-- 180 -->\n      <g transform=\"translate(20.878125 62.001815)scale(0.1 -0.1)\">\n       <use xlink:href=\"#DejaVuSans-49\"/>\n       <use x=\"63.623047\" xlink:href=\"#DejaVuSans-56\"/>\n       <use x=\"127.246094\" xlink:href=\"#DejaVuSans-48\"/>\n      </g>\n     </g>\n    </g>\n    <g id=\"ytick_8\">\n     <g id=\"line2d_14\">\n      <g>\n       <use style=\"stroke:#000000;stroke-width:0.8;\" x=\"46.965625\" xlink:href=\"#m3f90f735a8\" y=\"32.190185\"/>\n      </g>\n     </g>\n     <g id=\"text_15\">\n      <!-- 200 -->\n      <g transform=\"translate(20.878125 35.989404)scale(0.1 -0.1)\">\n       <use xlink:href=\"#DejaVuSans-50\"/>\n       <use x=\"63.623047\" xlink:href=\"#DejaVuSans-48\"/>\n       <use x=\"127.246094\" xlink:href=\"#DejaVuSans-48\"/>\n      </g>\n     </g>\n    </g>\n    <g id=\"text_16\">\n     <!-- $\\lambda$ -->\n     <defs>\n      <path d=\"M 36.71875 67.4375 \nL 48.828125 0 \nL 39.3125 0 \nL 31.84375 40.4375 \nL 5.125 0 \nL -4.390625 0 \nL 29.734375 52.4375 \nL 28.03125 62.109375 \nQ 26.953125 68.265625 21.734375 68.265625 \nL 17.046875 68.265625 \nL 18.5 75.984375 \nL 24.21875 75.875 \nQ 35.203125 75.734375 36.71875 67.4375 \nz\n\" id=\"DejaVuSans-Oblique-955\"/>\n     </defs>\n     <g transform=\"translate(14.798438 118.92)rotate(-90)scale(0.1 -0.1)\">\n      <use transform=\"translate(0 0.015625)\" xlink:href=\"#DejaVuSans-Oblique-955\"/>\n     </g>\n    </g>\n   </g>\n   <g id=\"line2d_15\">\n    <path clip-path=\"url(#pd8b6662604)\" d=\"M 62.183807 17.083636 \nL 123.056534 115.414099 \nL 183.929261 180.637301 \nL 244.801989 199.794814 \nL 305.674716 203.838035 \nL 366.547443 214.756364 \n\" style=\"fill:none;stroke:#1f77b4;stroke-linecap:square;stroke-width:1.5;\"/>\n    <defs>\n     <path d=\"M -0 4.242641 \nL 2.545584 0 \nL 0 -4.242641 \nL -2.545584 -0 \nz\n\" id=\"m52f02649bc\" style=\"stroke:#1f77b4;stroke-linejoin:miter;\"/>\n    </defs>\n    <g clip-path=\"url(#pd8b6662604)\">\n     <use style=\"fill:#1f77b4;stroke:#1f77b4;stroke-linejoin:miter;\" x=\"62.183807\" xlink:href=\"#m52f02649bc\" y=\"17.083636\"/>\n     <use style=\"fill:#1f77b4;stroke:#1f77b4;stroke-linejoin:miter;\" x=\"123.056534\" xlink:href=\"#m52f02649bc\" y=\"115.414099\"/>\n     <use style=\"fill:#1f77b4;stroke:#1f77b4;stroke-linejoin:miter;\" x=\"183.929261\" xlink:href=\"#m52f02649bc\" y=\"180.637301\"/>\n     <use style=\"fill:#1f77b4;stroke:#1f77b4;stroke-linejoin:miter;\" x=\"244.801989\" xlink:href=\"#m52f02649bc\" y=\"199.794814\"/>\n     <use style=\"fill:#1f77b4;stroke:#1f77b4;stroke-linejoin:miter;\" x=\"305.674716\" xlink:href=\"#m52f02649bc\" y=\"203.838035\"/>\n     <use style=\"fill:#1f77b4;stroke:#1f77b4;stroke-linejoin:miter;\" x=\"366.547443\" xlink:href=\"#m52f02649bc\" y=\"214.756364\"/>\n    </g>\n   </g>\n   <g id=\"patch_3\">\n    <path d=\"M 46.965625 224.64 \nL 46.965625 7.2 \n\" style=\"fill:none;stroke:#000000;stroke-linecap:square;stroke-linejoin:miter;stroke-width:0.8;\"/>\n   </g>\n   <g id=\"patch_4\">\n    <path d=\"M 381.765625 224.64 \nL 381.765625 7.2 \n\" style=\"fill:none;stroke:#000000;stroke-linecap:square;stroke-linejoin:miter;stroke-width:0.8;\"/>\n   </g>\n   <g id=\"patch_5\">\n    <path d=\"M 46.965625 224.64 \nL 381.765625 224.64 \n\" style=\"fill:none;stroke:#000000;stroke-linecap:square;stroke-linejoin:miter;stroke-width:0.8;\"/>\n   </g>\n   <g id=\"patch_6\">\n    <path d=\"M 46.965625 7.2 \nL 381.765625 7.2 \n\" style=\"fill:none;stroke:#000000;stroke-linecap:square;stroke-linejoin:miter;stroke-width:0.8;\"/>\n   </g>\n  </g>\n </g>\n <defs>\n  <clipPath id=\"pd8b6662604\">\n   <rect height=\"217.44\" width=\"334.8\" x=\"46.965625\" y=\"7.2\"/>\n  </clipPath>\n </defs>\n</svg>\n",
      "image/png": "[encoded data removed]"
     },
     "metadata": {
      "needs_background": "light"
     }
    }
   ],
   "source": [
    "G0_Ad = nx.adjacency_matrix(G0, nodelist=None, weight=None)\n",
    "\n",
    "# adjacency matrix (is scipy.sparse.csr.csr_matrix)\n",
    "G0_Ad = G0_Ad.astype(float)\n",
    "EVal, EVec = sp.sparse.linalg.eigs(G0_Ad,k=6,which='LR')\n",
    "idx = np.argsort(EVal)\n",
    "idx = idx[::-1]\n",
    "EVal_Ad = EVal.real[idx]\n",
    "EVec_Ad = EVec[:,idx]\n",
    "print('lambda_Ad=',EVal_Ad)\n",
    "\n",
    "plt.plot(EVal_Ad,\"-d\")\n",
    "plt.xlabel(\"$B$\")\n",
    "plt.ylabel(\"$\\lambda$\")\n",
    "plt.show()"
   ]
  },
  {
   "cell_type": "code",
   "execution_count": 20,
   "metadata": {},
   "outputs": [],
   "source": [
    "partClub = np.sign(EVec_Ad.real[:,1])\n",
    "ind_neg = [i for i in range(len(partClub)) if partClub[i]<0] \n",
    "ind_pos = [i for i in range(len(partClub)) if partClub[i]>0] \n",
    "partClub = (ind_neg,ind_pos)"
   ]
  },
  {
   "cell_type": "markdown",
   "metadata": {},
   "source": [
    "## II b. Modularity community detection algorithms"
   ]
  },
  {
   "cell_type": "markdown",
   "metadata": {},
   "source": [
    "### Louvain group modularity algorithm\n",
    "\n",
    "!pip3 install python-louvain\n",
    "\n",
    "https://iopscience.iop.org/article/10.1088/1742-5468/2008/10/P10008\n",
    "\n",
    "https://en.wikipedia.org/wiki/Louvain_modularity\n"
   ]
  },
  {
   "cell_type": "code",
   "execution_count": 21,
   "metadata": {
    "tags": []
   },
   "outputs": [
    {
     "output_type": "stream",
     "name": "stdout",
     "text": [
      "# of partitions for Louvain modularity = 16\n"
     ]
    }
   ],
   "source": [
    "partLouvain = community_louvain.best_partition(G0)\n",
    "number_of_communities = max(list(partLouvain.values()))+1\n",
    "print('# of partitions for Louvain modularity =',number_of_communities)"
   ]
  },
  {
   "cell_type": "markdown",
   "metadata": {},
   "source": [
    "#### identify the community to which CDC28 (=YBR160W) belongs to (cluster starts at 0)"
   ]
  },
  {
   "cell_type": "code",
   "execution_count": 22,
   "metadata": {
    "tags": []
   },
   "outputs": [
    {
     "output_type": "stream",
     "name": "stdout",
     "text": [
      "The target protein CDC28 belongs to community # 6\n"
     ]
    }
   ],
   "source": [
    "node_target = '4932.YBR160W' # CDC28\n",
    "print('The target protein CDC28 belongs to community #',partLouvain[node_target])"
   ]
  },
  {
   "cell_type": "markdown",
   "metadata": {},
   "source": [
    "#### find the communities to which this community connects to"
   ]
  },
  {
   "cell_type": "code",
   "execution_count": 23,
   "metadata": {},
   "outputs": [],
   "source": [
    "# define the communities as separate graphs\n",
    "\n",
    "#subgraph dict with community number as key and subgraph as value\n",
    "G_cluster = {}\n",
    "\n",
    "#node dict with community number as key and node as value\n",
    "nodes = {}\n",
    "for i in range(number_of_communities):\n",
    "    nodes[i] = []\n",
    "\n",
    "for name, community in partLouvain.items():\n",
    "    nodes[community].append(name)\n",
    "    \n",
    "for key in nodes.keys():\n",
    "    G_cluster[key] = G0.subgraph(nodes[key])\n",
    "    "
   ]
  },
  {
   "cell_type": "markdown",
   "metadata": {},
   "source": [
    "#### find the communities which have links to the community of the target protein"
   ]
  },
  {
   "cell_type": "code",
   "execution_count": 24,
   "metadata": {
    "tags": []
   },
   "outputs": [
    {
     "output_type": "stream",
     "name": "stdout",
     "text": [
      "{'01': 0, '02': 1, '03': 0, '04': 1, '05': 0, '06': 4, '07': 1, '08': 0, '09': 0, '010': 0, '011': 0, '012': 0, '013': 0, '014': 0, '015': 0, '12': 539, '13': 737, '14': 753, '15': 1440, '16': 933, '17': 347, '18': 50, '19': 321, '110': 219, '111': 0, '112': 85, '113': 42, '114': 14, '115': 1, '23': 792, '24': 616, '25': 384, '26': 587, '27': 697, '28': 222, '29': 19, '210': 7061, '211': 0, '212': 57, '213': 7, '214': 23, '215': 0, '34': 231, '35': 334, '36': 1511, '37': 193, '38': 34, '39': 224, '310': 130, '311': 0, '312': 7, '313': 3, '314': 6, '315': 0, '45': 1176, '46': 229, '47': 127, '48': 53, '49': 26, '410': 177, '411': 2, '412': 27, '413': 17, '414': 15, '415': 0, '56': 671, '57': 152, '58': 110, '59': 45, '510': 339, '511': 2, '512': 82, '513': 33, '514': 18, '515': 0, '67': 1067, '68': 28, '69': 708, '610': 993, '611': 1, '612': 44, '613': 18, '614': 4, '615': 1, '78': 31, '79': 80, '710': 951, '711': 0, '712': 9, '713': 8, '714': 2, '715': 0, '89': 5, '810': 127, '811': 0, '812': 3, '813': 0, '814': 2, '815': 0, '910': 19, '911': 0, '912': 0, '913': 1, '914': 0, '915': 0, '1011': 5, '1012': 14, '1013': 9, '1014': 5, '1015': 0, '1112': 0, '1113': 0, '1114': 0, '1115': 0, '1213': 1, '1214': 0, '1215': 0, '1314': 4, '1315': 0, '1415': 0}\n"
     ]
    }
   ],
   "source": [
    "edges = {}\n",
    "for i in range(number_of_communities-1):\n",
    "    for j in range(i+1,number_of_communities):\n",
    "        edges[str(i)+str(j)] = 0\n",
    "\n",
    "for i in range(number_of_communities-1):\n",
    "    for node in G_cluster[i].nodes():\n",
    "        for neighbor in G0.neighbors(node):\n",
    "            for j in range(i+1,number_of_communities):\n",
    "                if neighbor in nodes[j]:\n",
    "                    edges[str(i)+str(j)] += 1\n",
    "print(edges) # convention: 'ij' denotes the edge between node i and node j"
   ]
  },
  {
   "cell_type": "code",
   "execution_count": 25,
   "metadata": {
    "tags": []
   },
   "outputs": [
    {
     "output_type": "stream",
     "name": "stdout",
     "text": [
      "[0, 1, 2, 3, 4, 5, 7, 8, 9, 10, 11, 12, 13, 14, 15]\n"
     ]
    }
   ],
   "source": [
    "# Find the communities which have links to the community of the target protein\n",
    "target_cluster = partLouvain[node_target]\n",
    "neighbor_cluster = []\n",
    "for i in range(number_of_communities):\n",
    "    if i < target_cluster:\n",
    "        if edges[str(i)+str(target_cluster)] != 0:\n",
    "            neighbor_cluster.append(i)\n",
    "    if i > target_cluster:\n",
    "        if edges[str(target_cluster)+str(i)] != 0:\n",
    "            neighbor_cluster.append(i)\n",
    "        \n",
    "print(neighbor_cluster)\n"
   ]
  },
  {
   "cell_type": "markdown",
   "metadata": {},
   "source": [
    "#### find the central nodes for each cluster"
   ]
  },
  {
   "cell_type": "code",
   "execution_count": 26,
   "metadata": {
    "tags": [
     "outputPrepend"
    ]
   },
   "outputs": [
    {
     "output_type": "stream",
     "name": "stdout",
     "text": [
      "4932.YGR094W  with value: 37.0000 \t\n",
      "\n",
      " Centrality Measure in Cluster: 8 Eigenvector\n",
      "1 : \t is node  4932.YGR094W  with value: 0.1778 \t\n",
      "2 : \t is node  4932.YBL076C  with value: 0.1769 \t\n",
      "3 : \t is node  4932.YPL160W  with value: 0.1764 \t\n",
      "4 : \t is node  4932.YGR185C  with value: 0.1761 \t\n",
      "5 : \t is node  4932.YDR023W  with value: 0.1754 \t\n",
      "6 : \t is node  4932.YIL078W  with value: 0.1754 \t\n",
      "7 : \t is node  4932.YDR037W  with value: 0.1752 \t\n",
      "8 : \t is node  4932.YGR264C  with value: 0.1745 \t\n",
      "9 : \t is node  4932.YNL073W  with value: 0.1738 \t\n",
      "10 : \t is node  4932.YOR335C  with value: 0.1731 \t\n",
      "\n",
      " Centrality Measure in Cluster: 8 Katz\n",
      "1 : \t is node  4932.YIL054W  with value: 0.2776 \t\n",
      "2 : \t is node  4932.YNL140C  with value: 0.2776 \t\n",
      "3 : \t is node  4932.YLR358C  with value: 0.2776 \t\n",
      "4 : \t is node  4932.YHR173C  with value: 0.2776 \t\n",
      "5 : \t is node  4932.YNL184C  with value: 0.2755 \t\n",
      "6 : \t is node  4932.YOR105W  with value: 0.2615 \t\n",
      "7 : \t is node  4932.YER084W  with value: 0.2615 \t\n",
      "8 : \t is node  4932.YNL143C  with value: 0.2489 \t\n",
      "9 : \t is node  4932.YJR146W  with value: 0.2138 \t\n",
      "10 : \t is node  4932.YPR089W  with value: 0.1767 \t\n",
      "\n",
      " Centrality Measure in Cluster: 8 Page Rank\n",
      "1 : \t is node  4932.YBL076C  with value: 0.0209 \t\n",
      "2 : \t is node  4932.YOR168W  with value: 0.0200 \t\n",
      "3 : \t is node  4932.YPR033C  with value: 0.0191 \t\n",
      "4 : \t is node  4932.YGR185C  with value: 0.0187 \t\n",
      "5 : \t is node  4932.YGL105W  with value: 0.0186 \t\n",
      "6 : \t is node  4932.YGL245W  with value: 0.0186 \t\n",
      "7 : \t is node  4932.YGR264C  with value: 0.0184 \t\n",
      "8 : \t is node  4932.YOR335C  with value: 0.0184 \t\n",
      "9 : \t is node  4932.YPL040C  with value: 0.0180 \t\n",
      "10 : \t is node  4932.YLR382C  with value: 0.0172 \t\n",
      "\n",
      " Centrality Measure in Cluster: 8 Betweeness\n",
      "1 : \t is node  4932.YGR102C  with value: 0.2279 \t\n",
      "2 : \t is node  4932.YNL184C  with value: 0.2211 \t\n",
      "3 : \t is node  4932.YBL080C  with value: 0.1989 \t\n",
      "4 : \t is node  4932.YPR033C  with value: 0.1074 \t\n",
      "5 : \t is node  4932.YLR382C  with value: 0.1056 \t\n",
      "6 : \t is node  4932.YDL025C  with value: 0.1044 \t\n",
      "7 : \t is node  4932.YGL245W  with value: 0.0927 \t\n",
      "8 : \t is node  4932.YGR150C  with value: 0.0889 \t\n",
      "9 : \t is node  4932.YBL076C  with value: 0.0868 \t\n",
      "10 : \t is node  4932.YMR293C  with value: 0.0700 \t\n",
      "\n",
      " Centrality Measure in Cluster: 9 Degree\n",
      "1 : \t is node  4932.YCL029C  with value: 69.0000 \t\n",
      "2 : \t is node  4932.YLR045C  with value: 67.0000 \t\n",
      "3 : \t is node  4932.YEL061C  with value: 67.0000 \t\n",
      "4 : \t is node  4932.YPL269W  with value: 63.0000 \t\n",
      "5 : \t is node  4932.YOL069W  with value: 61.0000 \t\n",
      "6 : \t is node  4932.YDL028C  with value: 61.0000 \t\n",
      "7 : \t is node  4932.YJL030W  with value: 58.0000 \t\n",
      "8 : \t is node  4932.YPL018W  with value: 57.0000 \t\n",
      "9 : \t is node  4932.YMR117C  with value: 57.0000 \t\n",
      "10 : \t is node  4932.YBR107C  with value: 57.0000 \t\n",
      "\n",
      " Centrality Measure in Cluster: 9 Eigenvector\n",
      "1 : \t is node  4932.YEL061C  with value: 0.1421 \t\n",
      "2 : \t is node  4932.YLR045C  with value: 0.1418 \t\n",
      "3 : \t is node  4932.YCL029C  with value: 0.1413 \t\n",
      "4 : \t is node  4932.YOL069W  with value: 0.1406 \t\n",
      "5 : \t is node  4932.YPL269W  with value: 0.1398 \t\n",
      "6 : \t is node  4932.YDL028C  with value: 0.1392 \t\n",
      "7 : \t is node  4932.YPL018W  with value: 0.1391 \t\n",
      "8 : \t is node  4932.YJL030W  with value: 0.1391 \t\n",
      "9 : \t is node  4932.YPL209C  with value: 0.1390 \t\n",
      "10 : \t is node  4932.YBR107C  with value: 0.1386 \t\n",
      "\n",
      " Centrality Measure in Cluster: 9 Katz\n",
      "1 : \t is node  4932.YHR184W  with value: 0.1664 \t\n",
      "2 : \t is node  4932.YOL091W  with value: 0.1550 \t\n",
      "3 : \t is node  4932.YDR273W  with value: 0.1483 \t\n",
      "4 : \t is node  4932.YOR177C  with value: 0.1476 \t\n",
      "5 : \t is node  4932.YDL239C  with value: 0.1441 \t\n",
      "6 : \t is node  4932.YOL015W  with value: 0.1326 \t\n",
      "7 : \t is node  4932.YLR341W  with value: 0.1322 \t\n",
      "8 : \t is node  4932.YGL170C  with value: 0.1317 \t\n",
      "9 : \t is node  4932.YGR147C  with value: 0.1181 \t\n",
      "10 : \t is node  4932.YGR146C-A  with value: 0.1181 \t\n",
      "\n",
      " Centrality Measure in Cluster: 9 Page Rank\n",
      "1 : \t is node  4932.YCL029C  with value: 0.0156 \t\n",
      "2 : \t is node  4932.YLR045C  with value: 0.0154 \t\n",
      "3 : \t is node  4932.YEL061C  with value: 0.0142 \t\n",
      "4 : \t is node  4932.YPL269W  with value: 0.0132 \t\n",
      "5 : \t is node  4932.YDL028C  with value: 0.0129 \t\n",
      "6 : \t is node  4932.YOL069W  with value: 0.0123 \t\n",
      "7 : \t is node  4932.YBR107C  with value: 0.0122 \t\n",
      "8 : \t is node  4932.YJL030W  with value: 0.0118 \t\n",
      "9 : \t is node  4932.YMR117C  with value: 0.0112 \t\n",
      "10 : \t is node  4932.YPL209C  with value: 0.0111 \t\n",
      "\n",
      " Centrality Measure in Cluster: 9 Betweeness\n",
      "1 : \t is node  4932.YNL225C  with value: 0.2502 \t\n",
      "2 : \t is node  4932.YPL269W  with value: 0.1364 \t\n",
      "3 : \t is node  4932.YLR045C  with value: 0.1296 \t\n",
      "4 : \t is node  4932.YHR184W  with value: 0.1164 \t\n",
      "5 : \t is node  4932.YOL015W  with value: 0.0771 \t\n",
      "6 : \t is node  4932.YCL029C  with value: 0.0718 \t\n",
      "7 : \t is node  4932.YBR107C  with value: 0.0716 \t\n",
      "8 : \t is node  4932.YLR341W  with value: 0.0689 \t\n",
      "9 : \t is node  4932.YKL042W  with value: 0.0679 \t\n",
      "10 : \t is node  4932.YEL061C  with value: 0.0433 \t\n",
      "\n",
      " Centrality Measure in Cluster: 10 Degree\n",
      "1 : \t is node  4932.YOR272W  with value: 233.0000 \t\n",
      "2 : \t is node  4932.YCL054W  with value: 223.0000 \t\n",
      "3 : \t is node  4932.YMR049C  with value: 222.0000 \t\n",
      "4 : \t is node  4932.YGR103W  with value: 222.0000 \t\n",
      "5 : \t is node  4932.YPL211W  with value: 220.0000 \t\n",
      "6 : \t is node  4932.YDR496C  with value: 219.0000 \t\n",
      "7 : \t is node  4932.YNL110C  with value: 217.0000 \t\n",
      "8 : \t is node  4932.YNL061W  with value: 217.0000 \t\n",
      "9 : \t is node  4932.YKR081C  with value: 217.0000 \t\n",
      "10 : \t is node  4932.YHR052W  with value: 216.0000 \t\n",
      "\n",
      " Centrality Measure in Cluster: 10 Eigenvector\n",
      "1 : \t is node  4932.YOR272W  with value: 0.0927 \t\n",
      "2 : \t is node  4932.YGR103W  with value: 0.0906 \t\n",
      "3 : \t is node  4932.YCL054W  with value: 0.0903 \t\n",
      "4 : \t is node  4932.YMR049C  with value: 0.0902 \t\n",
      "5 : \t is node  4932.YKR081C  with value: 0.0901 \t\n",
      "6 : \t is node  4932.YOR206W  with value: 0.0899 \t\n",
      "7 : \t is node  4932.YDR496C  with value: 0.0898 \t\n",
      "8 : \t is node  4932.YHR052W  with value: 0.0898 \t\n",
      "9 : \t is node  4932.YNL110C  with value: 0.0897 \t\n",
      "10 : \t is node  4932.YOL077C  with value: 0.0886 \t\n",
      "\n",
      " Centrality Measure in Cluster: 10 Katz\n",
      "1 : \t is node  4932.YDR165W  with value: 0.1517 \t\n",
      "2 : \t is node  4932.YNL151C  with value: 0.1509 \t\n",
      "3 : \t is node  4932.YDL150W  with value: 0.1359 \t\n",
      "4 : \t is node  4932.YNR003C  with value: 0.1299 \t\n",
      "5 : \t is node  4932.YBL014C  with value: 0.1223 \t\n",
      "6 : \t is node  4932.YJL025W  with value: 0.1223 \t\n",
      "7 : \t is node  4932.YKL125W  with value: 0.1156 \t\n",
      "8 : \t is node  4932.YDR465C  with value: 0.1139 \t\n",
      "9 : \t is node  4932.YBL039C  with value: 0.1133 \t\n",
      "10 : \t is node  4932.YDL201W  with value: 0.1126 \t\n",
      "\n",
      " Centrality Measure in Cluster: 10 Page Rank\n",
      "1 : \t is node  4932.YOR272W  with value: 0.0063 \t\n",
      "2 : \t is node  4932.YGR103W  with value: 0.0060 \t\n",
      "3 : \t is node  4932.YCL054W  with value: 0.0057 \t\n",
      "4 : \t is node  4932.YPL211W  with value: 0.0057 \t\n",
      "5 : \t is node  4932.YPL043W  with value: 0.0057 \t\n",
      "6 : \t is node  4932.YMR049C  with value: 0.0056 \t\n",
      "7 : \t is node  4932.YNL061W  with value: 0.0056 \t\n",
      "8 : \t is node  4932.YOL077C  with value: 0.0056 \t\n",
      "9 : \t is node  4932.YDR496C  with value: 0.0056 \t\n",
      "10 : \t is node  4932.YNL110C  with value: 0.0055 \t\n",
      "\n",
      " Centrality Measure in Cluster: 10 Betweeness\n",
      "1 : \t is node  4932.YPL086C  with value: 0.0272 \t\n",
      "2 : \t is node  4932.YDR465C  with value: 0.0197 \t\n",
      "3 : \t is node  4932.YOR272W  with value: 0.0177 \t\n",
      "4 : \t is node  4932.YNL062C  with value: 0.0159 \t\n",
      "5 : \t is node  4932.YPL043W  with value: 0.0157 \t\n",
      "6 : \t is node  4932.YGR103W  with value: 0.0156 \t\n",
      "7 : \t is node  4932.YML043C  with value: 0.0153 \t\n",
      "8 : \t is node  4932.YJR129C  with value: 0.0146 \t\n",
      "9 : \t is node  4932.YJL050W  with value: 0.0140 \t\n",
      "10 : \t is node  4932.YBR034C  with value: 0.0137 \t\n",
      "\n",
      " Centrality Measure in Cluster: 11 Degree\n",
      "1 : \t is node  4932.YER138W-A  with value: 7.0000 \t\n",
      "2 : \t is node  4932.YDR261W-B  with value: 6.0000 \t\n",
      "3 : \t is node  4932.YJR027W  with value: 4.0000 \t\n",
      "4 : \t is node  4932.YDR098C-B  with value: 4.0000 \t\n",
      "5 : \t is node  4932.YCR018C-A  with value: 4.0000 \t\n",
      "6 : \t is node  4932.YLR256W  with value: 3.0000 \t\n",
      "7 : \t is node  4932.YDR034C-A  with value: 3.0000 \t\n",
      "8 : \t is node  4932.YOL106W  with value: 2.0000 \t\n",
      "9 : \t is node  4932.YMR158C-A  with value: 2.0000 \t\n",
      "10 : \t is node  4932.YDR261W-A  with value: 2.0000 \t\n",
      "\n",
      " Centrality Measure in Cluster: 11 Eigenvector\n",
      "1 : \t is node  4932.YER138W-A  with value: 0.5054 \t\n",
      "2 : \t is node  4932.YDR261W-B  with value: 0.4386 \t\n",
      "3 : \t is node  4932.YDR098C-B  with value: 0.3849 \t\n",
      "4 : \t is node  4932.YJR027W  with value: 0.3388 \t\n",
      "5 : \t is node  4932.YLR256W  with value: 0.3192 \t\n",
      "6 : \t is node  4932.YCR018C-A  with value: 0.2391 \t\n",
      "7 : \t is node  4932.YDR034C-A  with value: 0.2045 \t\n",
      "8 : \t is node  4932.YMR158C-A  with value: 0.1789 \t\n",
      "9 : \t is node  4932.YDR261W-A  with value: 0.1387 \t\n",
      "10 : \t is node  4932.YCL019W  with value: 0.1387 \t\n",
      "\n",
      " Centrality Measure in Cluster: 11 Katz\n",
      "1 : \t is node  4932.YER138W-A  with value: 0.3898 \t\n",
      "2 : \t is node  4932.YDR261W-B  with value: 0.3592 \t\n",
      "3 : \t is node  4932.YDR098C-B  with value: 0.3154 \t\n",
      "4 : \t is node  4932.YJR027W  with value: 0.3085 \t\n",
      "5 : \t is node  4932.YCR018C-A  with value: 0.2959 \t\n",
      "6 : \t is node  4932.YLR256W  with value: 0.2873 \t\n",
      "7 : \t is node  4932.YDR034C-A  with value: 0.2732 \t\n",
      "8 : \t is node  4932.YMR158C-A  with value: 0.2495 \t\n",
      "9 : \t is node  4932.YDR261W-A  with value: 0.2409 \t\n",
      "10 : \t is node  4932.YCL019W  with value: 0.2409 \t\n",
      "\n",
      " Centrality Measure in Cluster: 11 Page Rank\n",
      "1 : \t is node  4932.YER138W-A  with value: 0.1603 \t\n",
      "2 : \t is node  4932.YDR261W-B  with value: 0.1425 \t\n",
      "3 : \t is node  4932.YJR027W  with value: 0.1029 \t\n",
      "4 : \t is node  4932.YDR098C-B  with value: 0.1020 \t\n",
      "5 : \t is node  4932.YCR018C-A  with value: 0.0957 \t\n",
      "6 : \t is node  4932.YDR034C-A  with value: 0.0759 \t\n",
      "7 : \t is node  4932.YLR256W  with value: 0.0736 \t\n",
      "8 : \t is node  4932.YOL106W  with value: 0.0557 \t\n",
      "9 : \t is node  4932.YDR261W-A  with value: 0.0534 \t\n",
      "10 : \t is node  4932.YCL019W  with value: 0.0534 \t\n",
      "\n",
      " Centrality Measure in Cluster: 11 Betweeness\n",
      "1 : \t is node  4932.YER138W-A  with value: 0.5303 \t\n",
      "2 : \t is node  4932.YDR261W-B  with value: 0.3394 \t\n",
      "3 : \t is node  4932.YJR027W  with value: 0.1818 \t\n",
      "4 : \t is node  4932.YCR018C-A  with value: 0.1000 \t\n",
      "5 : \t is node  4932.YDR034C-A  with value: 0.0727 \t\n",
      "6 : \t is node  4932.YDR098C-B  with value: 0.0121 \t\n",
      "7 : \t is node  4932.YOL106W  with value: 0.0000 \t\n",
      "8 : \t is node  4932.YMR158C-A  with value: 0.0000 \t\n",
      "9 : \t is node  4932.YLR256W  with value: 0.0000 \t\n",
      "10 : \t is node  4932.YGR109W-A  with value: 0.0000 \t\n",
      "\n",
      " Centrality Measure in Cluster: 12 Degree\n",
      "1 : \t is node  4932.YAR071W  with value: 21.0000 \t\n",
      "2 : \t is node  4932.YHR215W  with value: 20.0000 \t\n",
      "3 : \t is node  4932.YML123C  with value: 18.0000 \t\n",
      "4 : \t is node  4932.YJR156C  with value: 18.0000 \t\n",
      "5 : \t is node  4932.YPL214C  with value: 17.0000 \t\n",
      "6 : \t is node  4932.YGR233C  with value: 17.0000 \t\n",
      "7 : \t is node  4932.YEL029C  with value: 17.0000 \t\n",
      "8 : \t is node  4932.YOR143C  with value: 16.0000 \t\n",
      "9 : \t is node  4932.YBR296C  with value: 16.0000 \t\n",
      "10 : \t is node  4932.YBR093C  with value: 16.0000 \t\n",
      "\n",
      " Centrality Measure in Cluster: 12 Eigenvector\n",
      "1 : \t is node  4932.YAR071W  with value: 0.2986 \t\n",
      "2 : \t is node  4932.YHR215W  with value: 0.2893 \t\n",
      "3 : \t is node  4932.YBR093C  with value: 0.2448 \t\n",
      "4 : \t is node  4932.YML123C  with value: 0.2380 \t\n",
      "5 : \t is node  4932.YGR233C  with value: 0.2304 \t\n",
      "6 : \t is node  4932.YDR481C  with value: 0.2239 \t\n",
      "7 : \t is node  4932.YBR092C  with value: 0.2236 \t\n",
      "8 : \t is node  4932.YPL214C  with value: 0.2032 \t\n",
      "9 : \t is node  4932.YOR143C  with value: 0.2029 \t\n",
      "10 : \t is node  4932.YBR296C  with value: 0.2028 \t\n",
      "\n",
      " Centrality Measure in Cluster: 12 Katz\n",
      "1 : \t is node  4932.YJR156C  with value: 0.3097 \t\n",
      "2 : \t is node  4932.YFL058W  with value: 0.2792 \t\n",
      "3 : \t is node  4932.YOR143C  with value: 0.2610 \t\n",
      "4 : \t is node  4932.YDL244W  with value: 0.2579 \t\n",
      "5 : \t is node  4932.YPL214C  with value: 0.2574 \t\n",
      "6 : \t is node  4932.YNL332W  with value: 0.2533 \t\n",
      "7 : \t is node  4932.YOL055C  with value: 0.2500 \t\n",
      "8 : \t is node  4932.YPL258C  with value: 0.2304 \t\n",
      "9 : \t is node  4932.YEL029C  with value: 0.2251 \t\n",
      "10 : \t is node  4932.YGR144W  with value: 0.2142 \t\n",
      "\n",
      " Centrality Measure in Cluster: 12 Page Rank\n",
      "1 : \t is node  4932.YJR156C  with value: 0.0197 \t\n",
      "2 : \t is node  4932.YEL029C  with value: 0.0196 \t\n",
      "3 : \t is node  4932.YAR071W  with value: 0.0193 \t\n",
      "4 : \t is node  4932.YHR215W  with value: 0.0186 \t\n",
      "5 : \t is node  4932.YML123C  with value: 0.0178 \t\n",
      "6 : \t is node  4932.YPL214C  with value: 0.0174 \t\n",
      "7 : \t is node  4932.YBR035C  with value: 0.0169 \t\n",
      "8 : \t is node  4932.YFL058W  with value: 0.0168 \t\n",
      "9 : \t is node  4932.YOL055C  with value: 0.0166 \t\n",
      "10 : \t is node  4932.YIR020C  with value: 0.0166 \t\n",
      "\n",
      " Centrality Measure in Cluster: 12 Betweeness\n",
      "1 : \t is node  4932.YDR089W  with value: 0.1927 \t\n",
      "2 : \t is node  4932.YLR456W  with value: 0.1818 \t\n",
      "3 : \t is node  4932.YDR124W  with value: 0.1777 \t\n",
      "4 : \t is node  4932.YOR143C  with value: 0.1736 \t\n",
      "5 : \t is node  4932.YCR020C  with value: 0.1611 \t\n",
      "6 : \t is node  4932.YAR071W  with value: 0.1485 \t\n",
      "7 : \t is node  4932.YCR019W  with value: 0.1460 \t\n",
      "8 : \t is node  4932.YOL055C  with value: 0.1460 \t\n",
      "9 : \t is node  4932.YPL214C  with value: 0.1341 \t\n",
      "10 : \t is node  4932.YHR215W  with value: 0.1179 \t\n",
      "\n",
      " Centrality Measure in Cluster: 13 Degree\n",
      "1 : \t is node  4932.YHL050C  with value: 37.0000 \t\n",
      "2 : \t is node  4932.YHR218W  with value: 36.0000 \t\n",
      "3 : \t is node  4932.YHL049C  with value: 35.0000 \t\n",
      "4 : \t is node  4932.YBL111C  with value: 35.0000 \t\n",
      "5 : \t is node  4932.YFL066C  with value: 34.0000 \t\n",
      "6 : \t is node  4932.YLL067C  with value: 30.0000 \t\n",
      "7 : \t is node  4932.YHR218W-A  with value: 30.0000 \t\n",
      "8 : \t is node  4932.YLR462W  with value: 29.0000 \t\n",
      "9 : \t is node  4932.YHR219W  with value: 29.0000 \t\n",
      "10 : \t is node  4932.YLR466W  with value: 28.0000 \t\n",
      "\n",
      " Centrality Measure in Cluster: 13 Eigenvector\n",
      "1 : \t is node  4932.YHR218W  with value: 0.2357 \t\n",
      "2 : \t is node  4932.YBL111C  with value: 0.2313 \t\n",
      "3 : \t is node  4932.YHR218W-A  with value: 0.2157 \t\n",
      "4 : \t is node  4932.YFL066C  with value: 0.2098 \t\n",
      "5 : \t is node  4932.YHL050C  with value: 0.2058 \t\n",
      "6 : \t is node  4932.YLL067C  with value: 0.1995 \t\n",
      "7 : \t is node  4932.YJL225C  with value: 0.1944 \t\n",
      "8 : \t is node  4932.YHL049C  with value: 0.1932 \t\n",
      "9 : \t is node  4932.YLR462W  with value: 0.1930 \t\n",
      "10 : \t is node  4932.YHR219W  with value: 0.1915 \t\n",
      "\n",
      " Centrality Measure in Cluster: 13 Katz\n",
      "1 : \t is node  4932.YHL048W  with value: 0.0815 \t\n",
      "2 : \t is node  4932.YBL044W  with value: 0.0797 \t\n",
      "3 : \t is node  4932.YML132W  with value: 0.0697 \t\n",
      "4 : \t is node  4932.YBR302C  with value: 0.0665 \t\n",
      "5 : \t is node  4932.YNL336W  with value: 0.0665 \t\n",
      "6 : \t is node  4932.YJR161C  with value: 0.0665 \t\n",
      "7 : \t is node  4932.YFL062W  with value: 0.0665 \t\n",
      "8 : \t is node  4932.YDL248W  with value: 0.0665 \t\n",
      "9 : \t is node  4932.YBR144C  with value: 0.0632 \t\n",
      "10 : \t is node  4932.YIR040C  with value: 0.0617 \t\n",
      "\n",
      " Centrality Measure in Cluster: 13 Page Rank\n",
      "1 : \t is node  4932.YHL050C  with value: 0.0142 \t\n",
      "2 : \t is node  4932.YHL049C  with value: 0.0122 \t\n",
      "3 : \t is node  4932.YHR218W  with value: 0.0121 \t\n",
      "4 : \t is node  4932.YFL066C  with value: 0.0118 \t\n",
      "5 : \t is node  4932.YBL111C  with value: 0.0114 \t\n",
      "6 : \t is node  4932.YLL067C  with value: 0.0108 \t\n",
      "7 : \t is node  4932.YHR219W  with value: 0.0103 \t\n",
      "8 : \t is node  4932.YFL067W  with value: 0.0101 \t\n",
      "9 : \t is node  4932.YHR218W-A  with value: 0.0097 \t\n",
      "10 : \t is node  4932.YNL339C  with value: 0.0096 \t\n",
      "\n",
      " Centrality Measure in Cluster: 13 Betweeness\n",
      "1 : \t is node  4932.YFL067W  with value: 0.1881 \t\n",
      "2 : \t is node  4932.YHL049C  with value: 0.1774 \t\n",
      "3 : \t is node  4932.YKL223W  with value: 0.1469 \t\n",
      "4 : \t is node  4932.YHL050C  with value: 0.1430 \t\n",
      "5 : \t is node  4932.YHR213W  with value: 0.1261 \t\n",
      "6 : \t is node  4932.YKL225W  with value: 0.1216 \t\n",
      "7 : \t is node  4932.YHL046C  with value: 0.1205 \t\n",
      "8 : \t is node  4932.YKL224C  with value: 0.1103 \t\n",
      "9 : \t is node  4932.YIR040C  with value: 0.1046 \t\n",
      "10 : \t is node  4932.YFL066C  with value: 0.1023 \t\n",
      "\n",
      " Centrality Measure in Cluster: 14 Degree\n",
      "1 : \t is node  4932.YMR304C-A  with value: 16.0000 \t\n",
      "2 : \t is node  4932.YCR013C  with value: 14.0000 \t\n",
      "3 : \t is node  4932.YHR056W-A  with value: 13.0000 \t\n",
      "4 : \t is node  4932.YBL071C  with value: 13.0000 \t\n",
      "5 : \t is node  4932.YPR136C  with value: 11.0000 \t\n",
      "6 : \t is node  4932.YMR151W  with value: 11.0000 \t\n",
      "7 : \t is node  4932.YLR163W-A  with value: 11.0000 \t\n",
      "8 : \t is node  4932.YKL165C-A  with value: 11.0000 \t\n",
      "9 : \t is node  4932.YAL016C-B  with value: 11.0000 \t\n",
      "10 : \t is node  4932.YPR044C  with value: 10.0000 \t\n",
      "\n",
      " Centrality Measure in Cluster: 14 Eigenvector\n",
      "1 : \t is node  4932.YCR013C  with value: 0.3029 \t\n",
      "2 : \t is node  4932.YHR056W-A  with value: 0.3000 \t\n",
      "3 : \t is node  4932.YBL071C  with value: 0.3000 \t\n",
      "4 : \t is node  4932.YAL016C-B  with value: 0.2854 \t\n",
      "5 : \t is node  4932.YMR151W  with value: 0.2854 \t\n",
      "6 : \t is node  4932.YKL165C-A  with value: 0.2854 \t\n",
      "7 : \t is node  4932.YLR163W-A  with value: 0.2854 \t\n",
      "8 : \t is node  4932.YPR136C  with value: 0.2854 \t\n",
      "9 : \t is node  4932.YMR304C-A  with value: 0.2718 \t\n",
      "10 : \t is node  4932.YNL319W  with value: 0.2623 \t\n",
      "\n",
      " Centrality Measure in Cluster: 14 Katz\n",
      "1 : \t is node  4932.YHR056W-A  with value: 0.3006 \t\n",
      "2 : \t is node  4932.YBL071C  with value: 0.3006 \t\n",
      "3 : \t is node  4932.YCR013C  with value: 0.2986 \t\n",
      "4 : \t is node  4932.YPR136C  with value: 0.2878 \t\n",
      "5 : \t is node  4932.YMR151W  with value: 0.2878 \t\n",
      "6 : \t is node  4932.YKL165C-A  with value: 0.2878 \t\n",
      "7 : \t is node  4932.YAL016C-B  with value: 0.2878 \t\n",
      "8 : \t is node  4932.YLR163W-A  with value: 0.2878 \t\n",
      "9 : \t is node  4932.YNL319W  with value: 0.2664 \t\n",
      "10 : \t is node  4932.YBR191W-A  with value: 0.2450 \t\n",
      "\n",
      " Centrality Measure in Cluster: 14 Page Rank\n",
      "1 : \t is node  4932.YGL102C  with value: 0.0251 \t\n",
      "2 : \t is node  4932.YGR182C  with value: 0.0246 \t\n",
      "3 : \t is node  4932.YPR044C  with value: 0.0243 \t\n",
      "4 : \t is node  4932.YLL044W  with value: 0.0242 \t\n",
      "5 : \t is node  4932.YHR063W-A  with value: 0.0239 \t\n",
      "6 : \t is node  4932.YLR062C  with value: 0.0227 \t\n",
      "7 : \t is node  4932.YMR304C-A  with value: 0.0226 \t\n",
      "8 : \t is node  4932.YLR125W  with value: 0.0220 \t\n",
      "9 : \t is node  4932.YCR013C  with value: 0.0210 \t\n",
      "10 : \t is node  4932.YBR113W  with value: 0.0203 \t\n",
      "\n",
      " Centrality Measure in Cluster: 14 Betweeness\n",
      "1 : \t is node  4932.YCR013C  with value: 0.3756 \t\n",
      "2 : \t is node  4932.YKL153W  with value: 0.3525 \t\n",
      "3 : \t is node  4932.YDL228C  with value: 0.3307 \t\n",
      "4 : \t is node  4932.YAL004W  with value: 0.3116 \t\n",
      "5 : \t is node  4932.YBR113W  with value: 0.2792 \t\n",
      "6 : \t is node  4932.YMR304C-A  with value: 0.2785 \t\n",
      "7 : \t is node  4932.YLL044W  with value: 0.2235 \t\n",
      "8 : \t is node  4932.YDR417C  with value: 0.1844 \t\n",
      "9 : \t is node  4932.YLR339C  with value: 0.1646 \t\n",
      "10 : \t is node  4932.YLR112W  with value: 0.1636 \t\n",
      "\n",
      " Centrality Measure in Cluster: 15 Degree\n",
      "1 : \t is node  4932.YFR035C  with value: 2.0000 \t\n",
      "2 : \t is node  4932.YEL043W  with value: 2.0000 \t\n",
      "3 : \t is node  4932.YGR089W  with value: 1.0000 \t\n",
      "4 : \t is node  4932.YFR034W-A  with value: 1.0000 \t\n",
      "\n",
      " Centrality Measure in Cluster: 15 Eigenvector\n",
      "1 : \t is node  4932.YEL043W  with value: 0.6015 \t\n",
      "2 : \t is node  4932.YFR035C  with value: 0.6015 \t\n",
      "3 : \t is node  4932.YGR089W  with value: 0.3717 \t\n",
      "4 : \t is node  4932.YFR034W-A  with value: 0.3717 \t\n",
      "\n",
      " Centrality Measure in Cluster: 15 Katz\n",
      "1 : \t is node  4932.YFR035C  with value: 0.5232 \t\n",
      "2 : \t is node  4932.YEL043W  with value: 0.5232 \t\n",
      "3 : \t is node  4932.YGR089W  with value: 0.4757 \t\n",
      "4 : \t is node  4932.YFR034W-A  with value: 0.4757 \t\n",
      "\n",
      " Centrality Measure in Cluster: 15 Page Rank\n",
      "1 : \t is node  4932.YFR035C  with value: 0.3162 \t\n",
      "2 : \t is node  4932.YEL043W  with value: 0.3137 \t\n",
      "3 : \t is node  4932.YFR034W-A  with value: 0.1863 \t\n",
      "4 : \t is node  4932.YGR089W  with value: 0.1838 \t\n",
      "\n",
      " Centrality Measure in Cluster: 15 Betweeness\n",
      "1 : \t is node  4932.YFR035C  with value: 0.6667 \t\n",
      "2 : \t is node  4932.YEL043W  with value: 0.6667 \t\n",
      "3 : \t is node  4932.YGR089W  with value: 0.0000 \t\n",
      "4 : \t is node  4932.YFR034W-A  with value: 0.0000 \t\n"
     ]
    }
   ],
   "source": [
    "top10_final = {}\n",
    "for i in range(number_of_communities):\n",
    "    top10_final[i] = []\n",
    "    G = G_cluster[i]\n",
    "    measuresNames=[\"Degree\",\"Eigenvector\",\"Katz\",\"Page Rank\",\"Betweeness\"]\n",
    "    if len(G.nodes)>2:\n",
    "        listMeasures = [dict(nx.degree(G)),nx.eigenvector_centrality_numpy(G),nx.katz_centrality_numpy(G),nx.pagerank(G),nx.betweenness_centrality(G)]\n",
    "   \n",
    "    if len(G.nodes)<=2:\n",
    "        listMeasures = [dict(nx.degree(G)),nx.eigenvector_centrality(G),nx.katz_centrality(G),nx.pagerank(G),nx.betweenness_centrality(G)]\n",
    "   \n",
    "    for idx,dictMeasure in enumerate(listMeasures):\n",
    "        top10 = [[dictMeasure[k],k] for k in dictMeasure.keys()] # Choose the 10 largest values\n",
    "        top10.sort(reverse=True)\n",
    "        top10_final[i].append(top10)\n",
    "        print(\"\\n Centrality Measure in Cluster:\",str(i),measuresNames[idx])\n",
    "        for idx,pair in enumerate(top10[:10]):\n",
    "            print(str(idx+1),\": \\t is node \",pair[1],' with value: %.4f \\t' %(pair[0]))\n"
   ]
  },
  {
   "cell_type": "code",
   "execution_count": 27,
   "metadata": {},
   "outputs": [],
   "source": [
    "# write data file\n",
    "central_nodes = {'COMMUNITY':[], 'RANK':[], 'DEGREE_NODE':[],'DEGREE_VALUE':[], 'EIGENVECTOR_NODE':[],'EIGENVECTOR_VALUE':[], 'KATZ_NODE':[], 'KATZ_VALUE':[], 'PAGERANK_NODE':[], 'PAGERANK_VALUE':[], 'BETWEENESS_NODE':[], 'BETWEENESS_VALUE':[]}\n",
    " \n",
    "for i in range(number_of_communities):\n",
    "    G = G_cluster[i]\n",
    "    #the number of nodes in top10 central nodes\n",
    "    row_number = min(len(G.nodes),10)\n",
    "    central_nodes['COMMUNITY'].extend([i]*row_number)\n",
    "    central_nodes['RANK'].extend(list(range(1,row_number+1)))\n",
    "    \n",
    "    for j in range(row_number):\n",
    "        central_nodes['DEGREE_NODE'].append(top10_final[i][0][j][1][5:])\n",
    "        central_nodes['DEGREE_VALUE'].append(top10_final[i][0][j][0])\n",
    "        central_nodes['EIGENVECTOR_NODE'].append(top10_final[i][1][j][1][5:])\n",
    "        central_nodes['EIGENVECTOR_VALUE'].append(top10_final[i][1][j][0])\n",
    "        central_nodes['KATZ_NODE'].append(top10_final[i][2][j][1][5:])\n",
    "        central_nodes['KATZ_VALUE'].append(top10_final[i][2][j][0])\n",
    "        central_nodes['PAGERANK_NODE'].append(top10_final[i][3][j][1][5:])\n",
    "        central_nodes['PAGERANK_VALUE'].append(top10_final[i][3][j][0])\n",
    "        central_nodes['BETWEENESS_NODE'].append(top10_final[i][4][j][1][5:])\n",
    "        central_nodes['BETWEENESS_VALUE'].append(top10_final[i][4][j][0])\n",
    "\n",
    "df = pd.DataFrame(central_nodes, columns= ['COMMUNITY','RANK', 'DEGREE_NODE','DEGREE_VALUE', 'EIGENVECTOR_NODE','EIGENVECTOR_VALUE', 'KATZ_NODE', 'KATZ_VALUE', 'PAGERANK_NODE', 'PAGERANK_VALUE', 'BETWEENESS_NODE', 'BETWEENESS_VALUE'])\n",
    "df.to_csv(\"CDC28_Centrality_Louvain_thresh%s.csv\" %threshold_score, index=False)\n"
   ]
  },
  {
   "cell_type": "code",
   "execution_count": 28,
   "metadata": {},
   "outputs": [],
   "source": [
    "# write data file\n",
    "top10_final = {}\n",
    "for i in range(number_of_communities):\n",
    "    top10_final['COMMUNITY' + str(i)] = []\n",
    "    G = G_cluster[i]\n",
    "    measuresNames=[\"Degree\",\"Eigenvector\",\"Katz\",\"Page Rank\",\"Betweeness\"]\n",
    "    if len(G.nodes)>2:\n",
    "        listMeasures = [dict(nx.degree(G)),nx.eigenvector_centrality_numpy(G),nx.katz_centrality_numpy(G),nx.pagerank(G),nx.betweenness_centrality(G)]\n",
    "   \n",
    "    if len(G.nodes)<=2:\n",
    "        listMeasures = [dict(nx.degree(G)),nx.eigenvector_centrality(G),nx.katz_centrality(G),nx.pagerank(G),nx.betweenness_centrality(G)]\n",
    "   \n",
    "    for idx,dictMeasure in enumerate(listMeasures):\n",
    "        top10 = [[dictMeasure[k],k] for k in dictMeasure.keys()] # Choose the 10 largest values\n",
    "        top10.sort(reverse=True)\n",
    "        for idx,pair in enumerate(top10[:10]):\n",
    "            top10_final['COMMUNITY' + str(i)].append(pair[1])    \n",
    "        if len(G.nodes)< 10:\n",
    "            top10_final['COMMUNITY' + str(i)].extend(['None']*(10-len(G.nodes)))\n",
    "df = pd.DataFrame(top10_final, columns= list(top10_final.keys()))\n",
    "df.to_csv(\"CDC28_Centrality_Louvain_thresh%s_singlecolumn.csv\" %threshold_score, index=False)"
   ]
  },
  {
   "cell_type": "markdown",
   "metadata": {},
   "source": [
    "# III. Analysis"
   ]
  },
  {
   "cell_type": "code",
   "execution_count": 29,
   "metadata": {},
   "outputs": [],
   "source": [
    "# specify the partition to be analyzed\n",
    "partComm = partLouvain"
   ]
  },
  {
   "cell_type": "markdown",
   "metadata": {},
   "source": [
    "## Avenue #1:\n",
    "### restrict analysis to the cluster of the target node and identify the shortest path between the target node and one of the most central nodes of that same community"
   ]
  },
  {
   "cell_type": "code",
   "execution_count": 30,
   "metadata": {
    "tags": []
   },
   "outputs": [
    {
     "output_type": "error",
     "ename": "NodeNotFound",
     "evalue": "Either source 4932.YBR160W or target 4932.YLR199C is not in G",
     "traceback": [
      "\u001b[0;31m---------------------------------------------------------------------------\u001b[0m",
      "\u001b[0;31mNodeNotFound\u001b[0m                              Traceback (most recent call last)",
      "\u001b[0;32m<ipython-input-30-8886834874f4>\u001b[0m in \u001b[0;36m<module>\u001b[0;34m\u001b[0m\n\u001b[1;32m      7\u001b[0m \u001b[0;31m#node_central = '4932.YBL021C' # metabolism\u001b[0m\u001b[0;34m\u001b[0m\u001b[0;34m\u001b[0m\u001b[0;34m\u001b[0m\u001b[0m\n\u001b[1;32m      8\u001b[0m \u001b[0;34m\u001b[0m\u001b[0m\n\u001b[0;32m----> 9\u001b[0;31m \u001b[0mshortest_path_av1\u001b[0m \u001b[0;34m=\u001b[0m \u001b[0mnx\u001b[0m\u001b[0;34m.\u001b[0m\u001b[0mshortest_path\u001b[0m\u001b[0;34m(\u001b[0m\u001b[0mG_av1\u001b[0m\u001b[0;34m,\u001b[0m \u001b[0msource\u001b[0m\u001b[0;34m=\u001b[0m\u001b[0mnode_target\u001b[0m\u001b[0;34m,\u001b[0m \u001b[0mtarget\u001b[0m\u001b[0;34m=\u001b[0m\u001b[0mnode_central\u001b[0m\u001b[0;34m)\u001b[0m\u001b[0;34m\u001b[0m\u001b[0;34m\u001b[0m\u001b[0m\n\u001b[0m\u001b[1;32m     10\u001b[0m \u001b[0mlen_shortest_path_av1\u001b[0m \u001b[0;34m=\u001b[0m \u001b[0mlen\u001b[0m\u001b[0;34m(\u001b[0m\u001b[0mlist\u001b[0m\u001b[0;34m(\u001b[0m\u001b[0mshortest_path_av1\u001b[0m\u001b[0;34m)\u001b[0m\u001b[0;34m)\u001b[0m\u001b[0;34m\u001b[0m\u001b[0;34m\u001b[0m\u001b[0m\n\u001b[1;32m     11\u001b[0m \u001b[0;34m\u001b[0m\u001b[0m\n",
      "\u001b[0;32m~/anaconda3/lib/python3.8/site-packages/networkx/algorithms/shortest_paths/generic.py\u001b[0m in \u001b[0;36mshortest_path\u001b[0;34m(G, source, target, weight, method)\u001b[0m\n\u001b[1;32m    168\u001b[0m             \u001b[0;31m# Find shortest source-target path.\u001b[0m\u001b[0;34m\u001b[0m\u001b[0;34m\u001b[0m\u001b[0;34m\u001b[0m\u001b[0m\n\u001b[1;32m    169\u001b[0m             \u001b[0;32mif\u001b[0m \u001b[0mmethod\u001b[0m \u001b[0;34m==\u001b[0m \u001b[0;34m'unweighted'\u001b[0m\u001b[0;34m:\u001b[0m\u001b[0;34m\u001b[0m\u001b[0;34m\u001b[0m\u001b[0m\n\u001b[0;32m--> 170\u001b[0;31m                 \u001b[0mpaths\u001b[0m \u001b[0;34m=\u001b[0m \u001b[0mnx\u001b[0m\u001b[0;34m.\u001b[0m\u001b[0mbidirectional_shortest_path\u001b[0m\u001b[0;34m(\u001b[0m\u001b[0mG\u001b[0m\u001b[0;34m,\u001b[0m \u001b[0msource\u001b[0m\u001b[0;34m,\u001b[0m \u001b[0mtarget\u001b[0m\u001b[0;34m)\u001b[0m\u001b[0;34m\u001b[0m\u001b[0;34m\u001b[0m\u001b[0m\n\u001b[0m\u001b[1;32m    171\u001b[0m             \u001b[0;32melif\u001b[0m \u001b[0mmethod\u001b[0m \u001b[0;34m==\u001b[0m \u001b[0;34m'dijkstra'\u001b[0m\u001b[0;34m:\u001b[0m\u001b[0;34m\u001b[0m\u001b[0;34m\u001b[0m\u001b[0m\n\u001b[1;32m    172\u001b[0m                 \u001b[0mpaths\u001b[0m \u001b[0;34m=\u001b[0m \u001b[0mnx\u001b[0m\u001b[0;34m.\u001b[0m\u001b[0mdijkstra_path\u001b[0m\u001b[0;34m(\u001b[0m\u001b[0mG\u001b[0m\u001b[0;34m,\u001b[0m \u001b[0msource\u001b[0m\u001b[0;34m,\u001b[0m \u001b[0mtarget\u001b[0m\u001b[0;34m,\u001b[0m \u001b[0mweight\u001b[0m\u001b[0;34m)\u001b[0m\u001b[0;34m\u001b[0m\u001b[0;34m\u001b[0m\u001b[0m\n",
      "\u001b[0;32m~/anaconda3/lib/python3.8/site-packages/networkx/algorithms/shortest_paths/unweighted.py\u001b[0m in \u001b[0;36mbidirectional_shortest_path\u001b[0;34m(G, source, target)\u001b[0m\n\u001b[1;32m    221\u001b[0m     \u001b[0;32mif\u001b[0m \u001b[0msource\u001b[0m \u001b[0;32mnot\u001b[0m \u001b[0;32min\u001b[0m \u001b[0mG\u001b[0m \u001b[0;32mor\u001b[0m \u001b[0mtarget\u001b[0m \u001b[0;32mnot\u001b[0m \u001b[0;32min\u001b[0m \u001b[0mG\u001b[0m\u001b[0;34m:\u001b[0m\u001b[0;34m\u001b[0m\u001b[0;34m\u001b[0m\u001b[0m\n\u001b[1;32m    222\u001b[0m         \u001b[0mmsg\u001b[0m \u001b[0;34m=\u001b[0m \u001b[0;34m'Either source {} or target {} is not in G'\u001b[0m\u001b[0;34m\u001b[0m\u001b[0;34m\u001b[0m\u001b[0m\n\u001b[0;32m--> 223\u001b[0;31m         \u001b[0;32mraise\u001b[0m \u001b[0mnx\u001b[0m\u001b[0;34m.\u001b[0m\u001b[0mNodeNotFound\u001b[0m\u001b[0;34m(\u001b[0m\u001b[0mmsg\u001b[0m\u001b[0;34m.\u001b[0m\u001b[0mformat\u001b[0m\u001b[0;34m(\u001b[0m\u001b[0msource\u001b[0m\u001b[0;34m,\u001b[0m \u001b[0mtarget\u001b[0m\u001b[0;34m)\u001b[0m\u001b[0;34m)\u001b[0m\u001b[0;34m\u001b[0m\u001b[0;34m\u001b[0m\u001b[0m\n\u001b[0m\u001b[1;32m    224\u001b[0m \u001b[0;34m\u001b[0m\u001b[0m\n\u001b[1;32m    225\u001b[0m     \u001b[0;31m# call helper to do the real work\u001b[0m\u001b[0;34m\u001b[0m\u001b[0;34m\u001b[0m\u001b[0;34m\u001b[0m\u001b[0m\n",
      "\u001b[0;31mNodeNotFound\u001b[0m: Either source 4932.YBR160W or target 4932.YLR199C is not in G"
     ]
    }
   ],
   "source": [
    "# restrict to community of target node\n",
    "comm_target = partComm[node_target]\n",
    "G_av1 = G_cluster[comm_target]\n",
    "\n",
    "#node_central = '4932.YNL031C'\n",
    "node_central = '4932.YLR199C' # telomere maintenance\n",
    "#node_central = '4932.YBL021C' # metabolism\n",
    "\n",
    "shortest_path_av1 = nx.shortest_path(G_av1, source=node_target, target=node_central)\n",
    "len_shortest_path_av1 = len(list(shortest_path_av1))\n",
    "\n",
    "print('shortest path between the target protein and the specified central node:', shortest_path_av1)\n",
    "#print(list(nx.all_simple_paths(G_av1, source=node_target, target=node_central, cutoff=len_shortest_path_av1+1)))\n"
   ]
  },
  {
   "cell_type": "markdown",
   "metadata": {},
   "source": [
    "# VI. Centrality measures "
   ]
  },
  {
   "cell_type": "markdown",
   "metadata": {},
   "source": [
    "## Clustering\n",
    "\n",
    "$\\large{C_{net}}$"
   ]
  },
  {
   "cell_type": "code",
   "execution_count": 44,
   "metadata": {},
   "outputs": [
    {
     "output_type": "error",
     "ename": "KeyboardInterrupt",
     "evalue": "",
     "traceback": [
      "\u001b[0;31m---------------------------------------------------------------------------\u001b[0m",
      "\u001b[0;31mKeyboardInterrupt\u001b[0m                         Traceback (most recent call last)",
      "\u001b[0;32m<ipython-input-44-c317cce52c2d>\u001b[0m in \u001b[0;36m<module>\u001b[0;34m\u001b[0m\n\u001b[1;32m      1\u001b[0m \u001b[0;31m#G=G_CDC28\u001b[0m\u001b[0;34m\u001b[0m\u001b[0;34m\u001b[0m\u001b[0;34m\u001b[0m\u001b[0m\n\u001b[1;32m      2\u001b[0m \u001b[0mG\u001b[0m \u001b[0;34m=\u001b[0m \u001b[0mG0\u001b[0m\u001b[0;34m\u001b[0m\u001b[0;34m\u001b[0m\u001b[0m\n\u001b[0;32m----> 3\u001b[0;31m \u001b[0mG_randomized\u001b[0m \u001b[0;34m=\u001b[0m \u001b[0mnx\u001b[0m\u001b[0;34m.\u001b[0m\u001b[0mrandom_reference\u001b[0m\u001b[0;34m(\u001b[0m\u001b[0mG\u001b[0m\u001b[0;34m,\u001b[0m\u001b[0mconnectivity\u001b[0m\u001b[0;34m=\u001b[0m\u001b[0;32mTrue\u001b[0m\u001b[0;34m)\u001b[0m\u001b[0;34m\u001b[0m\u001b[0;34m\u001b[0m\u001b[0m\n\u001b[0m\u001b[1;32m      4\u001b[0m \u001b[0mprint\u001b[0m\u001b[0;34m(\u001b[0m\u001b[0;34m'C_net of G:'\u001b[0m\u001b[0;34m,\u001b[0m\u001b[0mnx\u001b[0m\u001b[0;34m.\u001b[0m\u001b[0mtransitivity\u001b[0m\u001b[0;34m(\u001b[0m\u001b[0mG\u001b[0m\u001b[0;34m)\u001b[0m\u001b[0;34m)\u001b[0m\u001b[0;34m\u001b[0m\u001b[0;34m\u001b[0m\u001b[0m\n\u001b[1;32m      5\u001b[0m \u001b[0mprint\u001b[0m\u001b[0;34m(\u001b[0m\u001b[0;34m'C_net of randomized G:'\u001b[0m\u001b[0;34m,\u001b[0m\u001b[0mnx\u001b[0m\u001b[0;34m.\u001b[0m\u001b[0mtransitivity\u001b[0m\u001b[0;34m(\u001b[0m\u001b[0mG_randomized\u001b[0m\u001b[0;34m)\u001b[0m\u001b[0;34m)\u001b[0m\u001b[0;34m;\u001b[0m\u001b[0;34m\u001b[0m\u001b[0;34m\u001b[0m\u001b[0m\n",
      "\u001b[0;32m<decorator-gen-523>\u001b[0m in \u001b[0;36mrandom_reference\u001b[0;34m(G, niter, connectivity, seed)\u001b[0m\n",
      "\u001b[0;32m~/anaconda3/envs/TFN/lib/python3.7/site-packages/networkx/utils/decorators.py\u001b[0m in \u001b[0;36m_random_state\u001b[0;34m(func, *args, **kwargs)\u001b[0m\n\u001b[1;32m    467\u001b[0m         \u001b[0mnew_args\u001b[0m \u001b[0;34m=\u001b[0m \u001b[0mlist\u001b[0m\u001b[0;34m(\u001b[0m\u001b[0margs\u001b[0m\u001b[0;34m)\u001b[0m\u001b[0;34m\u001b[0m\u001b[0;34m\u001b[0m\u001b[0m\n\u001b[1;32m    468\u001b[0m         \u001b[0mnew_args\u001b[0m\u001b[0;34m[\u001b[0m\u001b[0mrandom_state_index\u001b[0m\u001b[0;34m]\u001b[0m \u001b[0;34m=\u001b[0m \u001b[0mrandom_state\u001b[0m\u001b[0;34m\u001b[0m\u001b[0;34m\u001b[0m\u001b[0m\n\u001b[0;32m--> 469\u001b[0;31m         \u001b[0;32mreturn\u001b[0m \u001b[0mfunc\u001b[0m\u001b[0;34m(\u001b[0m\u001b[0;34m*\u001b[0m\u001b[0mnew_args\u001b[0m\u001b[0;34m,\u001b[0m \u001b[0;34m**\u001b[0m\u001b[0mkwargs\u001b[0m\u001b[0;34m)\u001b[0m\u001b[0;34m\u001b[0m\u001b[0;34m\u001b[0m\u001b[0m\n\u001b[0m\u001b[1;32m    470\u001b[0m \u001b[0;34m\u001b[0m\u001b[0m\n\u001b[1;32m    471\u001b[0m     \u001b[0;32mreturn\u001b[0m \u001b[0m_random_state\u001b[0m\u001b[0;34m\u001b[0m\u001b[0;34m\u001b[0m\u001b[0m\n",
      "\u001b[0;32m<decorator-gen-522>\u001b[0m in \u001b[0;36mrandom_reference\u001b[0;34m(G, niter, connectivity, seed)\u001b[0m\n",
      "\u001b[0;32m~/anaconda3/envs/TFN/lib/python3.7/site-packages/networkx/utils/decorators.py\u001b[0m in \u001b[0;36m_not_implemented_for\u001b[0;34m(not_implement_for_func, *args, **kwargs)\u001b[0m\n\u001b[1;32m     76\u001b[0m             \u001b[0;32mraise\u001b[0m \u001b[0mnx\u001b[0m\u001b[0;34m.\u001b[0m\u001b[0mNetworkXNotImplemented\u001b[0m\u001b[0;34m(\u001b[0m\u001b[0mmsg\u001b[0m\u001b[0;34m)\u001b[0m\u001b[0;34m\u001b[0m\u001b[0;34m\u001b[0m\u001b[0m\n\u001b[1;32m     77\u001b[0m         \u001b[0;32melse\u001b[0m\u001b[0;34m:\u001b[0m\u001b[0;34m\u001b[0m\u001b[0;34m\u001b[0m\u001b[0m\n\u001b[0;32m---> 78\u001b[0;31m             \u001b[0;32mreturn\u001b[0m \u001b[0mnot_implement_for_func\u001b[0m\u001b[0;34m(\u001b[0m\u001b[0;34m*\u001b[0m\u001b[0margs\u001b[0m\u001b[0;34m,\u001b[0m \u001b[0;34m**\u001b[0m\u001b[0mkwargs\u001b[0m\u001b[0;34m)\u001b[0m\u001b[0;34m\u001b[0m\u001b[0;34m\u001b[0m\u001b[0m\n\u001b[0m\u001b[1;32m     79\u001b[0m \u001b[0;34m\u001b[0m\u001b[0m\n\u001b[1;32m     80\u001b[0m     \u001b[0;32mreturn\u001b[0m \u001b[0m_not_implemented_for\u001b[0m\u001b[0;34m\u001b[0m\u001b[0;34m\u001b[0m\u001b[0m\n",
      "\u001b[0;32m<decorator-gen-521>\u001b[0m in \u001b[0;36mrandom_reference\u001b[0;34m(G, niter, connectivity, seed)\u001b[0m\n",
      "\u001b[0;32m~/anaconda3/envs/TFN/lib/python3.7/site-packages/networkx/utils/decorators.py\u001b[0m in \u001b[0;36m_not_implemented_for\u001b[0;34m(not_implement_for_func, *args, **kwargs)\u001b[0m\n\u001b[1;32m     76\u001b[0m             \u001b[0;32mraise\u001b[0m \u001b[0mnx\u001b[0m\u001b[0;34m.\u001b[0m\u001b[0mNetworkXNotImplemented\u001b[0m\u001b[0;34m(\u001b[0m\u001b[0mmsg\u001b[0m\u001b[0;34m)\u001b[0m\u001b[0;34m\u001b[0m\u001b[0;34m\u001b[0m\u001b[0m\n\u001b[1;32m     77\u001b[0m         \u001b[0;32melse\u001b[0m\u001b[0;34m:\u001b[0m\u001b[0;34m\u001b[0m\u001b[0;34m\u001b[0m\u001b[0m\n\u001b[0;32m---> 78\u001b[0;31m             \u001b[0;32mreturn\u001b[0m \u001b[0mnot_implement_for_func\u001b[0m\u001b[0;34m(\u001b[0m\u001b[0;34m*\u001b[0m\u001b[0margs\u001b[0m\u001b[0;34m,\u001b[0m \u001b[0;34m**\u001b[0m\u001b[0mkwargs\u001b[0m\u001b[0;34m)\u001b[0m\u001b[0;34m\u001b[0m\u001b[0;34m\u001b[0m\u001b[0m\n\u001b[0m\u001b[1;32m     79\u001b[0m \u001b[0;34m\u001b[0m\u001b[0m\n\u001b[1;32m     80\u001b[0m     \u001b[0;32mreturn\u001b[0m \u001b[0m_not_implemented_for\u001b[0m\u001b[0;34m\u001b[0m\u001b[0;34m\u001b[0m\u001b[0m\n",
      "\u001b[0;32m~/anaconda3/envs/TFN/lib/python3.7/site-packages/networkx/algorithms/smallworld.py\u001b[0m in \u001b[0;36mrandom_reference\u001b[0;34m(G, niter, connectivity, seed)\u001b[0m\n\u001b[1;32m    104\u001b[0m \u001b[0;34m\u001b[0m\u001b[0m\n\u001b[1;32m    105\u001b[0m                 \u001b[0;31m# Check if the graph is still connected\u001b[0m\u001b[0;34m\u001b[0m\u001b[0;34m\u001b[0m\u001b[0;34m\u001b[0m\u001b[0m\n\u001b[0;32m--> 106\u001b[0;31m                 \u001b[0;32mif\u001b[0m \u001b[0mconnectivity\u001b[0m \u001b[0;32mand\u001b[0m \u001b[0mlocal_conn\u001b[0m\u001b[0;34m(\u001b[0m\u001b[0mG\u001b[0m\u001b[0;34m,\u001b[0m \u001b[0ma\u001b[0m\u001b[0;34m,\u001b[0m \u001b[0mb\u001b[0m\u001b[0;34m)\u001b[0m \u001b[0;34m==\u001b[0m \u001b[0;36m0\u001b[0m\u001b[0;34m:\u001b[0m\u001b[0;34m\u001b[0m\u001b[0;34m\u001b[0m\u001b[0m\n\u001b[0m\u001b[1;32m    107\u001b[0m                     \u001b[0;31m# Not connected, revert the swap\u001b[0m\u001b[0;34m\u001b[0m\u001b[0;34m\u001b[0m\u001b[0;34m\u001b[0m\u001b[0m\n\u001b[1;32m    108\u001b[0m                     \u001b[0mG\u001b[0m\u001b[0;34m.\u001b[0m\u001b[0mremove_edge\u001b[0m\u001b[0;34m(\u001b[0m\u001b[0ma\u001b[0m\u001b[0;34m,\u001b[0m \u001b[0md\u001b[0m\u001b[0;34m)\u001b[0m\u001b[0;34m\u001b[0m\u001b[0;34m\u001b[0m\u001b[0m\n",
      "\u001b[0;32m~/anaconda3/envs/TFN/lib/python3.7/site-packages/networkx/algorithms/connectivity/connectivity.py\u001b[0m in \u001b[0;36mlocal_edge_connectivity\u001b[0;34m(G, s, t, flow_func, auxiliary, residual, cutoff)\u001b[0m\n\u001b[1;32m    645\u001b[0m         \u001b[0mkwargs\u001b[0m\u001b[0;34m[\u001b[0m\u001b[0;34m\"cutoff\"\u001b[0m\u001b[0;34m]\u001b[0m \u001b[0;34m=\u001b[0m \u001b[0mcutoff\u001b[0m\u001b[0;34m\u001b[0m\u001b[0;34m\u001b[0m\u001b[0m\n\u001b[1;32m    646\u001b[0m \u001b[0;34m\u001b[0m\u001b[0m\n\u001b[0;32m--> 647\u001b[0;31m     \u001b[0;32mreturn\u001b[0m \u001b[0mnx\u001b[0m\u001b[0;34m.\u001b[0m\u001b[0mmaximum_flow_value\u001b[0m\u001b[0;34m(\u001b[0m\u001b[0mH\u001b[0m\u001b[0;34m,\u001b[0m \u001b[0ms\u001b[0m\u001b[0;34m,\u001b[0m \u001b[0mt\u001b[0m\u001b[0;34m,\u001b[0m \u001b[0;34m**\u001b[0m\u001b[0mkwargs\u001b[0m\u001b[0;34m)\u001b[0m\u001b[0;34m\u001b[0m\u001b[0;34m\u001b[0m\u001b[0m\n\u001b[0m\u001b[1;32m    648\u001b[0m \u001b[0;34m\u001b[0m\u001b[0m\n\u001b[1;32m    649\u001b[0m \u001b[0;34m\u001b[0m\u001b[0m\n",
      "\u001b[0;32m~/anaconda3/envs/TFN/lib/python3.7/site-packages/networkx/algorithms/flow/maxflow.py\u001b[0m in \u001b[0;36mmaximum_flow_value\u001b[0;34m(flowG, _s, _t, capacity, flow_func, **kwargs)\u001b[0m\n\u001b[1;32m    305\u001b[0m         \u001b[0;32mraise\u001b[0m \u001b[0mnx\u001b[0m\u001b[0;34m.\u001b[0m\u001b[0mNetworkXError\u001b[0m\u001b[0;34m(\u001b[0m\u001b[0;34m\"flow_func has to be callable.\"\u001b[0m\u001b[0;34m)\u001b[0m\u001b[0;34m\u001b[0m\u001b[0;34m\u001b[0m\u001b[0m\n\u001b[1;32m    306\u001b[0m \u001b[0;34m\u001b[0m\u001b[0m\n\u001b[0;32m--> 307\u001b[0;31m     \u001b[0mR\u001b[0m \u001b[0;34m=\u001b[0m \u001b[0mflow_func\u001b[0m\u001b[0;34m(\u001b[0m\u001b[0mflowG\u001b[0m\u001b[0;34m,\u001b[0m \u001b[0m_s\u001b[0m\u001b[0;34m,\u001b[0m \u001b[0m_t\u001b[0m\u001b[0;34m,\u001b[0m \u001b[0mcapacity\u001b[0m\u001b[0;34m=\u001b[0m\u001b[0mcapacity\u001b[0m\u001b[0;34m,\u001b[0m \u001b[0mvalue_only\u001b[0m\u001b[0;34m=\u001b[0m\u001b[0;32mTrue\u001b[0m\u001b[0;34m,\u001b[0m \u001b[0;34m**\u001b[0m\u001b[0mkwargs\u001b[0m\u001b[0;34m)\u001b[0m\u001b[0;34m\u001b[0m\u001b[0;34m\u001b[0m\u001b[0m\n\u001b[0m\u001b[1;32m    308\u001b[0m \u001b[0;34m\u001b[0m\u001b[0m\n\u001b[1;32m    309\u001b[0m     \u001b[0;32mreturn\u001b[0m \u001b[0mR\u001b[0m\u001b[0;34m.\u001b[0m\u001b[0mgraph\u001b[0m\u001b[0;34m[\u001b[0m\u001b[0;34m\"flow_value\"\u001b[0m\u001b[0;34m]\u001b[0m\u001b[0;34m\u001b[0m\u001b[0;34m\u001b[0m\u001b[0m\n",
      "\u001b[0;32m~/anaconda3/envs/TFN/lib/python3.7/site-packages/networkx/algorithms/flow/edmondskarp.py\u001b[0m in \u001b[0;36medmonds_karp\u001b[0;34m(G, s, t, capacity, residual, value_only, cutoff)\u001b[0m\n\u001b[1;32m    239\u001b[0m \u001b[0;34m\u001b[0m\u001b[0m\n\u001b[1;32m    240\u001b[0m     \"\"\"\n\u001b[0;32m--> 241\u001b[0;31m     \u001b[0mR\u001b[0m \u001b[0;34m=\u001b[0m \u001b[0medmonds_karp_impl\u001b[0m\u001b[0;34m(\u001b[0m\u001b[0mG\u001b[0m\u001b[0;34m,\u001b[0m \u001b[0ms\u001b[0m\u001b[0;34m,\u001b[0m \u001b[0mt\u001b[0m\u001b[0;34m,\u001b[0m \u001b[0mcapacity\u001b[0m\u001b[0;34m,\u001b[0m \u001b[0mresidual\u001b[0m\u001b[0;34m,\u001b[0m \u001b[0mcutoff\u001b[0m\u001b[0;34m)\u001b[0m\u001b[0;34m\u001b[0m\u001b[0;34m\u001b[0m\u001b[0m\n\u001b[0m\u001b[1;32m    242\u001b[0m     \u001b[0mR\u001b[0m\u001b[0;34m.\u001b[0m\u001b[0mgraph\u001b[0m\u001b[0;34m[\u001b[0m\u001b[0;34m\"algorithm\"\u001b[0m\u001b[0;34m]\u001b[0m \u001b[0;34m=\u001b[0m \u001b[0;34m\"edmonds_karp\"\u001b[0m\u001b[0;34m\u001b[0m\u001b[0;34m\u001b[0m\u001b[0m\n\u001b[1;32m    243\u001b[0m     \u001b[0;32mreturn\u001b[0m \u001b[0mR\u001b[0m\u001b[0;34m\u001b[0m\u001b[0;34m\u001b[0m\u001b[0m\n",
      "\u001b[0;32m~/anaconda3/envs/TFN/lib/python3.7/site-packages/networkx/algorithms/flow/edmondskarp.py\u001b[0m in \u001b[0;36medmonds_karp_impl\u001b[0;34m(G, s, t, capacity, residual, cutoff)\u001b[0m\n\u001b[1;32m    106\u001b[0m \u001b[0;34m\u001b[0m\u001b[0m\n\u001b[1;32m    107\u001b[0m     \u001b[0;32mif\u001b[0m \u001b[0mresidual\u001b[0m \u001b[0;32mis\u001b[0m \u001b[0;32mNone\u001b[0m\u001b[0;34m:\u001b[0m\u001b[0;34m\u001b[0m\u001b[0;34m\u001b[0m\u001b[0m\n\u001b[0;32m--> 108\u001b[0;31m         \u001b[0mR\u001b[0m \u001b[0;34m=\u001b[0m \u001b[0mbuild_residual_network\u001b[0m\u001b[0;34m(\u001b[0m\u001b[0mG\u001b[0m\u001b[0;34m,\u001b[0m \u001b[0mcapacity\u001b[0m\u001b[0;34m)\u001b[0m\u001b[0;34m\u001b[0m\u001b[0;34m\u001b[0m\u001b[0m\n\u001b[0m\u001b[1;32m    109\u001b[0m     \u001b[0;32melse\u001b[0m\u001b[0;34m:\u001b[0m\u001b[0;34m\u001b[0m\u001b[0;34m\u001b[0m\u001b[0m\n\u001b[1;32m    110\u001b[0m         \u001b[0mR\u001b[0m \u001b[0;34m=\u001b[0m \u001b[0mresidual\u001b[0m\u001b[0;34m\u001b[0m\u001b[0;34m\u001b[0m\u001b[0m\n",
      "\u001b[0;32m~/anaconda3/envs/TFN/lib/python3.7/site-packages/networkx/algorithms/flow/utils.py\u001b[0m in \u001b[0;36mbuild_residual_network\u001b[0;34m(G, capacity)\u001b[0m\n\u001b[1;32m    108\u001b[0m     edge_list = [\n\u001b[1;32m    109\u001b[0m         \u001b[0;34m(\u001b[0m\u001b[0mu\u001b[0m\u001b[0;34m,\u001b[0m \u001b[0mv\u001b[0m\u001b[0;34m,\u001b[0m \u001b[0mattr\u001b[0m\u001b[0;34m)\u001b[0m\u001b[0;34m\u001b[0m\u001b[0;34m\u001b[0m\u001b[0m\n\u001b[0;32m--> 110\u001b[0;31m         \u001b[0;32mfor\u001b[0m \u001b[0mu\u001b[0m\u001b[0;34m,\u001b[0m \u001b[0mv\u001b[0m\u001b[0;34m,\u001b[0m \u001b[0mattr\u001b[0m \u001b[0;32min\u001b[0m \u001b[0mG\u001b[0m\u001b[0;34m.\u001b[0m\u001b[0medges\u001b[0m\u001b[0;34m(\u001b[0m\u001b[0mdata\u001b[0m\u001b[0;34m=\u001b[0m\u001b[0;32mTrue\u001b[0m\u001b[0;34m)\u001b[0m\u001b[0;34m\u001b[0m\u001b[0;34m\u001b[0m\u001b[0m\n\u001b[0m\u001b[1;32m    111\u001b[0m         \u001b[0;32mif\u001b[0m \u001b[0mu\u001b[0m \u001b[0;34m!=\u001b[0m \u001b[0mv\u001b[0m \u001b[0;32mand\u001b[0m \u001b[0mattr\u001b[0m\u001b[0;34m.\u001b[0m\u001b[0mget\u001b[0m\u001b[0;34m(\u001b[0m\u001b[0mcapacity\u001b[0m\u001b[0;34m,\u001b[0m \u001b[0minf\u001b[0m\u001b[0;34m)\u001b[0m \u001b[0;34m>\u001b[0m \u001b[0;36m0\u001b[0m\u001b[0;34m\u001b[0m\u001b[0;34m\u001b[0m\u001b[0m\n\u001b[1;32m    112\u001b[0m     ]\n",
      "\u001b[0;32m~/anaconda3/envs/TFN/lib/python3.7/site-packages/networkx/algorithms/flow/utils.py\u001b[0m in \u001b[0;36m<listcomp>\u001b[0;34m(.0)\u001b[0m\n\u001b[1;32m    107\u001b[0m     \u001b[0;31m# Extract edges with positive capacities. Self loops excluded.\u001b[0m\u001b[0;34m\u001b[0m\u001b[0;34m\u001b[0m\u001b[0;34m\u001b[0m\u001b[0m\n\u001b[1;32m    108\u001b[0m     edge_list = [\n\u001b[0;32m--> 109\u001b[0;31m         \u001b[0;34m(\u001b[0m\u001b[0mu\u001b[0m\u001b[0;34m,\u001b[0m \u001b[0mv\u001b[0m\u001b[0;34m,\u001b[0m \u001b[0mattr\u001b[0m\u001b[0;34m)\u001b[0m\u001b[0;34m\u001b[0m\u001b[0;34m\u001b[0m\u001b[0m\n\u001b[0m\u001b[1;32m    110\u001b[0m         \u001b[0;32mfor\u001b[0m \u001b[0mu\u001b[0m\u001b[0;34m,\u001b[0m \u001b[0mv\u001b[0m\u001b[0;34m,\u001b[0m \u001b[0mattr\u001b[0m \u001b[0;32min\u001b[0m \u001b[0mG\u001b[0m\u001b[0;34m.\u001b[0m\u001b[0medges\u001b[0m\u001b[0;34m(\u001b[0m\u001b[0mdata\u001b[0m\u001b[0;34m=\u001b[0m\u001b[0;32mTrue\u001b[0m\u001b[0;34m)\u001b[0m\u001b[0;34m\u001b[0m\u001b[0;34m\u001b[0m\u001b[0m\n\u001b[1;32m    111\u001b[0m         \u001b[0;32mif\u001b[0m \u001b[0mu\u001b[0m \u001b[0;34m!=\u001b[0m \u001b[0mv\u001b[0m \u001b[0;32mand\u001b[0m \u001b[0mattr\u001b[0m\u001b[0;34m.\u001b[0m\u001b[0mget\u001b[0m\u001b[0;34m(\u001b[0m\u001b[0mcapacity\u001b[0m\u001b[0;34m,\u001b[0m \u001b[0minf\u001b[0m\u001b[0;34m)\u001b[0m \u001b[0;34m>\u001b[0m \u001b[0;36m0\u001b[0m\u001b[0;34m\u001b[0m\u001b[0;34m\u001b[0m\u001b[0m\n",
      "\u001b[0;32m~/anaconda3/envs/TFN/lib/python3.7/site-packages/networkx/classes/reportviews.py\u001b[0m in \u001b[0;36m<genexpr>\u001b[0;34m(.0)\u001b[0m\n\u001b[1;32m    716\u001b[0m             \u001b[0mself\u001b[0m\u001b[0;34m.\u001b[0m\u001b[0m_report\u001b[0m\u001b[0;34m(\u001b[0m\u001b[0mn\u001b[0m\u001b[0;34m,\u001b[0m \u001b[0mnbr\u001b[0m\u001b[0;34m,\u001b[0m \u001b[0mdd\u001b[0m\u001b[0;34m)\u001b[0m\u001b[0;34m\u001b[0m\u001b[0;34m\u001b[0m\u001b[0m\n\u001b[1;32m    717\u001b[0m             \u001b[0;32mfor\u001b[0m \u001b[0mn\u001b[0m\u001b[0;34m,\u001b[0m \u001b[0mnbrs\u001b[0m \u001b[0;32min\u001b[0m \u001b[0mself\u001b[0m\u001b[0;34m.\u001b[0m\u001b[0m_nodes_nbrs\u001b[0m\u001b[0;34m(\u001b[0m\u001b[0;34m)\u001b[0m\u001b[0;34m\u001b[0m\u001b[0;34m\u001b[0m\u001b[0m\n\u001b[0;32m--> 718\u001b[0;31m             \u001b[0;32mfor\u001b[0m \u001b[0mnbr\u001b[0m\u001b[0;34m,\u001b[0m \u001b[0mdd\u001b[0m \u001b[0;32min\u001b[0m \u001b[0mnbrs\u001b[0m\u001b[0;34m.\u001b[0m\u001b[0mitems\u001b[0m\u001b[0;34m(\u001b[0m\u001b[0;34m)\u001b[0m\u001b[0;34m\u001b[0m\u001b[0;34m\u001b[0m\u001b[0m\n\u001b[0m\u001b[1;32m    719\u001b[0m         )\n\u001b[1;32m    720\u001b[0m \u001b[0;34m\u001b[0m\u001b[0m\n",
      "\u001b[0;32m~/anaconda3/envs/TFN/lib/python3.7/site-packages/networkx/classes/reportviews.py\u001b[0m in \u001b[0;36m<lambda>\u001b[0;34m(n, nbr, dd)\u001b[0m\n\u001b[1;32m    699\u001b[0m         \u001b[0;31m# Set _report based on data and default\u001b[0m\u001b[0;34m\u001b[0m\u001b[0;34m\u001b[0m\u001b[0;34m\u001b[0m\u001b[0m\n\u001b[1;32m    700\u001b[0m         \u001b[0;32mif\u001b[0m \u001b[0mdata\u001b[0m \u001b[0;32mis\u001b[0m \u001b[0;32mTrue\u001b[0m\u001b[0;34m:\u001b[0m\u001b[0;34m\u001b[0m\u001b[0;34m\u001b[0m\u001b[0m\n\u001b[0;32m--> 701\u001b[0;31m             \u001b[0mself\u001b[0m\u001b[0;34m.\u001b[0m\u001b[0m_report\u001b[0m \u001b[0;34m=\u001b[0m \u001b[0;32mlambda\u001b[0m \u001b[0mn\u001b[0m\u001b[0;34m,\u001b[0m \u001b[0mnbr\u001b[0m\u001b[0;34m,\u001b[0m \u001b[0mdd\u001b[0m\u001b[0;34m:\u001b[0m \u001b[0;34m(\u001b[0m\u001b[0mn\u001b[0m\u001b[0;34m,\u001b[0m \u001b[0mnbr\u001b[0m\u001b[0;34m,\u001b[0m \u001b[0mdd\u001b[0m\u001b[0;34m)\u001b[0m\u001b[0;34m\u001b[0m\u001b[0;34m\u001b[0m\u001b[0m\n\u001b[0m\u001b[1;32m    702\u001b[0m         \u001b[0;32melif\u001b[0m \u001b[0mdata\u001b[0m \u001b[0;32mis\u001b[0m \u001b[0;32mFalse\u001b[0m\u001b[0;34m:\u001b[0m\u001b[0;34m\u001b[0m\u001b[0;34m\u001b[0m\u001b[0m\n\u001b[1;32m    703\u001b[0m             \u001b[0mself\u001b[0m\u001b[0;34m.\u001b[0m\u001b[0m_report\u001b[0m \u001b[0;34m=\u001b[0m \u001b[0;32mlambda\u001b[0m \u001b[0mn\u001b[0m\u001b[0;34m,\u001b[0m \u001b[0mnbr\u001b[0m\u001b[0;34m,\u001b[0m \u001b[0mdd\u001b[0m\u001b[0;34m:\u001b[0m \u001b[0;34m(\u001b[0m\u001b[0mn\u001b[0m\u001b[0;34m,\u001b[0m \u001b[0mnbr\u001b[0m\u001b[0;34m)\u001b[0m\u001b[0;34m\u001b[0m\u001b[0;34m\u001b[0m\u001b[0m\n",
      "\u001b[0;31mKeyboardInterrupt\u001b[0m: "
     ]
    }
   ],
   "source": [
    "#G=G_CDC28\n",
    "G = G0\n",
    "G_randomized = nx.random_reference(G,connectivity=True) \n",
    "print('C_net of G:',nx.transitivity(G))\n",
    "print('C_net of randomized G:',nx.transitivity(G_randomized));"
   ]
  },
  {
   "cell_type": "code",
   "execution_count": 48,
   "metadata": {},
   "outputs": [],
   "source": [
    "cluster=nx.clustering(G,nodes=G.nodes)"
   ]
  },
  {
   "cell_type": "code",
   "execution_count": null,
   "metadata": {},
   "outputs": [],
   "source": [
    "#print('Clustering:',nx.clustering(G))\n",
    "totalC=0\n",
    "cluster=nx.clustering(G,nodes=G.nodes)\n",
    "cluster_keys=list(cluster)\n",
    "cluster_values=list(cluster.values())\n",
    "for n in range(len(G.nodes)):\n",
    "    totalC = totalC+cluster_values[n]\n",
    "print(\"Average clustering of G = \"+str(totalC/nx.number_of_nodes(G)) )\n",
    "\n",
    "totalC=0\n",
    "cluster=nx.clustering(G_randomized,nodes=G_randomized.nodes)\n",
    "cluster_keys=list(cluster)\n",
    "cluster_values=list(cluster.values())\n",
    "for n in range(len(G_randomized.nodes)):\n",
    "    totalC = totalC+cluster_values[n]\n",
    "print(\"Average clustering of randomized G= \"+str(totalC/nx.number_of_nodes(G_randomized)) )\n"
   ]
  },
  {
   "cell_type": "markdown",
   "metadata": {},
   "source": [
    "## Degree"
   ]
  },
  {
   "cell_type": "code",
   "execution_count": 49,
   "metadata": {
    "tags": []
   },
   "outputs": [
    {
     "output_type": "stream",
     "name": "stdout",
     "text": "Node 4932.YLR167W has degree 481\nNode 4932.YKR094C has degree 463\nNode 4932.YLL039C has degree 409\nNode 4932.YNL178W has degree 384\nNode 4932.YKL009W has degree 384\nNode 4932.YJR123W has degree 367\nNode 4932.YGL123W has degree 354\nNode 4932.YDR064W has degree 352\nNode 4932.YDL014W has degree 347\nNode 4932.YCR031C has degree 346\n"
    }
   ],
   "source": [
    "dgList=[]\n",
    "#print('asd',G.degree)\n",
    "for i in G.degree():\n",
    "    dgList.append([i[1],i[0]])\n",
    "dgList.sort()\n",
    "dgList.reverse()\n",
    "for j in dgList[:10]:\n",
    "    print(\"Node \"+str(j[1])+\" has degree \"+str(j[0])) "
   ]
  },
  {
   "cell_type": "markdown",
   "metadata": {},
   "source": [
    "## Shortest path"
   ]
  },
  {
   "cell_type": "code",
   "execution_count": null,
   "metadata": {},
   "outputs": [],
   "source": [
    "dij=dict(nx.shortest_path_length(G))\n",
    "diList=[]\n",
    "for k in dij:\n",
    "    di=np.average(list(dict(dij[k]).values()))\n",
    "    diList.append([di,k])\n",
    "\n",
    "diList.sort()\n",
    "print(\"Top 10 nodes with shortest <d_i>:\\n\")\n",
    "for i in diList[:10]:\n",
    "    print(\"\\t Node i=\",i[1],\" has <d_i>=\",i[0])"
   ]
  },
  {
   "cell_type": "markdown",
   "metadata": {},
   "source": [
    "## Betweeness centrality"
   ]
  },
  {
   "cell_type": "code",
   "execution_count": null,
   "metadata": {},
   "outputs": [],
   "source": [
    "nx.betweenness_centrality(G);"
   ]
  },
  {
   "cell_type": "code",
   "execution_count": null,
   "metadata": {},
   "outputs": [],
   "source": [
    "nx.betweenness_centrality(G_randomized);"
   ]
  },
  {
   "cell_type": "markdown",
   "metadata": {},
   "source": [
    "## Eigenvector"
   ]
  },
  {
   "cell_type": "code",
   "execution_count": null,
   "metadata": {},
   "outputs": [],
   "source": [
    "nx.eigenvector_centrality(G);"
   ]
  },
  {
   "cell_type": "code",
   "execution_count": null,
   "metadata": {},
   "outputs": [],
   "source": [
    "nx.eigenvector_centrality(G_randomized);"
   ]
  },
  {
   "cell_type": "code",
   "execution_count": null,
   "metadata": {},
   "outputs": [],
   "source": [
    "measuresNames=[\"Degree\",\"Eigenvector\",\"Katz\",\"Page Rank\",\"Betweeness\"]\n",
    "listMeasures = [dict(nx.degree(G)),nx.eigenvector_centrality_numpy(G),nx.katz_centrality_numpy(G),nx.pagerank(G),nx.betweenness_centrality(G)]\n",
    "\n",
    "for idx,dictMeasure in enumerate(listMeasures):\n",
    "    top10 = [[dictMeasure[k],k] for k in dictMeasure.keys()] # Choose the 10 largest values\n",
    "    top10.sort(reverse=True)\n",
    "    print(\"\\n Centrality Measure:\",measuresNames[idx])\n",
    "    for idx,pair in enumerate(top10[:10]):\n",
    "        print(str(idx+1),\": \\t is node \",pair[1],\" with value:\\t\",pair[0])"
   ]
  },
  {
   "cell_type": "code",
   "execution_count": null,
   "metadata": {},
   "outputs": [],
   "source": [
    "measuresNames=[\"Degree\",\"Eigenvector\",\"Katz\",\"Page Rank\",\"Betweeness\"]\n",
    "listMeasures = [dict(nx.degree(G_randomized)),nx.eigenvector_centrality_numpy(G_randomized),nx.katz_centrality_numpy(G_randomized),nx.pagerank(G_randomized),nx.betweenness_centrality(G_randomized)]\n",
    "\n",
    "for idx,dictMeasure in enumerate(listMeasures):\n",
    "    top10 = [[dictMeasure[k],k] for k in dictMeasure.keys()] # Choose the 10 largest values\n",
    "    top10.sort(reverse=True)\n",
    "    print(\"\\n Centrality Measure:\",measuresNames[idx])\n",
    "    for idx,pair in enumerate(top10[:10]):\n",
    "        print(str(idx+1),\": \\t is node \",pair[1],\" with value:\\t\",pair[0])"
   ]
  }
 ],
 "metadata": {
  "kernelspec": {
   "name": "Python 3.8.3 64-bit ('base': conda)",
   "display_name": "Python 3.8.3 64-bit ('base': conda)",
   "metadata": {
    "interpreter": {
     "hash": "b566e3b451251cb171c190776410a3e57b99a72c1434d1db78b1293df745b6ef"
    }
   }
  },
  "language_info": {
   "codemirror_mode": {
    "name": "ipython",
    "version": 3
   },
   "file_extension": ".py",
   "mimetype": "text/x-python",
   "name": "python",
   "nbconvert_exporter": "python",
   "pygments_lexer": "ipython3",
   "version": "3.8.3-final"
  }
 },
 "nbformat": 4,
 "nbformat_minor": 2
}