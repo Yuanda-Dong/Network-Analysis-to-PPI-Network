{
 "metadata": {
  "language_info": {
   "codemirror_mode": {
    "name": "ipython",
    "version": 3
   },
   "file_extension": ".py",
   "mimetype": "text/x-python",
   "name": "python",
   "nbconvert_exporter": "python",
   "pygments_lexer": "ipython3",
   "version": "3.8.3-final"
  },
  "orig_nbformat": 2,
  "kernelspec": {
   "name": "Python 3.8.3 64-bit ('base': conda)",
   "display_name": "Python 3.8.3 64-bit ('base': conda)",
   "metadata": {
    "interpreter": {
     "hash": "b566e3b451251cb171c190776410a3e57b99a72c1434d1db78b1293df745b6ef"
    }
   }
  }
 },
 "nbformat": 4,
 "nbformat_minor": 2,
 "cells": [
  {
   "cell_type": "code",
   "execution_count": 1,
   "metadata": {},
   "outputs": [],
   "source": [
    "%matplotlib inline\n",
    "import networkx as nx\n",
    "import numpy as np\n",
    "import scipy as sp\n",
    "import matplotlib.pyplot as plt\n",
    "from community import community_louvain"
   ]
  },
  {
   "cell_type": "code",
   "execution_count": 2,
   "metadata": {},
   "outputs": [],
   "source": [
    "G=nx.read_weighted_edgelist(\"4932.protein.links.v11.0.txt\",comments=\"#\",nodetype=str)\n",
    "# delete those edges with a combined score of <= thershold_score (small confidence)\n",
    "threshold_score = 700\n",
    "for edge in G.edges: \n",
    "    G.get_edge_data(edge[0],edge[1])\n",
    "    weight = list(G.get_edge_data(edge[0],edge[1]).values())\n",
    "    if(weight[0] <= threshold_score):\n",
    "        G.remove_edge(edge[0],edge[1])\n",
    "largest_cc = max(nx.connected_components(G),key=len)\n",
    "G=G.subgraph(largest_cc).copy()"
   ]
  },
  {
   "cell_type": "code",
   "execution_count": 336,
   "metadata": {},
   "outputs": [
    {
     "output_type": "stream",
     "name": "stdout",
     "text": [
      "Node 4932.YLR167W has degree 481\nNode 4932.YKR094C has degree 463\nNode 4932.YLL039C has degree 409\nNode 4932.YNL178W has degree 384\nNode 4932.YKL009W has degree 384\nNode 4932.YJR123W has degree 367\nNode 4932.YGL123W has degree 354\nNode 4932.YDR064W has degree 352\nNode 4932.YDL014W has degree 347\nNode 4932.YCR031C has degree 346\nNode 4932.YOL127W has degree 340\nNode 4932.YLR009W has degree 340\nNode 4932.YOR063W has degree 335\nNode 4932.YBR181C has degree 334\nNode 4932.YEL026W has degree 332\nNode 4932.YOR096W has degree 330\nNode 4932.YPL081W has degree 329\nNode 4932.YNL002C has degree 328\nNode 4932.YER126C has degree 328\nNode 4932.YBR048W has degree 327\nNode 4932.YMR213W has degree 326\nNode 4932.YLR340W has degree 326\nNode 4932.YJR145C has degree 325\nNode 4932.YPL090C has degree 324\nNode 4932.YGL103W has degree 322\nNode 4932.YLR441C has degree 318\nNode 4932.YGR214W has degree 317\nNode 4932.YMR229C has degree 316\nNode 4932.YFR031C-A has degree 316\nNode 4932.YBR189W has degree 316\nNode 4932.YOR272W has degree 314\nNode 4932.YER102W has degree 314\nNode 4932.YPL131W has degree 313\nNode 4932.YGR103W has degree 312\nNode 4932.YOR310C has degree 311\nNode 4932.YDR025W has degree 310\nNode 4932.YKL180W has degree 308\nNode 4932.YDR101C has degree 308\nNode 4932.YFL039C has degree 307\nNode 4932.YLR197W has degree 305\nNode 4932.YJL191W has degree 304\nNode 4932.YHR203C has degree 304\nNode 4932.YMR143W has degree 301\nNode 4932.YMR049C has degree 300\nNode 4932.YIL018W has degree 300\nNode 4932.YDL136W has degree 300\nNode 4932.YNL110C has degree 299\nNode 4932.YML026C has degree 299\nNode 4932.YML063W has degree 297\nNode 4932.YBL072C has degree 297\nNode 4932.YDR418W has degree 296\nNode 4932.YGR118W has degree 294\nNode 4932.YPL211W has degree 293\nNode 4932.YNL096C has degree 290\nNode 4932.YJL177W has degree 290\nNode 4932.YMR116C has degree 286\nNode 4932.YJL190C has degree 285\nNode 4932.YDL191W has degree 285\nNode 4932.YBR160W has degree 285\nNode 4932.YHR148W has degree 284\nNode 4932.YPL093W has degree 283\nNode 4932.YJR113C has degree 283\nNode 4932.YDR450W has degree 283\nNode 4932.YLR344W has degree 282\nNode 4932.YIL148W has degree 282\nNode 4932.YPR132W has degree 281\nNode 4932.YKR081C has degree 281\nNode 4932.YER056C-A has degree 279\nNode 4932.YDR091C has degree 279\nNode 4932.YMR290C has degree 278\nNode 4932.YCL054W has degree 277\nNode 4932.YOR167C has degree 276\nNode 4932.YOL077C has degree 276\nNode 4932.YLR029C has degree 276\nNode 4932.YHL015W has degree 276\nNode 4932.YBL092W has degree 276\nNode 4932.YGL135W has degree 275\nNode 4932.YOL040C has degree 274\nNode 4932.YNL061W has degree 274\nNode 4932.YIL133C has degree 274\nNode 4932.YDL208W has degree 273\nNode 4932.YHR052W has degree 272\nNode 4932.YBL087C has degree 272\nNode 4932.YIL069C has degree 270\nNode 4932.YPL178W has degree 269\nNode 4932.YOR294W has degree 269\nNode 4932.YGL147C has degree 269\nNode 4932.YPR102C has degree 268\nNode 4932.YDL060W has degree 268\nNode 4932.YAL035W has degree 268\nNode 4932.YKL172W has degree 267\nNode 4932.YGL030W has degree 267\nNode 4932.YBR031W has degree 267\nNode 4932.YOR206W has degree 266\nNode 4932.YLR325C has degree 266\nNode 4932.YER006W has degree 265\nNode 4932.YDR496C has degree 265\nNode 4932.YMR242C has degree 264\nNode 4932.YCR057C has degree 264\nNode 4932.YBR247C has degree 264\n"
     ]
    }
   ],
   "source": [
    "dgList=[]\n",
    "#print('asd',G.degree)\n",
    "for i in G.degree():\n",
    "    dgList.append([i[1],i[0]])\n",
    "dgList.sort()\n",
    "dgList.reverse()\n",
    "for j in dgList[:100]:\n",
    "    print(\"Node \"+str(j[1])+\" has degree \"+str(j[0])) "
   ]
  },
  {
   "cell_type": "code",
   "execution_count": 20,
   "metadata": {},
   "outputs": [
    {
     "output_type": "stream",
     "name": "stdout",
     "text": [
      "4932.YLR167W 481\n4932.YKR094C 463\n4932.YLL039C 409\n4932.YFL039C 307\n4932.YNL031C 244\n4932.YDL132W 190\n4932.YBR088C 183\n4932.YJL194W 174\n4932.YPL209C 172\n4932.YBR010W 170\n4932.YAR007C 169\n4932.YPR119W 169\n4932.YGR218W 167\n4932.YNL262W 164\n4932.YER171W 162\n4932.YER095W 160\n4932.YEL061C 159\n4932.YLR274W 155\n4932.YBR136W 149\n4932.YML032C 147\n4932.YER133W 147\n4932.YJL030W 146\n4932.YNL312W 144\n4932.YLR229C 144\n4932.YDR225W 142\n4932.YDR224C 140\n4932.YPL240C 138\n4932.YBL023C 138\n4932.YEL032W 138\n4932.YGR108W 138\n4932.YPL153C 137\n4932.YPR019W 135\n4932.YBR202W 134\n4932.YDR328C 133\n4932.YDR460W 132\n4932.YKL113C 131\n4932.YMR190C 131\n4932.YPR120C 131\n4932.YPR175W 131\n4932.YBR009C 128\n4932.YOR261C 128\n4932.YMR001C 128\n4932.YIL144W 128\n4932.YBL003C 127\n4932.YOL012C 127\n4932.YGL201C 127\n4932.YNL030W 126\n4932.YGR188C 123\n4932.YMR186W 122\n4932.YJR090C 121\n4932.YDL108W 121\n4932.YNL102W 120\n4932.YBL016W 119\n4932.YGL003C 119\n4932.YLR103C 119\n4932.YDL028C 119\n4932.YBL002W 114\n4932.YDL155W 114\n4932.YPR025C 112\n4932.YDL102W 111\n4932.YGR040W 111\n4932.YBL088C 110\n4932.YKL145W 110\n4932.YBR135W 107\n4932.YGR109C 105\n4932.YDR217C 105\n4932.YGL048C 102\n4932.YLR210W 102\n4932.YGL116W 102\n4932.YGL011C 99\n4932.YOR033C 98\n4932.YNL088W 98\n4932.YGR098C 97\n4932.YGR232W 97\n4932.YFR004W 97\n4932.YBL063W 96\n4932.YOR026W 96\n4932.YBR109C 95\n4932.YMR284W 95\n4932.YBL041W 95\n4932.YDR394W 91\n4932.YHR200W 91\n4932.YNL271C 91\n4932.YLR045C 89\n4932.YGR253C 88\n4932.YOR358W 87\n4932.YHR164C 86\n4932.YBL021C 86\n4932.YML092C 86\n4932.YLR086W 86\n4932.YMR314W 86\n4932.YHR027C 86\n4932.YJL074C 86\n4932.YMR036C 86\n4932.YPL031C 85\n4932.YOR362C 85\n4932.YHL022C 84\n4932.YDR130C 84\n4932.YIR008C 84\n4932.YFR028C 83\n4932.YER012W 83\n4932.YJL092W 82\n4932.YBL035C 82\n4932.YOR117W 82\n4932.YGR135W 82\n4932.YIL075C 82\n4932.YFR052W 82\n4932.YDL007W 82\n4932.YPL269W 81\n4932.YPR108W 81\n4932.YDL097C 81\n4932.YPR103W 79\n4932.YKL045W 79\n4932.YOL038W 79\n4932.YPR141C 79\n4932.YOR259C 79\n4932.YDL147W 78\n4932.YNL025C 78\n4932.YFR050C 78\n4932.YDR386W 78\n4932.YDR054C 78\n4932.YJL187C 76\n4932.YJL013C 76\n4932.YER094C 75\n4932.YBR060C 75\n4932.YKL139W 75\n4932.YER021W 75\n4932.YNL261W 75\n4932.YDR427W 73\n4932.YOR157C 72\n4932.YDR146C 70\n4932.YOR058C 70\n4932.YJL026W 69\n4932.YIL150C 69\n4932.YDL047W 69\n4932.YJL001W 68\n4932.YOR073W 68\n4932.YPL256C 68\n4932.YNL064C 67\n4932.YHR030C 67\n4932.YPL155C 67\n4932.YER051W 67\n4932.YDL003W 67\n4932.YIL007C 67\n4932.YBL084C 66\n4932.YDL017W 65\n4932.YJL090C 64\n4932.YFL009W 63\n4932.YGL190C 63\n4932.YDR052C 61\n4932.YML065W 61\n4932.YPR162C 60\n4932.YGR225W 59\n4932.YGL073W 58\n4932.YLR182W 57\n4932.YLR131C 56\n4932.YOR127W 54\n4932.YER177W 53\n4932.YHR166C 53\n4932.YPR161C 53\n4932.YOR098C 52\n4932.YKL022C 52\n4932.YER111C 51\n4932.YMR165C 50\n4932.YDR379W 50\n4932.YPL204W 50\n4932.YDL220C 49\n4932.YDR099W 49\n4932.YDR075W 49\n4932.YFR027W 48\n4932.YMR043W 48\n4932.YAL041W 47\n4932.YLR079W 47\n4932.YDR129C 47\n4932.YMR055C 46\n4932.YGL240W 46\n4932.YBR133C 45\n4932.YKL185W 45\n4932.YDR113C 45\n4932.YNL309W 45\n4932.YJL128C 44\n4932.YJL006C 44\n4932.YAL040C 43\n4932.YLR183C 43\n4932.YKR089C 42\n4932.YOL001W 42\n4932.YMR032W 42\n4932.YLR310C 41\n4932.YKR054C 41\n4932.YNL172W 39\n4932.YPL242C 38\n4932.YGL097W 38\n4932.YPL187W 38\n4932.YML064C 38\n4932.YOR014W 38\n4932.YAL024C 37\n4932.YER041W 37\n4932.YDR173C 37\n4932.YJL157C 36\n4932.YLR319C 36\n4932.YHR118C 35\n4932.YLL002W 35\n4932.YJL106W 35\n4932.YDL056W 34\n4932.YDR017C 34\n4932.YDL230W 33\n4932.YFL029C 33\n4932.YJL076W 33\n4932.YDR082W 33\n4932.YBR020W 32\n4932.YLR226W 32\n4932.YKL048C 32\n4932.YHR107C 32\n4932.YML112W 32\n4932.YGR233C 31\n4932.YKL108W 31\n4932.YKL042W 31\n4932.YDR285W 31\n4932.YFL033C 30\n4932.YIL106W 30\n4932.YPL127C 30\n4932.YBR102C 29\n4932.YLR314C 29\n4932.YNL289W 29\n4932.YLR102C 29\n4932.YGL175C 29\n4932.YDR260C 28\n4932.YDR499W 28\n4932.YMR199W 28\n4932.YDR103W 28\n4932.YIL101C 28\n4932.YGL113W 28\n4932.YNL161W 27\n4932.YHR071W 26\n4932.YOR208W 26\n4932.YLR425W 26\n4932.YDL225W 25\n4932.YKL101W 25\n4932.YJR076C 25\n4932.YBR038W 24\n4932.YBR156C 24\n4932.YIL050W 24\n4932.YKL161C 24\n4932.YER059W 23\n4932.YDL127W 23\n4932.YMR313C 23\n4932.YPL219W 22\n4932.YGL134W 22\n4932.YGL215W 22\n4932.YER075C 22\n4932.YMR273C 21\n4932.YOR083W 21\n4932.YDL179W 21\n4932.YNL068C 21\n4932.YDR168W 21\n4932.YML109W 18\n4932.YML027W 18\n4932.YIL131C 18\n4932.YLR133W 18\n4932.YLL003W 17\n4932.YER167W 16\n4932.YOR372C 16\n4932.YAL019W 14\n4932.YAR018C 14\n4932.YNR009W 14\n4932.YLR457C 14\n4932.YFL034C-B 14\n4932.YNL197C 13\n4932.YDR451C 13\n4932.YCR065W 13\n4932.YCL063W 13\n4932.YKL043W 13\n4932.YKR090W 11\n4932.YNL152W 10\n4932.YKR091W 10\n4932.YPL267W 10\n4932.YOR066W 7\n4932.YNL157W 7\n4932.YDR501W 6\n4932.YML119W 5\n4932.YKR077W 5\n4932.YLR187W 4\n4932.YNL042W 4\n4932.YGL096W 3\n4932.YER032W 3\n"
     ]
    }
   ],
   "source": [
    "node_target = '4932.YBR160W' \n",
    "l=[]\n",
    "for neighbor in G.neighbors(node_target):\n",
    "    l.append(neighbor) \n",
    "sorted_l = sorted(l, key=lambda node: G.degree()[node],reverse=True) \n",
    "for node in sorted_l:\n",
    "    print (node,G.degree()[node])"
   ]
  },
  {
   "cell_type": "code",
   "execution_count": 359,
   "metadata": {},
   "outputs": [],
   "source": [
    "G_exp = G.copy()"
   ]
  },
  {
   "cell_type": "code",
   "execution_count": 5,
   "metadata": {
    "tags": []
   },
   "outputs": [
    {
     "output_type": "error",
     "ename": "NameError",
     "evalue": "name 'dgList' is not defined",
     "traceback": [
      "\u001b[0;31m---------------------------------------------------------------------------\u001b[0m",
      "\u001b[0;31mNameError\u001b[0m                                 Traceback (most recent call last)",
      "\u001b[0;32m<ipython-input-5-c33166902ed2>\u001b[0m in \u001b[0;36m<module>\u001b[0;34m\u001b[0m\n\u001b[1;32m      7\u001b[0m \u001b[0;31m# print(nx.degree(unfrozen_graph))\u001b[0m\u001b[0;34m\u001b[0m\u001b[0;34m\u001b[0m\u001b[0;34m\u001b[0m\u001b[0m\n\u001b[1;32m      8\u001b[0m \u001b[0;31m# G_exp = G.copy()\u001b[0m\u001b[0;34m\u001b[0m\u001b[0;34m\u001b[0m\u001b[0;34m\u001b[0m\u001b[0m\n\u001b[0;32m----> 9\u001b[0;31m \u001b[0mdg\u001b[0m \u001b[0;34m=\u001b[0m \u001b[0;34m[\u001b[0m\u001b[0mx\u001b[0m\u001b[0;34m[\u001b[0m\u001b[0;36m1\u001b[0m\u001b[0;34m]\u001b[0m \u001b[0;32mfor\u001b[0m \u001b[0mx\u001b[0m \u001b[0;32min\u001b[0m \u001b[0mdgList\u001b[0m\u001b[0;34m]\u001b[0m\u001b[0;34m\u001b[0m\u001b[0;34m\u001b[0m\u001b[0m\n\u001b[0m\u001b[1;32m     10\u001b[0m \u001b[0;32mwhile\u001b[0m \u001b[0;32mTrue\u001b[0m\u001b[0;34m:\u001b[0m\u001b[0;34m\u001b[0m\u001b[0;34m\u001b[0m\u001b[0m\n\u001b[1;32m     11\u001b[0m     \u001b[0mpoints\u001b[0m \u001b[0;34m=\u001b[0m \u001b[0mlist\u001b[0m\u001b[0;34m(\u001b[0m\u001b[0mnx\u001b[0m\u001b[0;34m.\u001b[0m\u001b[0marticulation_points\u001b[0m\u001b[0;34m(\u001b[0m\u001b[0mG_exp\u001b[0m\u001b[0;34m)\u001b[0m\u001b[0;34m)\u001b[0m\u001b[0;34m\u001b[0m\u001b[0;34m\u001b[0m\u001b[0m\n",
      "\u001b[0;31mNameError\u001b[0m: name 'dgList' is not defined"
     ]
    }
   ],
   "source": [
    "# print(G.nodes())\n",
    "# G.remove_node('4932.YDR288W')\n",
    "# unfrozen_graph = nx.Graph(G)\n",
    "# print(unfrozen_graph.degree())\n",
    "# print(unfrozen_graph.degree())\n",
    "# unfrozen_graph = unfrozen_graph.remove_node('4932.YLR167W')\n",
    "# print(nx.degree(unfrozen_graph))\n",
    "# G_exp = G.copy()\n",
    "dg = [x[1] for x in dgList]\n",
    "dic = G.degree() \n",
    "while True:\n",
    "    points = list(nx.articulation_points(G_exp))\n",
    "    for node in dg: \n",
    "        if (node not in points) and (node in G_exp):\n",
    "            G_exp.remove_node(node)\n",
    "            print(node,dic[node])\n",
    "            break\n",
    "    if node == dg[-1]:\n",
    "        break"
   ]
  },
  {
   "cell_type": "code",
   "execution_count": 3,
   "metadata": {},
   "outputs": [
    {
     "output_type": "stream",
     "name": "stdout",
     "text": [
      "# of partitions for Louvain modularity = 17\n"
     ]
    }
   ],
   "source": [
    "partLouvain = community_louvain.best_partition(G)\n",
    "number_of_communities = max(list(partLouvain.values()))+1\n",
    "print('# of partitions for Louvain modularity =',number_of_communities)"
   ]
  },
  {
   "cell_type": "code",
   "execution_count": 6,
   "metadata": {},
   "outputs": [
    {
     "output_type": "stream",
     "name": "stdout",
     "text": [
      "The target protein CDC28 belongs to community # 3\n"
     ]
    }
   ],
   "source": [
    "node_target = '4932.YBR160W' # CDC28\n",
    "print('The target protein CDC28 belongs to community #',partLouvain[node_target])"
   ]
  },
  {
   "cell_type": "code",
   "execution_count": 5,
   "metadata": {},
   "outputs": [],
   "source": [
    "# define the communities as separate graphs\n",
    "\n",
    "#subgraph dict with community number as key and subgraph as value\n",
    "G_cluster = {}\n",
    "\n",
    "#node dict with community number as key and node as value\n",
    "nodes = {}\n",
    "for i in range(number_of_communities):\n",
    "    nodes[i] = []\n",
    "\n",
    "for name, community in partLouvain.items():\n",
    "    nodes[community].append(name)\n",
    "    \n",
    "for key in nodes.keys():\n",
    "    G_cluster[key] = G.subgraph(nodes[key])"
   ]
  },
  {
   "cell_type": "code",
   "execution_count": 17,
   "metadata": {},
   "outputs": [
    {
     "output_type": "stream",
     "name": "stdout",
     "text": [
      "771\n"
     ]
    }
   ],
   "source": [
    "print(len(G_cluster[3].nodes()))\n",
    "sub = G_cluster[3]"
   ]
  },
  {
   "cell_type": "code",
   "execution_count": 15,
   "metadata": {
    "tags": []
   },
   "outputs": [
    {
     "output_type": "stream",
     "name": "stdout",
     "text": [
      "Node 4932.YBR160W has degree 143\nNode 4932.YPL209C has degree 119\nNode 4932.YLL039C has degree 114\nNode 4932.YPR119W has degree 111\nNode 4932.YDL132W has degree 107\nNode 4932.YDR328C has degree 104\nNode 4932.YJR090C has degree 102\nNode 4932.YIL046W has degree 99\nNode 4932.YER133W has degree 99\nNode 4932.YGR108W has degree 94\nNode 4932.YJL030W has degree 92\nNode 4932.YEL061C has degree 90\nNode 4932.YPR120C has degree 89\nNode 4932.YGR040W has degree 89\nNode 4932.YGL003C has degree 89\nNode 4932.YBL016W has degree 89\nNode 4932.YGR232W has degree 87\nNode 4932.YDR130C has degree 83\nNode 4932.YGR188C has degree 80\nNode 4932.YDL028C has degree 80\nNode 4932.YDL155W has degree 79\nNode 4932.YBR135W has degree 79\nNode 4932.YHR200W has degree 78\nNode 4932.YER116C has degree 78\nNode 4932.YFR004W has degree 77\nNode 4932.YLR045C has degree 76\nNode 4932.YGR109C has degree 76\nNode 4932.YPL269W has degree 73\nNode 4932.YLR362W has degree 73\nNode 4932.YOR195W has degree 72\nNode 4932.YKL145W has degree 72\nNode 4932.YOR026W has degree 71\nNode 4932.YIL144W has degree 71\nNode 4932.YCL029C has degree 71\nNode 4932.YOR117W has degree 70\nNode 4932.YLR210W has degree 70\nNode 4932.YGR135W has degree 70\nNode 4932.YFR052W has degree 70\nNode 4932.YER012W has degree 70\nNode 4932.YDL147W has degree 70\nNode 4932.YHR027C has degree 69\nNode 4932.YGL048C has degree 69\nNode 4932.YPR108W has degree 68\nNode 4932.YPR103W has degree 68\nNode 4932.YER021W has degree 68\nNode 4932.YOR259C has degree 67\nNode 4932.YDL097C has degree 67\nNode 4932.YDL007W has degree 67\nNode 4932.YOR261C has degree 66\nNode 4932.YOL069W has degree 66\nNode 4932.YOL038W has degree 66\nNode 4932.YMR001C has degree 66\nNode 4932.YIL075C has degree 66\nNode 4932.YGR253C has degree 66\nNode 4932.YDR427W has degree 66\nNode 4932.YDR394W has degree 66\nNode 4932.YML092C has degree 65\nNode 4932.YER094C has degree 65\nNode 4932.YOR362C has degree 64\nNode 4932.YOR157C has degree 64\nNode 4932.YFR050C has degree 64\nNode 4932.YER125W has degree 64\nNode 4932.YMR314W has degree 63\nNode 4932.YJL001W has degree 63\nNode 4932.YGL011C has degree 63\nNode 4932.YBL041W has degree 63\nNode 4932.YOR073W has degree 62\nNode 4932.YIL007C has degree 62\nNode 4932.YGL116W has degree 62\nNode 4932.YFR010W has degree 61\nNode 4932.YMR036C has degree 60\nNode 4932.YDL126C has degree 59\nNode 4932.YPL268W has degree 58\nNode 4932.YPL018W has degree 58\nNode 4932.YGL086W has degree 58\nNode 4932.YMR117C has degree 57\nNode 4932.YIR010W has degree 57\nNode 4932.YGR140W has degree 57\nNode 4932.YGL190C has degree 57\nNode 4932.YBR107C has degree 57\nNode 4932.YOR339C has degree 56\nNode 4932.YJR089W has degree 56\nNode 4932.YGL093W has degree 56\nNode 4932.YER018C has degree 56\nNode 4932.YDR318W has degree 56\nNode 4932.YDR254W has degree 56\nNode 4932.YBR082C has degree 56\nNode 4932.YPR046W has degree 55\nNode 4932.YJR112W has degree 55\nNode 4932.YDR477W has degree 55\nNode 4932.YBR211C has degree 55\nNode 4932.YAL034W-A has degree 55\nNode 4932.YMR168C has degree 54\nNode 4932.YLR381W has degree 54\nNode 4932.YGR179C has degree 54\nNode 4932.YOR191W has degree 53\nNode 4932.YMR094W has degree 53\nNode 4932.YLR113W has degree 53\nNode 4932.YKL052C has degree 53\nNode 4932.YJR135C has degree 53\n"
     ]
    }
   ],
   "source": [
    "dgList=[]\n",
    "#print('asd',G.degree)\n",
    "for i in sub.degree():\n",
    "    dgList.append([i[1],i[0]])\n",
    "dgList.sort()\n",
    "dgList.reverse()\n",
    "for j in dgList[:100]:\n",
    "    print(\"Node \"+str(j[1])+\" has degree \"+str(j[0])) "
   ]
  },
  {
   "cell_type": "code",
   "execution_count": null,
   "metadata": {},
   "outputs": [],
   "source": [
    "l1 = G.neighbors(node_target)\n",
    "l2 = G.neighbors('')"
   ]
  }
 ]
}