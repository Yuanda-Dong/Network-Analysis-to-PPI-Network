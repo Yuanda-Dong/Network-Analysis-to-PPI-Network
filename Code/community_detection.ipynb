{
 "metadata": {
  "language_info": {
   "codemirror_mode": {
    "name": "ipython",
    "version": 3
   },
   "file_extension": ".py",
   "mimetype": "text/x-python",
   "name": "python",
   "nbconvert_exporter": "python",
   "pygments_lexer": "ipython3",
   "version": "3.8.3-final"
  },
  "orig_nbformat": 2,
  "kernelspec": {
   "name": "python3",
   "display_name": "Python 3"
  }
 },
 "nbformat": 4,
 "nbformat_minor": 2,
 "cells": [
  {
   "cell_type": "code",
   "execution_count": 1,
   "metadata": {},
   "outputs": [],
   "source": [
    "%matplotlib inline\n",
    "import sys\n",
    "import matplotlib.pyplot as plt\n",
    "import matplotlib.cm as cm\n",
    "import numpy as np\n",
    "import scipy as sp\n",
    "\n",
    "# Data reading\n",
    "import pandas as pd\n",
    "import csv\n",
    "import pickle\n",
    "\n",
    "# Ignore warnings\n",
    "import warnings\n",
    "warnings.filterwarnings('ignore')\n",
    "\n",
    "# networkx\n",
    "\n",
    "import networkx as nx\n",
    "from networkx.algorithms import community\n",
    "from networkx.algorithms.community import greedy_modularity_communities\n",
    "from networkx.algorithms.community import k_clique_communities\n",
    "\n",
    "from community import community_louvain\n",
    "\n",
    "import scipy.sparse.linalg"
   ]
  },
  {
   "cell_type": "code",
   "execution_count": 2,
   "metadata": {},
   "outputs": [
    {
     "output_type": "stream",
     "name": "stdout",
     "text": [
      "number of nodes of G: 6574\nnumber of edges of G: 922983\n"
     ]
    }
   ],
   "source": [
    "# Read networks from file\n",
    "#G_CDC28=nx.read_weighted_edgelist(\"./../Data/4932_protein_links_v11_0.txt\",comments=\"#\",nodetype=str)\n",
    "G_CDC28=nx.read_weighted_edgelist(\"4932.protein.links.v11.0.txt\",comments=\"#\",nodetype=str)\n",
    "\n",
    "print('number of nodes of G:',nx.number_of_nodes(G_CDC28))\n",
    "print('number of edges of G:',nx.number_of_edges(G_CDC28))"
   ]
  },
  {
   "cell_type": "code",
   "execution_count": 3,
   "metadata": {},
   "outputs": [
    {
     "output_type": "stream",
     "name": "stdout",
     "text": [
      "The target node has 1401 links\n"
     ]
    }
   ],
   "source": [
    "node_target = '4932.YBR160W' #CDC28\n",
    "print('The target node has %i links'%G_CDC28.degree(node_target))"
   ]
  },
  {
   "cell_type": "code",
   "execution_count": 4,
   "metadata": {},
   "outputs": [],
   "source": [
    "# Choose the network to be analyzed below\n",
    "G0=G_CDC28\n",
    "# delete those edges with a combined score of <= thershold_score (small confidence)\n",
    "threshold_score = 700\n",
    "#threshold_score = 0\n",
    "for edge in G0.edges: \n",
    "    G0.get_edge_data(edge[0],edge[1])\n",
    "    weight = list(G0.get_edge_data(edge[0],edge[1]).values())\n",
    "    #print('qwe',weight[0])\n",
    "    if(weight[0] <= threshold_score):\n",
    "        G0.remove_edge(edge[0],edge[1])\n",
    "# restrict to largest connected component\n",
    "largest_cc = max(nx.connected_components(G0),key=len)\n",
    "G0=G0.subgraph(largest_cc)"
   ]
  },
  {
   "cell_type": "code",
   "execution_count": 5,
   "metadata": {},
   "outputs": [
    {
     "output_type": "stream",
     "name": "stdout",
     "text": [
      "# of partitions for Louvain modularity = 29\n"
     ]
    }
   ],
   "source": [
    "partLouvain = community_louvain.best_partition(G0,resolution=0.5,random_state=1)\n",
    "number_of_communities = max(list(partLouvain.values()))+1\n",
    "print('# of partitions for Louvain modularity =',number_of_communities)"
   ]
  },
  {
   "cell_type": "code",
   "execution_count": 6,
   "metadata": {},
   "outputs": [
    {
     "output_type": "stream",
     "name": "stdout",
     "text": [
      "The target protein CDC28 belongs to community # 3\n"
     ]
    }
   ],
   "source": []
  },
  {
   "cell_type": "code",
   "execution_count": 7,
   "metadata": {},
   "outputs": [],
   "source": [
    "# define the communities as separate graphs\n",
    "\n",
    "#subgraph dict with community number as key and subgraph as value\n",
    "G_cluster = {}\n",
    "\n",
    "#node dict with community number as key and node as value\n",
    "nodes = {}\n",
    "for i in range(number_of_communities):\n",
    "    nodes[i] = []\n",
    "\n",
    "for name, community in partLouvain.items():\n",
    "    nodes[community].append(name)\n",
    "    \n",
    "for key in nodes.keys():\n",
    "    G_cluster[key] = G0.subgraph(nodes[key])"
   ]
  },
  {
   "cell_type": "code",
   "execution_count": 22,
   "metadata": {
    "tags": []
   },
   "outputs": [
    {
     "output_type": "stream",
     "name": "stdout",
     "text": [
      "The target protein CDC28 belongs to community # 3\n\ncommunity: 0 of size 9\n['4932.Q0017', '4932.Q0182', '4932.Q0092', '4932.Q0297', '4932.Q0032', '4932.Q0010', '4932.Q0143', '4932.YHR021W-A', '4932.Q0142']...\n\ncommunity: 1 of size 620\n['4932.YBL056W', '4932.YNL084C', '4932.YMR217W', '4932.YHR107C', '4932.YDR063W', '4932.YBL007C', '4932.YKR075C', '4932.YPR085C', '4932.YKR055W', '4932.YKL109W']...\n\ncommunity: 2 of size 221\n['4932.YMR194W', '4932.YJL189W', '4932.YDR172W', '4932.YER019C-A', '4932.YNL096C', '4932.YLR192C', '4932.YIL052C', '4932.YGR054W', '4932.YOR361C', '4932.YDR086C']...\n\ncommunity: 3 of size 300\n['4932.YFR052W', '4932.YGR269W', '4932.YNL311C', '4932.YKL145W', '4932.YDR113C', '4932.YDR451C', '4932.YIL075C', '4932.YNL155W', '4932.YPR109W', '4932.YKR017C']...\n\ncommunity: 4 of size 438\n['4932.YGL107C', '4932.YOR221C', '4932.YNL037C', '4932.YKL148C', '4932.YNL052W', '4932.YGR112W', '4932.YMR228W', '4932.YIR020C-B', '4932.YNR001C', '4932.YPL189C-A']...\n\ncommunity: 5 of size 177\n['4932.YKR062W', '4932.YOR262W', '4932.YJR035W', '4932.YML009C-A', '4932.YJL006C', '4932.YGR005C', '4932.YNL025C', '4932.YBR198C', '4932.YBR253W', '4932.YDR404C']...\n\ncommunity: 6 of size 100\n['4932.YKL205W', '4932.YBR077C', '4932.YDR395W', '4932.YEL062W', '4932.YDR458C', '4932.YGL097W', '4932.YGL247W', '4932.YER107C', '4932.YER105C', '4932.YKR044W']...\n\ncommunity: 7 of size 300\n['4932.YOR033C', '4932.YDR015C', '4932.YGL033W', '4932.YBR098W', '4932.YNL261W', '4932.YLR320W', '4932.YGL183C', '4932.YHR014W', '4932.YNL312W', '4932.YJL195C']...\n\ncommunity: 8 of size 299\n['4932.YJL134W', '4932.YFL030W', '4932.YDR079W', '4932.YNL169C', '4932.YOR227W', '4932.YMR026C', '4932.YNL013C', '4932.YIR036W-A', '4932.YML125C', '4932.YNL130C']...\n\ncommunity: 9 of size 142\n['4932.YPL050C', '4932.YIL049W', '4932.YBR004C', '4932.YJR061W', '4932.YDR245W', '4932.YJL127C-B', '4932.YER001W', '4932.YCR097W-A', '4932.YGL038C', '4932.YNL024C-A']...\n\ncommunity: 10 of size 248\n['4932.YER035W', '4932.YCR093W', '4932.YAL017W', '4932.YIL061C', '4932.YHR127W', '4932.YPR042C', '4932.YLR145W', '4932.YJR050W', '4932.YAR008W', '4932.YOL045W']...\n\ncommunity: 11 of size 109\n['4932.YNL153C', '4932.YOR305W', '4932.YOL033W', '4932.YLR382C', '4932.YDR023W', '4932.YBR199W', '4932.YBR121C-A', '4932.YKR095W-A', '4932.YFR009W', '4932.YBR241C']...\n\ncommunity: 12 of size 281\n['4932.YDR007W', '4932.YDR234W', '4932.YFR025C', '4932.YLR146C', '4932.YDR020C', '4932.YDR009W', '4932.YDR530C', '4932.YNL191W', '4932.YER086W', '4932.YKL106W']...\n\ncommunity: 13 of size 383\n['4932.YKL086W', '4932.YDL168W', '4932.YDL243C', '4932.YPL091W', '4932.YBR297W', '4932.YHR174W', '4932.YHR163W', '4932.YBR214W', '4932.YLR149C', '4932.YMR081C']...\n\ncommunity: 14 of size 157\n['4932.YLR023C', '4932.YPL059W', '4932.YMR021C', '4932.YPR048W', '4932.YFL050C', '4932.YNR058W', '4932.YLR214W', '4932.YIL023C', '4932.YOR226C', '4932.YER064C']...\n\ncommunity: 15 of size 467\n['4932.YFR019W', '4932.YHL017W', '4932.YCR107W', '4932.YGL198W', '4932.YEL001C', '4932.YLR305C', '4932.YIL068C', '4932.YHR073W', '4932.YHR110W', '4932.YER074W-A']...\n\ncommunity: 16 of size 222\n['4932.YPR073C', '4932.YOR020C', '4932.YFR006W', '4932.YFR041C', '4932.YPL094C', '4932.YIR004W', '4932.YOR105W', '4932.YER104W', '4932.YPR089W', '4932.YLR216C']...\n\ncommunity: 17 of size 145\n['4932.YBR156C', '4932.YGL061C', '4932.YMR138W', '4932.YER184C', '4932.YLR212C', '4932.YOR265W', '4932.YHL014C', '4932.YGR179C', '4932.YAL024C', '4932.YCR086W']...\n\ncommunity: 18 of size 103\n['4932.YDR535C', '4932.YJR012C', '4932.YMR085W', '4932.YLL044W', '4932.YAL004W', '4932.YER163C', '4932.YMR173W', '4932.YNL319W', '4932.YMR304C-A', '4932.YGL152C']...\n\ncommunity: 19 of size 310\n['4932.YOR201C', '4932.YFR001W', '4932.YPL217C', '4932.YLR074C', '4932.YKL099C', '4932.YLR419W', '4932.YOR287C', '4932.YDR338C', '4932.YPR163C', '4932.YLR051C']...\n\ncommunity: 20 of size 101\n['4932.YGL129C', '4932.YBR282W', '4932.YJL102W', '4932.YCR046C', '4932.YOL114C', '4932.YNL005C', '4932.YKL003C', '4932.YLR439W', '4932.YGR165W', '4932.YNR037C']...\n\ncommunity: 21 of size 221\n['4932.YIL112W', '4932.YHR099W', '4932.YBR112C', '4932.YDR359C', '4932.YLR095C', '4932.YBR089C-A', '4932.YJL081C', '4932.YDR469W', '4932.YGL252C', '4932.YOR141C']...\n\ncommunity: 22 of size 197\n['4932.YHR063C', '4932.YIR011C', '4932.YPL152W', '4932.YDR042C', '4932.YJR093C', '4932.YER057C', '4932.YHR003C', '4932.YDR039C', '4932.YNL027W', '4932.YBR187W']...\n\ncommunity: 23 of size 85\n['4932.YKR035W-A', '4932.YKR021W', '4932.YDL086W', '4932.YLR241W', '4932.YGR122W', '4932.YKL041W', '4932.YER128W', '4932.YDR433W', '4932.YMR154C', '4932.YOR275C']...\n\ncommunity: 24 of size 71\n['4932.YOL047C', '4932.YHR103W', '4932.YGL132W', '4932.YLL057C', '4932.YOL015W', '4932.YMR230W-A', '4932.YFR012W-A', '4932.YDL199C', '4932.YLL054C', '4932.YER038W-A']...\n\ncommunity: 25 of size 217\n['4932.YIR040C', '4932.YOR271C', '4932.YJR150C', '4932.YNL339W-B', '4932.YMR317W', '4932.YEL074W', '4932.YLL064C', '4932.YBL012C', '4932.YNL339W-A', '4932.YLL025W']...\n\ncommunity: 26 of size 33\n['4932.YIL064W', '4932.YJR129C', '4932.YBR261C', '4932.YBR141W-A', '4932.YHL039W', '4932.YDR257C', '4932.YDR198C', '4932.YGL214W', '4932.YOR077W', '4932.YNL092W']...\n\ncommunity: 27 of size 135\n['4932.YPR156C', '4932.YJL219W', '4932.YLR232W', '4932.YGR035C', '4932.YLL063C', '4932.YMR315W', '4932.YMR191W', '4932.YAR031W', '4932.YPR008W', '4932.YBL096C']...\n\ncommunity: 28 of size 8\n['4932.YBR259W', '4932.YBR255W', '4932.YBR197C', '4932.YMR126C', '4932.YKL098W', '4932.YBR266C', '4932.YBR209W', '4932.YPR153W']...\n"
     ]
    }
   ],
   "source": [
    "node_target = '4932.YBR160W' # CDC28\n",
    "print('The target protein CDC28 belongs to community #',partLouvain[node_target])\n",
    "for key,val in G_cluster.items():\n",
    "    print(\"\\ncommunity: \"+str(key)+\" of size \" + str(len(val.nodes())))\n",
    "    out = list(val.nodes())[:10]\n",
    "    print(str(out)+'...')"
   ]
  },
  {
   "cell_type": "code",
   "execution_count": null,
   "metadata": {},
   "outputs": [],
   "source": []
  }
 ]
}